{
 "cells": [
  {
   "cell_type": "markdown",
   "metadata": {
    "id": "H6cQIZr3ElW1"
   },
   "source": [
    "# Разработка решения, которое поможет удержать активность постоянных клиентов."
   ]
  },
  {
   "cell_type": "markdown",
   "metadata": {},
   "source": [
    "Интернет магазин \"В один клик\" занимается продажей разных товаров. В результате отчета о посещении магазина, выяснилось, что число пользователей начало снижаться и это негативно влияет на продажи компании. Было принято решение разработать модель машинного обучения, которая сможет сделать персонализированные предложения для постоянных клиентов магазина и сможет удержать их на сайте.  \n",
    "\n",
    "Сайт предоставил следующие данные для исследования и последующего обучения МО: данные о поведении покупателя на сайте; данные о выручке, которую сайт получает от покупателя; данные о времени, которое пользователь провел на сайте; данные о прибыли, которую магазин получает от каждого покупателя в течения 3 месяца.  \n",
    "\n",
    "Этапы работы:\n",
    "1. Загрузка и предобработка данных;\n",
    "2. Исследовательский анализ данных;\n",
    "3. Корреляционный анализ данных;\n",
    "4. С помощью метода \"пайп-лайн\" проверим различные модели МО и их настройки, для выявления более подходящей для поставленной задачи;\n",
    "5. Анализ важности признаков и сегментация покупателей;\n",
    "6. Общий вывод;"
   ]
  },
  {
   "cell_type": "markdown",
   "metadata": {},
   "source": [
    "## Загрузка данных"
   ]
  },
  {
   "cell_type": "code",
   "execution_count": 2,
   "metadata": {},
   "outputs": [
    {
     "name": "stdout",
     "output_type": "stream",
     "text": [
      "Requirement already satisfied: ipykernel in c:\\users\\user\\appdata\\roaming\\python\\python38\\site-packages (6.29.5)\n",
      "Requirement already satisfied: debugpy>=1.6.5 in c:\\users\\user\\appdata\\roaming\\python\\python38\\site-packages (from ipykernel) (1.8.12)\n",
      "Requirement already satisfied: jupyter-client>=6.1.12 in d:\\programmer\\lib\\site-packages (from ipykernel) (6.1.12)\n",
      "Requirement already satisfied: ipython>=7.23.1 in c:\\users\\user\\appdata\\roaming\\python\\python38\\site-packages (from ipykernel) (8.12.3)\n",
      "Requirement already satisfied: jupyter-core!=5.0.*,>=4.12 in c:\\users\\user\\appdata\\roaming\\python\\python38\\site-packages (from ipykernel) (5.7.2)\n",
      "Requirement already satisfied: psutil in d:\\programmer\\lib\\site-packages (from ipykernel) (5.8.0)\n",
      "Requirement already satisfied: pyzmq>=24 in c:\\users\\user\\appdata\\roaming\\python\\python38\\site-packages (from ipykernel) (26.2.0)\n",
      "Requirement already satisfied: packaging in d:\\programmer\\lib\\site-packages (from ipykernel) (24.2)\n",
      "Requirement already satisfied: matplotlib-inline>=0.1 in c:\\users\\user\\appdata\\roaming\\python\\python38\\site-packages (from ipykernel) (0.1.7)\n",
      "Requirement already satisfied: comm>=0.1.1 in c:\\users\\user\\appdata\\roaming\\python\\python38\\site-packages (from ipykernel) (0.2.2)\n",
      "Requirement already satisfied: traitlets>=5.4.0 in d:\\programmer\\lib\\site-packages (from ipykernel) (5.14.3)\n",
      "Requirement already satisfied: nest-asyncio in d:\\programmer\\lib\\site-packages (from ipykernel) (1.5.1)\n",
      "Requirement already satisfied: tornado>=6.1 in d:\\programmer\\lib\\site-packages (from ipykernel) (6.1)\n",
      "Requirement already satisfied: backcall in d:\\programmer\\lib\\site-packages (from ipython>=7.23.1->ipykernel) (0.2.0)\n",
      "Requirement already satisfied: prompt-toolkit!=3.0.37,<3.1.0,>=3.0.30 in c:\\users\\user\\appdata\\roaming\\python\\python38\\site-packages (from ipython>=7.23.1->ipykernel) (3.0.50)\n",
      "Requirement already satisfied: pygments>=2.4.0 in d:\\programmer\\lib\\site-packages (from ipython>=7.23.1->ipykernel) (2.8.1)\n",
      "Requirement already satisfied: stack-data in c:\\users\\user\\appdata\\roaming\\python\\python38\\site-packages (from ipython>=7.23.1->ipykernel) (0.6.3)\n",
      "Requirement already satisfied: typing-extensions in d:\\programmer\\lib\\site-packages (from ipython>=7.23.1->ipykernel) (3.7.4.3)\n",
      "Requirement already satisfied: jedi>=0.16 in d:\\programmer\\lib\\site-packages (from ipython>=7.23.1->ipykernel) (0.17.2)\n",
      "Requirement already satisfied: pickleshare in d:\\programmer\\lib\\site-packages (from ipython>=7.23.1->ipykernel) (0.7.5)\n",
      "Requirement already satisfied: colorama in d:\\programmer\\lib\\site-packages (from ipython>=7.23.1->ipykernel) (0.4.4)\n",
      "Requirement already satisfied: decorator in d:\\programmer\\lib\\site-packages (from ipython>=7.23.1->ipykernel) (5.0.6)\n",
      "Requirement already satisfied: parso<0.8.0,>=0.7.0 in d:\\programmer\\lib\\site-packages (from jedi>=0.16->ipython>=7.23.1->ipykernel) (0.7.0)\n",
      "Requirement already satisfied: python-dateutil>=2.1 in d:\\programmer\\lib\\site-packages (from jupyter-client>=6.1.12->ipykernel) (2.8.1)\n",
      "Requirement already satisfied: platformdirs>=2.5 in c:\\users\\user\\appdata\\roaming\\python\\python38\\site-packages (from jupyter-core!=5.0.*,>=4.12->ipykernel) (4.3.6)\n",
      "Requirement already satisfied: pywin32>=300 in c:\\users\\user\\appdata\\roaming\\python\\python38\\site-packages (from jupyter-core!=5.0.*,>=4.12->ipykernel) (308)\n",
      "Requirement already satisfied: wcwidth in d:\\programmer\\lib\\site-packages (from prompt-toolkit!=3.0.37,<3.1.0,>=3.0.30->ipython>=7.23.1->ipykernel) (0.2.5)\n",
      "Requirement already satisfied: six>=1.5 in d:\\programmer\\lib\\site-packages (from python-dateutil>=2.1->jupyter-client>=6.1.12->ipykernel) (1.15.0)\n",
      "Requirement already satisfied: pure-eval in c:\\users\\user\\appdata\\roaming\\python\\python38\\site-packages (from stack-data->ipython>=7.23.1->ipykernel) (0.2.3)\n",
      "Requirement already satisfied: executing>=1.2.0 in c:\\users\\user\\appdata\\roaming\\python\\python38\\site-packages (from stack-data->ipython>=7.23.1->ipykernel) (2.1.0)\n",
      "Requirement already satisfied: asttokens>=2.1.0 in c:\\users\\user\\appdata\\roaming\\python\\python38\\site-packages (from stack-data->ipython>=7.23.1->ipykernel) (3.0.0)\n",
      "Note: you may need to restart the kernel to use updated packages.\n",
      "Note: you may need to restart the kernel to use updated packages.\n",
      "Note: you may need to restart the kernel to use updated packages.\n",
      "Note: you may need to restart the kernel to use updated packages.\n",
      "Note: you may need to restart the kernel to use updated packages.\n",
      "Note: you may need to restart the kernel to use updated packages.\n",
      "Note: you may need to restart the kernel to use updated packages.\n",
      "Note: you may need to restart the kernel to use updated packages.\n",
      "Requirement already satisfied: scipy in d:\\programmer\\lib\\site-packages (1.10.1)\n",
      "Requirement already satisfied: numpy<1.27.0,>=1.19.5 in d:\\programmer\\lib\\site-packages (from scipy) (1.22.4)\n",
      "Note: you may need to restart the kernel to use updated packages.\n"
     ]
    }
   ],
   "source": [
    "%pip install -U ipykernel --user\n",
    "%pip install -q --upgrade scikit-learn --user\n",
    "%pip install -q --upgrade seaborn --user\n",
    "%pip install -q --upgrade matplotlib --user\n",
    "%pip install -q --upgrade numba --user\n",
    "%pip install -q --upgrade shap --user\n",
    "%pip install phik -q --user\n",
    "%pip install shap -q --user\n",
    "%pip install --upgrade scipy --user\n",
    "import numpy as np\n",
    "import pandas as pd\n",
    "import shap\n",
    "import phik\n",
    "import seaborn as sns\n",
    "from matplotlib import pyplot as plt\n",
    "import sklearn\n",
    "\n",
    "from sklearn.model_selection import train_test_split\n",
    "from sklearn.pipeline import Pipeline\n",
    "from sklearn.compose import ColumnTransformer\n",
    "\n",
    "\n",
    "from sklearn.preprocessing import (OneHotEncoder,\n",
    "                                   OrdinalEncoder,\n",
    "                                   StandardScaler,\n",
    "                                   MinMaxScaler,\n",
    "                                   RobustScaler\n",
    "                                  )\n",
    "from sklearn.compose import ColumnTransformer\n",
    "\n",
    "from sklearn.impute import SimpleImputer\n",
    "from sklearn.model_selection import RandomizedSearchCV\n",
    "from sklearn.metrics import roc_auc_score\n",
    "\n",
    "from sklearn.linear_model import LogisticRegression\n",
    "from sklearn.neighbors import KNeighborsClassifier\n",
    "from sklearn.tree import DecisionTreeClassifier\n",
    "from sklearn.svm import SVC\n",
    "from sklearn.dummy import DummyClassifier\n",
    "\n",
    "RANDOM_STATE = 42\n",
    "TEST_SIZE = 0.25"
   ]
  },
  {
   "cell_type": "code",
   "execution_count": 3,
   "metadata": {},
   "outputs": [
    {
     "name": "stdout",
     "output_type": "stream",
     "text": [
      "Таблица с информацией о поведении пользователя на сайте\n"
     ]
    },
    {
     "data": {
      "text/html": [
       "<div>\n",
       "<style scoped>\n",
       "    .dataframe tbody tr th:only-of-type {\n",
       "        vertical-align: middle;\n",
       "    }\n",
       "\n",
       "    .dataframe tbody tr th {\n",
       "        vertical-align: top;\n",
       "    }\n",
       "\n",
       "    .dataframe thead th {\n",
       "        text-align: right;\n",
       "    }\n",
       "</style>\n",
       "<table border=\"1\" class=\"dataframe\">\n",
       "  <thead>\n",
       "    <tr style=\"text-align: right;\">\n",
       "      <th></th>\n",
       "      <th>id</th>\n",
       "      <th>Покупательская активность</th>\n",
       "      <th>Тип сервиса</th>\n",
       "      <th>Разрешить сообщать</th>\n",
       "      <th>Маркет_актив_6_мес</th>\n",
       "      <th>Маркет_актив_тек_мес</th>\n",
       "      <th>Длительность</th>\n",
       "      <th>Акционные_покупки</th>\n",
       "      <th>Популярная_категория</th>\n",
       "      <th>Средний_просмотр_категорий_за_визит</th>\n",
       "      <th>Неоплаченные_продукты_штук_квартал</th>\n",
       "      <th>Ошибка_сервиса</th>\n",
       "      <th>Страниц_за_визит</th>\n",
       "    </tr>\n",
       "  </thead>\n",
       "  <tbody>\n",
       "    <tr>\n",
       "      <th>0</th>\n",
       "      <td>215348</td>\n",
       "      <td>Снизилась</td>\n",
       "      <td>премиум</td>\n",
       "      <td>да</td>\n",
       "      <td>3.4</td>\n",
       "      <td>5</td>\n",
       "      <td>121</td>\n",
       "      <td>0.00</td>\n",
       "      <td>Товары для детей</td>\n",
       "      <td>6</td>\n",
       "      <td>2</td>\n",
       "      <td>1</td>\n",
       "      <td>5</td>\n",
       "    </tr>\n",
       "    <tr>\n",
       "      <th>1</th>\n",
       "      <td>215349</td>\n",
       "      <td>Снизилась</td>\n",
       "      <td>премиум</td>\n",
       "      <td>да</td>\n",
       "      <td>4.4</td>\n",
       "      <td>4</td>\n",
       "      <td>819</td>\n",
       "      <td>0.75</td>\n",
       "      <td>Товары для детей</td>\n",
       "      <td>4</td>\n",
       "      <td>4</td>\n",
       "      <td>2</td>\n",
       "      <td>5</td>\n",
       "    </tr>\n",
       "    <tr>\n",
       "      <th>2</th>\n",
       "      <td>215350</td>\n",
       "      <td>Снизилась</td>\n",
       "      <td>стандартт</td>\n",
       "      <td>нет</td>\n",
       "      <td>4.9</td>\n",
       "      <td>3</td>\n",
       "      <td>539</td>\n",
       "      <td>0.14</td>\n",
       "      <td>Домашний текстиль</td>\n",
       "      <td>5</td>\n",
       "      <td>2</td>\n",
       "      <td>1</td>\n",
       "      <td>5</td>\n",
       "    </tr>\n",
       "    <tr>\n",
       "      <th>3</th>\n",
       "      <td>215351</td>\n",
       "      <td>Снизилась</td>\n",
       "      <td>стандартт</td>\n",
       "      <td>да</td>\n",
       "      <td>3.2</td>\n",
       "      <td>5</td>\n",
       "      <td>896</td>\n",
       "      <td>0.99</td>\n",
       "      <td>Товары для детей</td>\n",
       "      <td>5</td>\n",
       "      <td>0</td>\n",
       "      <td>6</td>\n",
       "      <td>4</td>\n",
       "    </tr>\n",
       "    <tr>\n",
       "      <th>4</th>\n",
       "      <td>215352</td>\n",
       "      <td>Снизилась</td>\n",
       "      <td>стандартт</td>\n",
       "      <td>нет</td>\n",
       "      <td>5.1</td>\n",
       "      <td>3</td>\n",
       "      <td>1064</td>\n",
       "      <td>0.94</td>\n",
       "      <td>Товары для детей</td>\n",
       "      <td>3</td>\n",
       "      <td>2</td>\n",
       "      <td>3</td>\n",
       "      <td>2</td>\n",
       "    </tr>\n",
       "  </tbody>\n",
       "</table>\n",
       "</div>"
      ],
      "text/plain": [
       "       id Покупательская активность Тип сервиса Разрешить сообщать  \\\n",
       "0  215348                 Снизилась     премиум                 да   \n",
       "1  215349                 Снизилась     премиум                 да   \n",
       "2  215350                 Снизилась   стандартт                нет   \n",
       "3  215351                 Снизилась   стандартт                 да   \n",
       "4  215352                 Снизилась   стандартт                нет   \n",
       "\n",
       "   Маркет_актив_6_мес  Маркет_актив_тек_мес  Длительность  Акционные_покупки  \\\n",
       "0                 3.4                     5           121               0.00   \n",
       "1                 4.4                     4           819               0.75   \n",
       "2                 4.9                     3           539               0.14   \n",
       "3                 3.2                     5           896               0.99   \n",
       "4                 5.1                     3          1064               0.94   \n",
       "\n",
       "  Популярная_категория  Средний_просмотр_категорий_за_визит  \\\n",
       "0     Товары для детей                                    6   \n",
       "1     Товары для детей                                    4   \n",
       "2    Домашний текстиль                                    5   \n",
       "3     Товары для детей                                    5   \n",
       "4     Товары для детей                                    3   \n",
       "\n",
       "   Неоплаченные_продукты_штук_квартал  Ошибка_сервиса  Страниц_за_визит  \n",
       "0                                   2               1                 5  \n",
       "1                                   4               2                 5  \n",
       "2                                   2               1                 5  \n",
       "3                                   0               6                 4  \n",
       "4                                   2               3                 2  "
      ]
     },
     "metadata": {},
     "output_type": "display_data"
    },
    {
     "name": "stdout",
     "output_type": "stream",
     "text": [
      "Таблица с информацией о выручке, которуя сайт получает от покупателей\n"
     ]
    },
    {
     "data": {
      "text/html": [
       "<div>\n",
       "<style scoped>\n",
       "    .dataframe tbody tr th:only-of-type {\n",
       "        vertical-align: middle;\n",
       "    }\n",
       "\n",
       "    .dataframe tbody tr th {\n",
       "        vertical-align: top;\n",
       "    }\n",
       "\n",
       "    .dataframe thead th {\n",
       "        text-align: right;\n",
       "    }\n",
       "</style>\n",
       "<table border=\"1\" class=\"dataframe\">\n",
       "  <thead>\n",
       "    <tr style=\"text-align: right;\">\n",
       "      <th></th>\n",
       "      <th>id</th>\n",
       "      <th>Период</th>\n",
       "      <th>Выручка</th>\n",
       "    </tr>\n",
       "  </thead>\n",
       "  <tbody>\n",
       "    <tr>\n",
       "      <th>0</th>\n",
       "      <td>215348</td>\n",
       "      <td>препредыдущий_месяц</td>\n",
       "      <td>0.0</td>\n",
       "    </tr>\n",
       "    <tr>\n",
       "      <th>1</th>\n",
       "      <td>215348</td>\n",
       "      <td>текущий_месяц</td>\n",
       "      <td>3293.1</td>\n",
       "    </tr>\n",
       "    <tr>\n",
       "      <th>2</th>\n",
       "      <td>215348</td>\n",
       "      <td>предыдущий_месяц</td>\n",
       "      <td>0.0</td>\n",
       "    </tr>\n",
       "    <tr>\n",
       "      <th>3</th>\n",
       "      <td>215349</td>\n",
       "      <td>препредыдущий_месяц</td>\n",
       "      <td>4472.0</td>\n",
       "    </tr>\n",
       "    <tr>\n",
       "      <th>4</th>\n",
       "      <td>215349</td>\n",
       "      <td>текущий_месяц</td>\n",
       "      <td>4971.6</td>\n",
       "    </tr>\n",
       "  </tbody>\n",
       "</table>\n",
       "</div>"
      ],
      "text/plain": [
       "       id               Период  Выручка\n",
       "0  215348  препредыдущий_месяц      0.0\n",
       "1  215348        текущий_месяц   3293.1\n",
       "2  215348     предыдущий_месяц      0.0\n",
       "3  215349  препредыдущий_месяц   4472.0\n",
       "4  215349        текущий_месяц   4971.6"
      ]
     },
     "metadata": {},
     "output_type": "display_data"
    },
    {
     "name": "stdout",
     "output_type": "stream",
     "text": [
      "Таблица с информацией о времени, проведенном пользователем на сайте\n"
     ]
    },
    {
     "data": {
      "text/html": [
       "<div>\n",
       "<style scoped>\n",
       "    .dataframe tbody tr th:only-of-type {\n",
       "        vertical-align: middle;\n",
       "    }\n",
       "\n",
       "    .dataframe tbody tr th {\n",
       "        vertical-align: top;\n",
       "    }\n",
       "\n",
       "    .dataframe thead th {\n",
       "        text-align: right;\n",
       "    }\n",
       "</style>\n",
       "<table border=\"1\" class=\"dataframe\">\n",
       "  <thead>\n",
       "    <tr style=\"text-align: right;\">\n",
       "      <th></th>\n",
       "      <th>id</th>\n",
       "      <th>Период</th>\n",
       "      <th>минут</th>\n",
       "    </tr>\n",
       "  </thead>\n",
       "  <tbody>\n",
       "    <tr>\n",
       "      <th>0</th>\n",
       "      <td>215348</td>\n",
       "      <td>текущий_месяц</td>\n",
       "      <td>14</td>\n",
       "    </tr>\n",
       "    <tr>\n",
       "      <th>1</th>\n",
       "      <td>215348</td>\n",
       "      <td>предыдцщий_месяц</td>\n",
       "      <td>13</td>\n",
       "    </tr>\n",
       "    <tr>\n",
       "      <th>2</th>\n",
       "      <td>215349</td>\n",
       "      <td>текущий_месяц</td>\n",
       "      <td>10</td>\n",
       "    </tr>\n",
       "    <tr>\n",
       "      <th>3</th>\n",
       "      <td>215349</td>\n",
       "      <td>предыдцщий_месяц</td>\n",
       "      <td>12</td>\n",
       "    </tr>\n",
       "    <tr>\n",
       "      <th>4</th>\n",
       "      <td>215350</td>\n",
       "      <td>текущий_месяц</td>\n",
       "      <td>13</td>\n",
       "    </tr>\n",
       "  </tbody>\n",
       "</table>\n",
       "</div>"
      ],
      "text/plain": [
       "       id            Период  минут\n",
       "0  215348     текущий_месяц     14\n",
       "1  215348  предыдцщий_месяц     13\n",
       "2  215349     текущий_месяц     10\n",
       "3  215349  предыдцщий_месяц     12\n",
       "4  215350     текущий_месяц     13"
      ]
     },
     "metadata": {},
     "output_type": "display_data"
    },
    {
     "name": "stdout",
     "output_type": "stream",
     "text": [
      "Таблица с информацией о прибыли полученной от покупателей\n"
     ]
    },
    {
     "data": {
      "text/html": [
       "<div>\n",
       "<style scoped>\n",
       "    .dataframe tbody tr th:only-of-type {\n",
       "        vertical-align: middle;\n",
       "    }\n",
       "\n",
       "    .dataframe tbody tr th {\n",
       "        vertical-align: top;\n",
       "    }\n",
       "\n",
       "    .dataframe thead th {\n",
       "        text-align: right;\n",
       "    }\n",
       "</style>\n",
       "<table border=\"1\" class=\"dataframe\">\n",
       "  <thead>\n",
       "    <tr style=\"text-align: right;\">\n",
       "      <th></th>\n",
       "      <th>id</th>\n",
       "      <th>Прибыль</th>\n",
       "    </tr>\n",
       "  </thead>\n",
       "  <tbody>\n",
       "    <tr>\n",
       "      <th>0</th>\n",
       "      <td>215348</td>\n",
       "      <td>0.98</td>\n",
       "    </tr>\n",
       "    <tr>\n",
       "      <th>1</th>\n",
       "      <td>215349</td>\n",
       "      <td>4.16</td>\n",
       "    </tr>\n",
       "    <tr>\n",
       "      <th>2</th>\n",
       "      <td>215350</td>\n",
       "      <td>3.13</td>\n",
       "    </tr>\n",
       "    <tr>\n",
       "      <th>3</th>\n",
       "      <td>215351</td>\n",
       "      <td>4.87</td>\n",
       "    </tr>\n",
       "    <tr>\n",
       "      <th>4</th>\n",
       "      <td>215352</td>\n",
       "      <td>4.21</td>\n",
       "    </tr>\n",
       "  </tbody>\n",
       "</table>\n",
       "</div>"
      ],
      "text/plain": [
       "       id  Прибыль\n",
       "0  215348     0.98\n",
       "1  215349     4.16\n",
       "2  215350     3.13\n",
       "3  215351     4.87\n",
       "4  215352     4.21"
      ]
     },
     "execution_count": 3,
     "metadata": {},
     "output_type": "execute_result"
    }
   ],
   "source": [
    "#загрузка таблиц с помощью билиотеки pandas\n",
    "market_data = pd.read_csv('https://code.s3.yandex.net/datasets/market_file.csv')\n",
    "market_money = pd.read_csv('https://code.s3.yandex.net/datasets/market_money.csv')\n",
    "market_time = pd.read_csv('https://code.s3.yandex.net/datasets/market_time.csv')\n",
    "money = pd.read_csv('https://code.s3.yandex.net/datasets/money.csv', sep = ';', decimal = ',')\n",
    "#проверим содержание таблиц\n",
    "print('Таблица с информацией о поведении пользователя на сайте')\n",
    "display(market_data.head())\n",
    "print('Таблица с информацией о выручке, которуя сайт получает от покупателей')\n",
    "display(market_money.head())\n",
    "print('Таблица с информацией о времени, проведенном пользователем на сайте')\n",
    "display(market_time.head())\n",
    "print('Таблица с информацией о прибыли полученной от покупателей')\n",
    "money.head()"
   ]
  },
  {
   "cell_type": "markdown",
   "metadata": {},
   "source": [
    "Выведем общую информацию по таблицам"
   ]
  },
  {
   "cell_type": "code",
   "execution_count": 4,
   "metadata": {},
   "outputs": [
    {
     "name": "stdout",
     "output_type": "stream",
     "text": [
      "Таблица с информацией о поведении пользователя на сайте\n",
      "<class 'pandas.core.frame.DataFrame'>\n",
      "RangeIndex: 1300 entries, 0 to 1299\n",
      "Data columns (total 13 columns):\n",
      " #   Column                               Non-Null Count  Dtype  \n",
      "---  ------                               --------------  -----  \n",
      " 0   id                                   1300 non-null   int64  \n",
      " 1   Покупательская активность            1300 non-null   object \n",
      " 2   Тип сервиса                          1300 non-null   object \n",
      " 3   Разрешить сообщать                   1300 non-null   object \n",
      " 4   Маркет_актив_6_мес                   1300 non-null   float64\n",
      " 5   Маркет_актив_тек_мес                 1300 non-null   int64  \n",
      " 6   Длительность                         1300 non-null   int64  \n",
      " 7   Акционные_покупки                    1300 non-null   float64\n",
      " 8   Популярная_категория                 1300 non-null   object \n",
      " 9   Средний_просмотр_категорий_за_визит  1300 non-null   int64  \n",
      " 10  Неоплаченные_продукты_штук_квартал   1300 non-null   int64  \n",
      " 11  Ошибка_сервиса                       1300 non-null   int64  \n",
      " 12  Страниц_за_визит                     1300 non-null   int64  \n",
      "dtypes: float64(2), int64(7), object(4)\n",
      "memory usage: 132.2+ KB\n"
     ]
    },
    {
     "data": {
      "text/plain": [
       "None"
      ]
     },
     "metadata": {},
     "output_type": "display_data"
    },
    {
     "name": "stdout",
     "output_type": "stream",
     "text": [
      "Таблица с информацией о выручке, которуя сайт получает от покупателей\n",
      "<class 'pandas.core.frame.DataFrame'>\n",
      "RangeIndex: 3900 entries, 0 to 3899\n",
      "Data columns (total 3 columns):\n",
      " #   Column   Non-Null Count  Dtype  \n",
      "---  ------   --------------  -----  \n",
      " 0   id       3900 non-null   int64  \n",
      " 1   Период   3900 non-null   object \n",
      " 2   Выручка  3900 non-null   float64\n",
      "dtypes: float64(1), int64(1), object(1)\n",
      "memory usage: 91.5+ KB\n"
     ]
    },
    {
     "data": {
      "text/plain": [
       "None"
      ]
     },
     "metadata": {},
     "output_type": "display_data"
    },
    {
     "name": "stdout",
     "output_type": "stream",
     "text": [
      "Таблица с информацией о времени, проведенном пользователем на сайте\n",
      "<class 'pandas.core.frame.DataFrame'>\n",
      "RangeIndex: 2600 entries, 0 to 2599\n",
      "Data columns (total 3 columns):\n",
      " #   Column  Non-Null Count  Dtype \n",
      "---  ------  --------------  ----- \n",
      " 0   id      2600 non-null   int64 \n",
      " 1   Период  2600 non-null   object\n",
      " 2   минут   2600 non-null   int64 \n",
      "dtypes: int64(2), object(1)\n",
      "memory usage: 61.1+ KB\n"
     ]
    },
    {
     "data": {
      "text/plain": [
       "None"
      ]
     },
     "metadata": {},
     "output_type": "display_data"
    },
    {
     "name": "stdout",
     "output_type": "stream",
     "text": [
      "Таблица с информацией о прибыли полученной от покупателей\n",
      "<class 'pandas.core.frame.DataFrame'>\n",
      "RangeIndex: 1300 entries, 0 to 1299\n",
      "Data columns (total 2 columns):\n",
      " #   Column   Non-Null Count  Dtype  \n",
      "---  ------   --------------  -----  \n",
      " 0   id       1300 non-null   int64  \n",
      " 1   Прибыль  1300 non-null   float64\n",
      "dtypes: float64(1), int64(1)\n",
      "memory usage: 20.4 KB\n"
     ]
    }
   ],
   "source": [
    "print('Таблица с информацией о поведении пользователя на сайте')\n",
    "display(market_data.info())\n",
    "print('Таблица с информацией о выручке, которуя сайт получает от покупателей')\n",
    "display(market_money.info())\n",
    "print('Таблица с информацией о времени, проведенном пользователем на сайте')\n",
    "display(market_time.info())\n",
    "print('Таблица с информацией о прибыли полученной от покупателей')\n",
    "money.info()"
   ]
  },
  {
   "cell_type": "code",
   "execution_count": 5,
   "metadata": {},
   "outputs": [],
   "source": [
    "#приведем первые названия колонок в первой таблице к единому стилю написания\n",
    "market_data.columns = ['id',\n",
    "                       'Покупательская_активность',\n",
    "                       'Тип_сервиса',\n",
    "                       'Разрешить_сообщать',\n",
    "                       'Маркет_актив_6_мес',\n",
    "                       'Маркет_актив_тек_мес',\n",
    "                       'Длительность',\n",
    "                       'Акционные_покупки',\n",
    "                       'Популярная_категория',\n",
    "                       'Средний_просмотр_категорий_за_визит',\n",
    "                       'Неоплаченные_продукты_штук_квартал',\n",
    "                       'Ошибка_сервиса',\n",
    "                       'Страниц_за_визит'\n",
    "                      ]"
   ]
  },
  {
   "cell_type": "markdown",
   "metadata": {},
   "source": [
    "При поверхностном осмотре таблиц несоответствий содержимого с описанием таблиц не видно. Только в первой таблице некоторые названия колонок не придерживались общего стиля написания, что было исправлено. В колонке \"тип серивиса\" категорию \"стандартт\" стоит грамматически исправить. Числовые значения в таблицах не нуждаются в дополнительной обработке."
   ]
  },
  {
   "cell_type": "markdown",
   "metadata": {},
   "source": [
    "## Предобработка данных"
   ]
  },
  {
   "cell_type": "markdown",
   "metadata": {},
   "source": [
    "**Проверим наличие пропусков и неявных дубликатов в таблицах** "
   ]
  },
  {
   "cell_type": "code",
   "execution_count": 6,
   "metadata": {},
   "outputs": [],
   "source": [
    "#для проверки используем функцию\n",
    "def completeness_check(ittor, table):\n",
    "    print('Пропусков в таблице', table)\n",
    "    print(ittor.isna().sum())\n",
    "    value = ittor.duplicated().sum()\n",
    "    print(f'Полных дубликатов в таблице {table} - {value}')"
   ]
  },
  {
   "cell_type": "code",
   "execution_count": 7,
   "metadata": {},
   "outputs": [
    {
     "name": "stdout",
     "output_type": "stream",
     "text": [
      "Пропусков в таблице с поведением пользователей\n",
      "id                                     0\n",
      "Покупательская_активность              0\n",
      "Тип_сервиса                            0\n",
      "Разрешить_сообщать                     0\n",
      "Маркет_актив_6_мес                     0\n",
      "Маркет_актив_тек_мес                   0\n",
      "Длительность                           0\n",
      "Акционные_покупки                      0\n",
      "Популярная_категория                   0\n",
      "Средний_просмотр_категорий_за_визит    0\n",
      "Неоплаченные_продукты_штук_квартал     0\n",
      "Ошибка_сервиса                         0\n",
      "Страниц_за_визит                       0\n",
      "dtype: int64\n",
      "Полных дубликатов в таблице с поведением пользователей - 0\n"
     ]
    }
   ],
   "source": [
    "#проверим таблицу с информацией о поведении пользователей сайте\n",
    "completeness_check(market_data, 'с поведением пользователей')"
   ]
  },
  {
   "cell_type": "code",
   "execution_count": 8,
   "metadata": {},
   "outputs": [
    {
     "name": "stdout",
     "output_type": "stream",
     "text": [
      "Пропусков в таблице с выручкой сайта\n",
      "id         0\n",
      "Период     0\n",
      "Выручка    0\n",
      "dtype: int64\n",
      "Полных дубликатов в таблице с выручкой сайта - 0\n"
     ]
    }
   ],
   "source": [
    "#таблица с информацией о выручке\n",
    "completeness_check(market_money, 'с выручкой сайта')"
   ]
  },
  {
   "cell_type": "code",
   "execution_count": 9,
   "metadata": {},
   "outputs": [
    {
     "name": "stdout",
     "output_type": "stream",
     "text": [
      "Пропусков в таблице с проведенным временем\n",
      "id        0\n",
      "Период    0\n",
      "минут     0\n",
      "dtype: int64\n",
      "Полных дубликатов в таблице с проведенным временем - 0\n"
     ]
    }
   ],
   "source": [
    "#таблица с информацией о времени\n",
    "completeness_check(market_time, 'с проведенным временем')"
   ]
  },
  {
   "cell_type": "code",
   "execution_count": 10,
   "metadata": {},
   "outputs": [
    {
     "name": "stdout",
     "output_type": "stream",
     "text": [
      "Пропусков в таблице с прибылью по каждому пользователю за 3 месяца\n",
      "id         0\n",
      "Прибыль    0\n",
      "dtype: int64\n",
      "Полных дубликатов в таблице с прибылью по каждому пользователю за 3 месяца - 0\n"
     ]
    }
   ],
   "source": [
    "#таблица с информацией о прибыли\n",
    "completeness_check(money, 'с прибылью по каждому пользователю за 3 месяца')"
   ]
  },
  {
   "cell_type": "markdown",
   "metadata": {},
   "source": [
    "**Пропусков в таблицах не обнаружили, дубликатов тоже. Проверим теперь неявные дубликаты в колонках со строковыми значениями.**"
   ]
  },
  {
   "cell_type": "code",
   "execution_count": 11,
   "metadata": {},
   "outputs": [],
   "source": [
    "market_data_type_object = market_data.select_dtypes('object').columns\n",
    "def unique_check(data, ittor):\n",
    "    for i in ittor:\n",
    "        print(f'Cтолбец: - {i}')\n",
    "        print(data[i].sort_values().unique())"
   ]
  },
  {
   "cell_type": "code",
   "execution_count": 12,
   "metadata": {},
   "outputs": [
    {
     "name": "stdout",
     "output_type": "stream",
     "text": [
      "Cтолбец: - Покупательская_активность\n",
      "['Прежний уровень' 'Снизилась']\n",
      "Cтолбец: - Тип_сервиса\n",
      "['премиум' 'стандарт' 'стандартт']\n",
      "Cтолбец: - Разрешить_сообщать\n",
      "['да' 'нет']\n",
      "Cтолбец: - Популярная_категория\n",
      "['Домашний текстиль' 'Косметика и аксесуары' 'Кухонная посуда'\n",
      " 'Мелкая бытовая техника и электроника' 'Техника для красоты и здоровья'\n",
      " 'Товары для детей']\n"
     ]
    }
   ],
   "source": [
    "unique_check(market_data, market_data_type_object)"
   ]
  },
  {
   "cell_type": "markdown",
   "metadata": {},
   "source": [
    "В колонке \"тип сервиса\" есть две одинаковые категории с разных написанием, следует привести их к одному виду"
   ]
  },
  {
   "cell_type": "code",
   "execution_count": 13,
   "metadata": {},
   "outputs": [
    {
     "name": "stdout",
     "output_type": "stream",
     "text": [
      "Cтолбец: - Покупательская_активность\n",
      "['Прежний уровень' 'Снизилась']\n",
      "Cтолбец: - Тип_сервиса\n",
      "['премиум' 'стандарт']\n",
      "Cтолбец: - Разрешить_сообщать\n",
      "['да' 'нет']\n",
      "Cтолбец: - Популярная_категория\n",
      "['Домашний текстиль' 'Косметика и аксесуары' 'Кухонная посуда'\n",
      " 'Мелкая бытовая техника и электроника' 'Техника для красоты и здоровья'\n",
      " 'Товары для детей']\n"
     ]
    }
   ],
   "source": [
    "market_data['Тип_сервиса'] = market_data['Тип_сервиса'].str.replace('стандартт', 'стандарт')\n",
    "#проверим изменения\n",
    "unique_check(market_data, market_data_type_object)"
   ]
  },
  {
   "cell_type": "code",
   "execution_count": 14,
   "metadata": {},
   "outputs": [
    {
     "name": "stdout",
     "output_type": "stream",
     "text": [
      "Cтолбец: - Период\n",
      "['предыдущий_месяц' 'препредыдущий_месяц' 'текущий_месяц']\n"
     ]
    }
   ],
   "source": [
    "unique_check(market_money, ['Период'])"
   ]
  },
  {
   "cell_type": "markdown",
   "metadata": {},
   "source": [
    "Видим три разные категории в колонке. С написанием все в порядке."
   ]
  },
  {
   "cell_type": "code",
   "execution_count": 15,
   "metadata": {},
   "outputs": [
    {
     "name": "stdout",
     "output_type": "stream",
     "text": [
      "Cтолбец: - Период\n",
      "['предыдцщий_месяц' 'текущий_месяц']\n"
     ]
    }
   ],
   "source": [
    "unique_check(market_time, ['Период'])"
   ]
  },
  {
   "cell_type": "markdown",
   "metadata": {},
   "source": [
    "Для этой таблицы так же исправляем грамматическую ошибку в названии категории"
   ]
  },
  {
   "cell_type": "code",
   "execution_count": 16,
   "metadata": {},
   "outputs": [
    {
     "name": "stdout",
     "output_type": "stream",
     "text": [
      "Cтолбец: - Период\n",
      "['предыдущий_месяц' 'препредыдущий_месяц' 'текущий_месяц']\n"
     ]
    }
   ],
   "source": [
    "market_time['Период'] = market_time['Период'].str.replace('дцщий', 'дущий')\n",
    "#проверим изменения\n",
    "unique_check(market_money, ['Период'])"
   ]
  },
  {
   "cell_type": "markdown",
   "metadata": {},
   "source": [
    "При проверке данных: пропусков и полных дубликатов не обнаружили. Исправили написание категорий в столбцах на однотипное, чтобы убрать неявные дубликаты. В последней таблице нет столбцов со строковым типом данных, поэтому она в проверке не нуждается."
   ]
  },
  {
   "cell_type": "markdown",
   "metadata": {},
   "source": [
    "## Исследовательский анализ данных"
   ]
  },
  {
   "cell_type": "markdown",
   "metadata": {},
   "source": [
    "Рассмотрим распределение категориальных признаков в таблицах."
   ]
  },
  {
   "cell_type": "code",
   "execution_count": 17,
   "metadata": {},
   "outputs": [],
   "source": [
    "def bar_build(data, ittor):\n",
    "    for i in ittor:\n",
    "        print(f'Распределение в колонке - {i}')\n",
    "        value_counts = data[i].value_counts()\n",
    "        plt.figure(figsize=(8, 4))\n",
    "        plt.bar(value_counts.index, value_counts.values)\n",
    "        plt.title('Гистограмма распределения')\n",
    "        plt.xticks(rotation=30, ha='right')\n",
    "        plt.xlabel('Категория')\n",
    "        plt.ylabel('Сумма значений каждой категории')\n",
    "        plt.show()"
   ]
  },
  {
   "cell_type": "code",
   "execution_count": 18,
   "metadata": {},
   "outputs": [
    {
     "name": "stdout",
     "output_type": "stream",
     "text": [
      "Распределение категориальных значений в таблице с поведением покупателя на сайте\n",
      "Распределение в колонке - Покупательская_активность\n"
     ]
    },
    {
     "data": {
      "image/png": "[encoded data removed]",
      "text/plain": [
       "<Figure size 576x288 with 1 Axes>"
      ]
     },
     "metadata": {
      "needs_background": "light"
     },
     "output_type": "display_data"
    },
    {
     "name": "stdout",
     "output_type": "stream",
     "text": [
      "Распределение в колонке - Тип_сервиса\n"
     ]
    },
    {
     "data": {
      "image/png": "[encoded data removed]",
      "text/plain": [
       "<Figure size 576x288 with 1 Axes>"
      ]
     },
     "metadata": {
      "needs_background": "light"
     },
     "output_type": "display_data"
    },
    {
     "name": "stdout",
     "output_type": "stream",
     "text": [
      "Распределение в колонке - Разрешить_сообщать\n"
     ]
    },
    {
     "data": {
      "image/png": "[encoded data removed]",
      "text/plain": [
       "<Figure size 576x288 with 1 Axes>"
      ]
     },
     "metadata": {
      "needs_background": "light"
     },
     "output_type": "display_data"
    },
    {
     "name": "stdout",
     "output_type": "stream",
     "text": [
      "Распределение в колонке - Популярная_категория\n"
     ]
    },
    {
     "data": {
      "image/png": "[encoded data removed]",
      "text/plain": [
       "<Figure size 576x288 with 1 Axes>"
      ]
     },
     "metadata": {
      "needs_background": "light"
     },
     "output_type": "display_data"
    }
   ],
   "source": [
    "print('Распределение категориальных значений в таблице с поведением покупателя на сайте')\n",
    "bar_build(market_data, market_data_type_object)"
   ]
  },
  {
   "cell_type": "markdown",
   "metadata": {},
   "source": [
    "Судя по графикам видим, что:\n",
    "* Пользовательская активность действительно начала снижаться;\n",
    "* Пользователй со стандартным доступом к сайту больше чем, класса премиум;\n",
    "* Большая часть пользователей разрешили присылать им дополнительные предложения по товару;\n",
    "* ТОвары для детей пользуються самой большой популярностью, далее по убыванию идут: домашний текстиль, косметика и аксесуары, техника для красоты и здоровья, мелкая бытовая техника и электроника и кухонная посуда самая не популярная."
   ]
  },
  {
   "cell_type": "code",
   "execution_count": 19,
   "metadata": {},
   "outputs": [
    {
     "name": "stdout",
     "output_type": "stream",
     "text": [
      "Распределение категориального значения в таблице с выручкой магазина\n",
      "Распределение в колонке - Период\n"
     ]
    },
    {
     "data": {
      "image/png": "[encoded data removed]",
      "text/plain": [
       "<Figure size 576x288 with 1 Axes>"
      ]
     },
     "metadata": {
      "needs_background": "light"
     },
     "output_type": "display_data"
    }
   ],
   "source": [
    "print('Распределение категориального значения в таблице с выручкой магазина')\n",
    "#отберем тех, от кого выручка была не нулевая, так можно понять, что пользователь был активным\n",
    "market_money_active = market_money.loc[market_money['Выручка'] > 0]\n",
    "bar_build(market_money_active, ['Период'])"
   ]
  },
  {
   "cell_type": "markdown",
   "metadata": {},
   "source": [
    "В прошлом месяце сайт получил получил выручки в два раза больше, чем в текущем, это так же можно объяснить снижением активностью."
   ]
  },
  {
   "cell_type": "code",
   "execution_count": 20,
   "metadata": {},
   "outputs": [
    {
     "name": "stdout",
     "output_type": "stream",
     "text": [
      "Распределение категориального значения в таблице со временем, которое пользователь провел за период\n",
      "Распределение в колонке - Период\n"
     ]
    },
    {
     "data": {
      "image/png": "[encoded data removed]",
      "text/plain": [
       "<Figure size 576x288 with 1 Axes>"
      ]
     },
     "metadata": {
      "needs_background": "light"
     },
     "output_type": "display_data"
    }
   ],
   "source": [
    "print('Распределение категориального значения в таблице со временем, которое пользователь провел за период')\n",
    "bar_build(market_time, ['Период'])"
   ]
  },
  {
   "cell_type": "markdown",
   "metadata": {},
   "source": [
    "В прошлом и текущем месяце, пользователи провели примерно одинаковое время на сайте, значит время не может быть причиной снижения пользовательской активности."
   ]
  },
  {
   "cell_type": "markdown",
   "metadata": {},
   "source": [
    "**Теперь проверим распределение числовых значений в таблицах.**"
   ]
  },
  {
   "cell_type": "code",
   "execution_count": 21,
   "metadata": {},
   "outputs": [
    {
     "name": "stdout",
     "output_type": "stream",
     "text": [
      "Колонка - \"Маркет_актив_6_мес\"\n"
     ]
    },
    {
     "data": {
      "image/png": "[encoded data removed]",
      "text/plain": [
       "<Figure size 432x288 with 1 Axes>"
      ]
     },
     "metadata": {
      "needs_background": "light"
     },
     "output_type": "display_data"
    },
    {
     "name": "stdout",
     "output_type": "stream",
     "text": [
      "Колонка - \"Акционные_покупки\"\n"
     ]
    },
    {
     "data": {
      "image/png": "[encoded data removed]",
      "text/plain": [
       "<Figure size 432x288 with 1 Axes>"
      ]
     },
     "metadata": {
      "needs_background": "light"
     },
     "output_type": "display_data"
    },
    {
     "name": "stdout",
     "output_type": "stream",
     "text": [
      "Колонка - \"Длительность\"\n"
     ]
    },
    {
     "data": {
      "image/png": "[encoded data removed]",
      "text/plain": [
       "<Figure size 432x288 with 1 Axes>"
      ]
     },
     "metadata": {
      "needs_background": "light"
     },
     "output_type": "display_data"
    },
    {
     "data": {
      "image/png": "[encoded data removed]",
      "text/plain": [
       "<Figure size 576x864 with 1 Axes>"
      ]
     },
     "metadata": {
      "needs_background": "light"
     },
     "output_type": "display_data"
    },
    {
     "name": "stdout",
     "output_type": "stream",
     "text": [
      "Колонка - \"Маркет_актив_тек_мес\"\n"
     ]
    },
    {
     "data": {
      "image/png": "[encoded data removed]",
      "text/plain": [
       "<Figure size 432x288 with 1 Axes>"
      ]
     },
     "metadata": {
      "needs_background": "light"
     },
     "output_type": "display_data"
    },
    {
     "name": "stdout",
     "output_type": "stream",
     "text": [
      "Колонка - \"Средний_просмотр_категорий_за_визит\"\n"
     ]
    },
    {
     "data": {
      "image/png": "[encoded data removed]",
      "text/plain": [
       "<Figure size 432x288 with 1 Axes>"
      ]
     },
     "metadata": {
      "needs_background": "light"
     },
     "output_type": "display_data"
    },
    {
     "name": "stdout",
     "output_type": "stream",
     "text": [
      "Колонка - \"Неоплаченные_продукты_штук_квартал\"\n"
     ]
    },
    {
     "data": {
      "image/png": "[encoded data removed]",
      "text/plain": [
       "<Figure size 432x288 with 1 Axes>"
      ]
     },
     "metadata": {
      "needs_background": "light"
     },
     "output_type": "display_data"
    },
    {
     "name": "stdout",
     "output_type": "stream",
     "text": [
      "Колонка - \"Ошибка_сервиса\"\n"
     ]
    },
    {
     "data": {
      "image/png": "[encoded data removed]",
      "text/plain": [
       "<Figure size 432x288 with 1 Axes>"
      ]
     },
     "metadata": {
      "needs_background": "light"
     },
     "output_type": "display_data"
    },
    {
     "name": "stdout",
     "output_type": "stream",
     "text": [
      "Колонка - \"Страниц_за_визит\"\n"
     ]
    },
    {
     "data": {
      "image/png": "[encoded data removed]",
      "text/plain": [
       "<Figure size 432x288 with 1 Axes>"
      ]
     },
     "metadata": {
      "needs_background": "light"
     },
     "output_type": "display_data"
    }
   ],
   "source": [
    "#выделим колонки с числовым типом данных\n",
    "market_data_numeric = ['Маркет_актив_6_мес',\n",
    "                       'Акционные_покупки',\n",
    "                       'Длительность']\n",
    "\n",
    "market_data_diskret = ['Маркет_актив_тек_мес',\n",
    "                       'Средний_просмотр_категорий_за_визит',\n",
    "                       'Неоплаченные_продукты_штук_квартал',\n",
    "                       'Ошибка_сервиса',\n",
    "                       'Страниц_за_визит']\n",
    "#построим графики для численных значений\n",
    "for i in market_data_numeric:\n",
    "    print(f'Колонка - \"{i}\"')\n",
    "    market_data[i].plot(kind='hist', bins=10, grid=True)\n",
    "    plt.title('Гистограмма распределения')\n",
    "    plt.xlabel('Значения')\n",
    "    plt.ylabel('Частота')\n",
    "    plt.show()\n",
    "    \n",
    "market_data[market_data_numeric].plot(kind='box', figsize=(8, 12))\n",
    "plt.xticks(rotation=30, ha='right')\n",
    "plt.title('Разброс значений признаков')\n",
    "plt.grid('True')\n",
    "plt.show()\n",
    "\n",
    "#графики для дискретных значений\n",
    "for i in market_data_diskret:\n",
    "    print(f'Колонка - \"{i}\"')\n",
    "    sns.countplot(market_data, x=i)\n",
    "    plt.title('Гистограмма распределения')\n",
    "    plt.grid(True)\n",
    "    plt.xlabel('Значения')\n",
    "    plt.ylabel('Частота')\n",
    "    plt.show()"
   ]
  },
  {
   "cell_type": "markdown",
   "metadata": {},
   "source": [
    "Сильно выбивающихся значений в таблице с общей информацией о пользователях не обнаружили. Колонка с длительностью может показаться не такой как остальные, но это связано с тем, что данные в таблице представлены в разных масштабах, что следует учитывать при подготовке данных для модели в будущем. Проверим следующие таблицы.  "
   ]
  },
  {
   "cell_type": "code",
   "execution_count": 22,
   "metadata": {},
   "outputs": [
    {
     "data": {
      "image/png": "[encoded data removed]",
      "text/plain": [
       "<Figure size 576x720 with 1 Axes>"
      ]
     },
     "metadata": {
      "needs_background": "light"
     },
     "output_type": "display_data"
    },
    {
     "data": {
      "image/png": "[encoded data removed]",
      "text/plain": [
       "<Figure size 576x864 with 1 Axes>"
      ]
     },
     "metadata": {
      "needs_background": "light"
     },
     "output_type": "display_data"
    }
   ],
   "source": [
    "#проверим таблицу с выручкой магазина\n",
    "plt.figure(figsize=(8,10))\n",
    "sns.histplot(market_money_active, x='Выручка', hue='Период', stat='density', common_norm=False, legend=True)\n",
    "plt.title('Гистограмма распределения выручки полученной от пользователей')\n",
    "plt.grid(True)\n",
    "plt.xlabel('Периоды')\n",
    "plt.ylabel('Выручка')\n",
    "plt.xticks(rotation=30, ha='right')\n",
    "plt.show()\n",
    "#построим график разброса \n",
    "market_money_active['Выручка'].plot(kind='box', figsize=(8, 12))\n",
    "plt.xticks(rotation=30, ha='right')\n",
    "plt.title('Разброс выручки полученной от пользователей')\n",
    "plt.grid('True')\n",
    "plt.show()"
   ]
  },
  {
   "cell_type": "markdown",
   "metadata": {},
   "source": [
    "Видим, что в колонке с выручкой есть выбивающееся значение, рассмотрим распредление значений без аномального."
   ]
  },
  {
   "cell_type": "code",
   "execution_count": 23,
   "metadata": {},
   "outputs": [],
   "source": [
    "#отбросим выбивающиеся значения\n",
    "market_money_active = market_money_active.query('Выручка <= 8000')"
   ]
  },
  {
   "cell_type": "code",
   "execution_count": 24,
   "metadata": {},
   "outputs": [
    {
     "data": {
      "image/png": "[encoded data removed]",
      "text/plain": [
       "<Figure size 576x720 with 1 Axes>"
      ]
     },
     "metadata": {
      "needs_background": "light"
     },
     "output_type": "display_data"
    },
    {
     "name": "stdout",
     "output_type": "stream",
     "text": [
      "<class 'pandas.core.frame.DataFrame'>\n",
      "Int64Index: 3893 entries, 1 to 3899\n",
      "Data columns (total 3 columns):\n",
      " #   Column   Non-Null Count  Dtype  \n",
      "---  ------   --------------  -----  \n",
      " 0   id       3893 non-null   int64  \n",
      " 1   Период   3893 non-null   object \n",
      " 2   Выручка  3893 non-null   float64\n",
      "dtypes: float64(1), int64(1), object(1)\n",
      "memory usage: 250.7+ KB\n"
     ]
    }
   ],
   "source": [
    "#построим гистограммы с новым порогом\n",
    "plt.figure(figsize=(8,10))\n",
    "sns.histplot(market_money_active, x='Выручка', hue='Период', stat='density', common_norm=False, legend=True)\n",
    "plt.title('Гистограмма распределения выручки полученной от пользователей')\n",
    "plt.grid(True)\n",
    "plt.xlabel('Выручка')\n",
    "plt.ylabel('Плотность')\n",
    "plt.xticks(rotation=30, ha='right')\n",
    "plt.show()\n",
    "#выведем распределение после отбрасывания аномальных значений\n",
    "market_money_active.info()"
   ]
  },
  {
   "cell_type": "markdown",
   "metadata": {},
   "source": [
    "Теперь распределение больше напоминает нормальное и видно, не смотря на то, что активность пользователей снижаеться, выручка же с каждым месяцем увеличивается."
   ]
  },
  {
   "cell_type": "markdown",
   "metadata": {},
   "source": [
    "**Рассмотрим следующую таблицу с информацией о времени, которое пользователи провели на сайте за определенный период**"
   ]
  },
  {
   "cell_type": "code",
   "execution_count": 25,
   "metadata": {},
   "outputs": [
    {
     "data": {
      "image/png": "[encoded data removed]",
      "text/plain": [
       "<Figure size 576x720 with 1 Axes>"
      ]
     },
     "metadata": {
      "needs_background": "light"
     },
     "output_type": "display_data"
    },
    {
     "data": {
      "image/png": "[encoded data removed]",
      "text/plain": [
       "<Figure size 576x864 with 1 Axes>"
      ]
     },
     "metadata": {
      "needs_background": "light"
     },
     "output_type": "display_data"
    }
   ],
   "source": [
    "#построим гистограммы\n",
    "plt.figure(figsize=(8,10))\n",
    "sns.histplot(market_time, x='минут', hue='Период', stat='density', common_norm=False, legend=True)\n",
    "plt.title('Гистограмма распределения времени проведеного пользователями на сайте')\n",
    "plt.grid(True)\n",
    "plt.xlabel('Время')\n",
    "plt.ylabel('Плотность')\n",
    "plt.xticks(rotation=30, ha='right')\n",
    "plt.show()\n",
    "#построим график разброса значений\n",
    "market_time['минут'].plot(kind='box', figsize=(8, 12))\n",
    "plt.xticks(rotation=30, ha='right')\n",
    "plt.title('Разброс времени, проведенного пользователями за периоды')\n",
    "plt.grid('True')\n",
    "plt.show()"
   ]
  },
  {
   "cell_type": "markdown",
   "metadata": {},
   "source": [
    "По графику видно, что сильной разницы между двумя периодами нет, пользователи проводили на сайте примерно одинаковое время."
   ]
  },
  {
   "cell_type": "markdown",
   "metadata": {},
   "source": [
    "**Рассмотрим таблицу с прибылью сайта**"
   ]
  },
  {
   "cell_type": "code",
   "execution_count": 26,
   "metadata": {},
   "outputs": [
    {
     "data": {
      "image/png": "[encoded data removed]",
      "text/plain": [
       "<Figure size 432x288 with 1 Axes>"
      ]
     },
     "metadata": {
      "needs_background": "light"
     },
     "output_type": "display_data"
    },
    {
     "data": {
      "image/png": "[encoded data removed]",
      "text/plain": [
       "<Figure size 432x288 with 1 Axes>"
      ]
     },
     "metadata": {
      "needs_background": "light"
     },
     "output_type": "display_data"
    }
   ],
   "source": [
    "#построим гистограмму для таблицы с прибылью\n",
    "money['Прибыль'].plot(kind='hist', bins=20, grid=True)\n",
    "plt.title('График распределения прибыли сайта')\n",
    "plt.xlabel('Значение прибыли')\n",
    "plt.ylabel('Частота')\n",
    "plt.show()\n",
    "#посторим график разброса прибыли\n",
    "money['Прибыль'].plot(kind='box')\n",
    "plt.xticks(rotation=30, ha='right')\n",
    "plt.title('Разброс прибыли, полученной сайтом')\n",
    "plt.grid('True')\n",
    "plt.show()"
   ]
  },
  {
   "cell_type": "markdown",
   "metadata": {},
   "source": [
    "Аномальных значений в данных нет, есть небольшие выбросы."
   ]
  },
  {
   "cell_type": "markdown",
   "metadata": {},
   "source": [
    "## Объединение таблиц"
   ]
  },
  {
   "cell_type": "code",
   "execution_count": 27,
   "metadata": {},
   "outputs": [
    {
     "data": {
      "text/html": [
       "<div>\n",
       "<style scoped>\n",
       "    .dataframe tbody tr th:only-of-type {\n",
       "        vertical-align: middle;\n",
       "    }\n",
       "\n",
       "    .dataframe tbody tr th {\n",
       "        vertical-align: top;\n",
       "    }\n",
       "\n",
       "    .dataframe thead th {\n",
       "        text-align: right;\n",
       "    }\n",
       "</style>\n",
       "<table border=\"1\" class=\"dataframe\">\n",
       "  <thead>\n",
       "    <tr style=\"text-align: right;\">\n",
       "      <th></th>\n",
       "      <th>id</th>\n",
       "      <th>Выручка_2й_месяц</th>\n",
       "      <th>Выручка_3й_месяц</th>\n",
       "      <th>Выручка_1й_месяц</th>\n",
       "    </tr>\n",
       "  </thead>\n",
       "  <tbody>\n",
       "    <tr>\n",
       "      <th>1</th>\n",
       "      <td>215349</td>\n",
       "      <td>5216.0</td>\n",
       "      <td>4472.0</td>\n",
       "      <td>4971.6</td>\n",
       "    </tr>\n",
       "    <tr>\n",
       "      <th>2</th>\n",
       "      <td>215350</td>\n",
       "      <td>5457.5</td>\n",
       "      <td>4826.0</td>\n",
       "      <td>5058.4</td>\n",
       "    </tr>\n",
       "    <tr>\n",
       "      <th>3</th>\n",
       "      <td>215351</td>\n",
       "      <td>6158.0</td>\n",
       "      <td>4793.0</td>\n",
       "      <td>6610.4</td>\n",
       "    </tr>\n",
       "    <tr>\n",
       "      <th>4</th>\n",
       "      <td>215352</td>\n",
       "      <td>5807.5</td>\n",
       "      <td>4594.0</td>\n",
       "      <td>5872.5</td>\n",
       "    </tr>\n",
       "    <tr>\n",
       "      <th>5</th>\n",
       "      <td>215353</td>\n",
       "      <td>4738.5</td>\n",
       "      <td>5124.0</td>\n",
       "      <td>5388.5</td>\n",
       "    </tr>\n",
       "  </tbody>\n",
       "</table>\n",
       "</div>"
      ],
      "text/plain": [
       "       id  Выручка_2й_месяц  Выручка_3й_месяц  Выручка_1й_месяц\n",
       "1  215349            5216.0            4472.0            4971.6\n",
       "2  215350            5457.5            4826.0            5058.4\n",
       "3  215351            6158.0            4793.0            6610.4\n",
       "4  215352            5807.5            4594.0            5872.5\n",
       "5  215353            4738.5            5124.0            5388.5"
      ]
     },
     "metadata": {},
     "output_type": "display_data"
    },
    {
     "data": {
      "text/plain": [
       "(1296, 4)"
      ]
     },
     "execution_count": 27,
     "metadata": {},
     "output_type": "execute_result"
    }
   ],
   "source": [
    "#разделим в таблице с выручкой категории на три отдельные колонки и проверим их все\n",
    "market_money_ = market_money_active.pivot(index='id', columns='Период', values='Выручка')\n",
    "market_money_ = market_money_.reset_index()\n",
    "market_money_.columns = ['id', 'Выручка_2й_месяц', 'Выручка_3й_месяц', 'Выручка_1й_месяц']\n",
    "#в новой таблице тоже отбросим строки, которые не соответсвуют критериям, которые устанавливали в исследовательском анализе\n",
    "market_money_divide = market_money_.query(\n",
    "    'Выручка_2й_месяц>0 and Выручка_3й_месяц>0 and Выручка_1й_месяц>0 and Выручка_1й_месяц<8000'\n",
    ")\n",
    "display(market_money_divide.head())\n",
    "market_money_divide.shape"
   ]
  },
  {
   "cell_type": "code",
   "execution_count": 28,
   "metadata": {},
   "outputs": [
    {
     "data": {
      "text/html": [
       "<div>\n",
       "<style scoped>\n",
       "    .dataframe tbody tr th:only-of-type {\n",
       "        vertical-align: middle;\n",
       "    }\n",
       "\n",
       "    .dataframe tbody tr th {\n",
       "        vertical-align: top;\n",
       "    }\n",
       "\n",
       "    .dataframe thead th {\n",
       "        text-align: right;\n",
       "    }\n",
       "</style>\n",
       "<table border=\"1\" class=\"dataframe\">\n",
       "  <thead>\n",
       "    <tr style=\"text-align: right;\">\n",
       "      <th></th>\n",
       "      <th>id</th>\n",
       "      <th>Минут_2й_месяц</th>\n",
       "      <th>Минут_1й_месяц</th>\n",
       "    </tr>\n",
       "  </thead>\n",
       "  <tbody>\n",
       "    <tr>\n",
       "      <th>0</th>\n",
       "      <td>215348</td>\n",
       "      <td>13</td>\n",
       "      <td>14</td>\n",
       "    </tr>\n",
       "    <tr>\n",
       "      <th>1</th>\n",
       "      <td>215349</td>\n",
       "      <td>12</td>\n",
       "      <td>10</td>\n",
       "    </tr>\n",
       "    <tr>\n",
       "      <th>2</th>\n",
       "      <td>215350</td>\n",
       "      <td>8</td>\n",
       "      <td>13</td>\n",
       "    </tr>\n",
       "    <tr>\n",
       "      <th>3</th>\n",
       "      <td>215351</td>\n",
       "      <td>11</td>\n",
       "      <td>13</td>\n",
       "    </tr>\n",
       "    <tr>\n",
       "      <th>4</th>\n",
       "      <td>215352</td>\n",
       "      <td>8</td>\n",
       "      <td>11</td>\n",
       "    </tr>\n",
       "  </tbody>\n",
       "</table>\n",
       "</div>"
      ],
      "text/plain": [
       "       id  Минут_2й_месяц  Минут_1й_месяц\n",
       "0  215348              13              14\n",
       "1  215349              12              10\n",
       "2  215350               8              13\n",
       "3  215351              11              13\n",
       "4  215352               8              11"
      ]
     },
     "metadata": {},
     "output_type": "display_data"
    },
    {
     "data": {
      "text/plain": [
       "(1300, 3)"
      ]
     },
     "execution_count": 28,
     "metadata": {},
     "output_type": "execute_result"
    }
   ],
   "source": [
    "#проделаем ту же операцию в таблице со временем\n",
    "market_time_divide = market_time.pivot(index='id', columns='Период', values='минут')\n",
    "market_time_divide = market_time_divide.reset_index()\n",
    "market_time_divide.columns = ['id', 'Минут_2й_месяц', 'Минут_1й_месяц']\n",
    "display(market_time_divide.head())\n",
    "market_time_divide.shape"
   ]
  },
  {
   "cell_type": "code",
   "execution_count": 29,
   "metadata": {},
   "outputs": [
    {
     "name": "stdout",
     "output_type": "stream",
     "text": [
      "Пропусков в таблице со всей информацией\n",
      "id                                     0\n",
      "Покупательская_активность              0\n",
      "Тип_сервиса                            0\n",
      "Разрешить_сообщать                     0\n",
      "Маркет_актив_6_мес                     0\n",
      "Маркет_актив_тек_мес                   0\n",
      "Длительность                           0\n",
      "Акционные_покупки                      0\n",
      "Популярная_категория                   0\n",
      "Средний_просмотр_категорий_за_визит    0\n",
      "Неоплаченные_продукты_штук_квартал     0\n",
      "Ошибка_сервиса                         0\n",
      "Страниц_за_визит                       0\n",
      "Выручка_2й_месяц                       4\n",
      "Выручка_3й_месяц                       4\n",
      "Выручка_1й_месяц                       4\n",
      "Минут_2й_месяц                         0\n",
      "Минут_1й_месяц                         0\n",
      "dtype: int64\n",
      "Полных дубликатов в таблице со всей информацией - 0\n",
      "<class 'pandas.core.frame.DataFrame'>\n",
      "Int64Index: 1300 entries, 0 to 1299\n",
      "Data columns (total 18 columns):\n",
      " #   Column                               Non-Null Count  Dtype  \n",
      "---  ------                               --------------  -----  \n",
      " 0   id                                   1300 non-null   int64  \n",
      " 1   Покупательская_активность            1300 non-null   object \n",
      " 2   Тип_сервиса                          1300 non-null   object \n",
      " 3   Разрешить_сообщать                   1300 non-null   object \n",
      " 4   Маркет_актив_6_мес                   1300 non-null   float64\n",
      " 5   Маркет_актив_тек_мес                 1300 non-null   int64  \n",
      " 6   Длительность                         1300 non-null   int64  \n",
      " 7   Акционные_покупки                    1300 non-null   float64\n",
      " 8   Популярная_категория                 1300 non-null   object \n",
      " 9   Средний_просмотр_категорий_за_визит  1300 non-null   int64  \n",
      " 10  Неоплаченные_продукты_штук_квартал   1300 non-null   int64  \n",
      " 11  Ошибка_сервиса                       1300 non-null   int64  \n",
      " 12  Страниц_за_визит                     1300 non-null   int64  \n",
      " 13  Выручка_2й_месяц                     1296 non-null   float64\n",
      " 14  Выручка_3й_месяц                     1296 non-null   float64\n",
      " 15  Выручка_1й_месяц                     1296 non-null   float64\n",
      " 16  Минут_2й_месяц                       1300 non-null   int64  \n",
      " 17  Минут_1й_месяц                       1300 non-null   int64  \n",
      "dtypes: float64(5), int64(9), object(4)\n",
      "memory usage: 193.0+ KB\n"
     ]
    },
    {
     "data": {
      "text/html": [
       "<div>\n",
       "<style scoped>\n",
       "    .dataframe tbody tr th:only-of-type {\n",
       "        vertical-align: middle;\n",
       "    }\n",
       "\n",
       "    .dataframe tbody tr th {\n",
       "        vertical-align: top;\n",
       "    }\n",
       "\n",
       "    .dataframe thead th {\n",
       "        text-align: right;\n",
       "    }\n",
       "</style>\n",
       "<table border=\"1\" class=\"dataframe\">\n",
       "  <thead>\n",
       "    <tr style=\"text-align: right;\">\n",
       "      <th></th>\n",
       "      <th>id</th>\n",
       "      <th>Покупательская_активность</th>\n",
       "      <th>Тип_сервиса</th>\n",
       "      <th>Разрешить_сообщать</th>\n",
       "      <th>Маркет_актив_6_мес</th>\n",
       "      <th>Маркет_актив_тек_мес</th>\n",
       "      <th>Длительность</th>\n",
       "      <th>Акционные_покупки</th>\n",
       "      <th>Популярная_категория</th>\n",
       "      <th>Средний_просмотр_категорий_за_визит</th>\n",
       "      <th>Неоплаченные_продукты_штук_квартал</th>\n",
       "      <th>Ошибка_сервиса</th>\n",
       "      <th>Страниц_за_визит</th>\n",
       "      <th>Выручка_2й_месяц</th>\n",
       "      <th>Выручка_3й_месяц</th>\n",
       "      <th>Выручка_1й_месяц</th>\n",
       "      <th>Минут_2й_месяц</th>\n",
       "      <th>Минут_1й_месяц</th>\n",
       "    </tr>\n",
       "  </thead>\n",
       "  <tbody>\n",
       "    <tr>\n",
       "      <th>0</th>\n",
       "      <td>215348</td>\n",
       "      <td>Снизилась</td>\n",
       "      <td>премиум</td>\n",
       "      <td>да</td>\n",
       "      <td>3.4</td>\n",
       "      <td>5</td>\n",
       "      <td>121</td>\n",
       "      <td>0.00</td>\n",
       "      <td>Товары для детей</td>\n",
       "      <td>6</td>\n",
       "      <td>2</td>\n",
       "      <td>1</td>\n",
       "      <td>5</td>\n",
       "      <td>NaN</td>\n",
       "      <td>NaN</td>\n",
       "      <td>NaN</td>\n",
       "      <td>13</td>\n",
       "      <td>14</td>\n",
       "    </tr>\n",
       "    <tr>\n",
       "      <th>1</th>\n",
       "      <td>215349</td>\n",
       "      <td>Снизилась</td>\n",
       "      <td>премиум</td>\n",
       "      <td>да</td>\n",
       "      <td>4.4</td>\n",
       "      <td>4</td>\n",
       "      <td>819</td>\n",
       "      <td>0.75</td>\n",
       "      <td>Товары для детей</td>\n",
       "      <td>4</td>\n",
       "      <td>4</td>\n",
       "      <td>2</td>\n",
       "      <td>5</td>\n",
       "      <td>5216.0</td>\n",
       "      <td>4472.0</td>\n",
       "      <td>4971.6</td>\n",
       "      <td>12</td>\n",
       "      <td>10</td>\n",
       "    </tr>\n",
       "    <tr>\n",
       "      <th>2</th>\n",
       "      <td>215350</td>\n",
       "      <td>Снизилась</td>\n",
       "      <td>стандарт</td>\n",
       "      <td>нет</td>\n",
       "      <td>4.9</td>\n",
       "      <td>3</td>\n",
       "      <td>539</td>\n",
       "      <td>0.14</td>\n",
       "      <td>Домашний текстиль</td>\n",
       "      <td>5</td>\n",
       "      <td>2</td>\n",
       "      <td>1</td>\n",
       "      <td>5</td>\n",
       "      <td>5457.5</td>\n",
       "      <td>4826.0</td>\n",
       "      <td>5058.4</td>\n",
       "      <td>8</td>\n",
       "      <td>13</td>\n",
       "    </tr>\n",
       "    <tr>\n",
       "      <th>3</th>\n",
       "      <td>215351</td>\n",
       "      <td>Снизилась</td>\n",
       "      <td>стандарт</td>\n",
       "      <td>да</td>\n",
       "      <td>3.2</td>\n",
       "      <td>5</td>\n",
       "      <td>896</td>\n",
       "      <td>0.99</td>\n",
       "      <td>Товары для детей</td>\n",
       "      <td>5</td>\n",
       "      <td>0</td>\n",
       "      <td>6</td>\n",
       "      <td>4</td>\n",
       "      <td>6158.0</td>\n",
       "      <td>4793.0</td>\n",
       "      <td>6610.4</td>\n",
       "      <td>11</td>\n",
       "      <td>13</td>\n",
       "    </tr>\n",
       "    <tr>\n",
       "      <th>4</th>\n",
       "      <td>215352</td>\n",
       "      <td>Снизилась</td>\n",
       "      <td>стандарт</td>\n",
       "      <td>нет</td>\n",
       "      <td>5.1</td>\n",
       "      <td>3</td>\n",
       "      <td>1064</td>\n",
       "      <td>0.94</td>\n",
       "      <td>Товары для детей</td>\n",
       "      <td>3</td>\n",
       "      <td>2</td>\n",
       "      <td>3</td>\n",
       "      <td>2</td>\n",
       "      <td>5807.5</td>\n",
       "      <td>4594.0</td>\n",
       "      <td>5872.5</td>\n",
       "      <td>8</td>\n",
       "      <td>11</td>\n",
       "    </tr>\n",
       "    <tr>\n",
       "      <th>...</th>\n",
       "      <td>...</td>\n",
       "      <td>...</td>\n",
       "      <td>...</td>\n",
       "      <td>...</td>\n",
       "      <td>...</td>\n",
       "      <td>...</td>\n",
       "      <td>...</td>\n",
       "      <td>...</td>\n",
       "      <td>...</td>\n",
       "      <td>...</td>\n",
       "      <td>...</td>\n",
       "      <td>...</td>\n",
       "      <td>...</td>\n",
       "      <td>...</td>\n",
       "      <td>...</td>\n",
       "      <td>...</td>\n",
       "      <td>...</td>\n",
       "      <td>...</td>\n",
       "    </tr>\n",
       "    <tr>\n",
       "      <th>1295</th>\n",
       "      <td>216643</td>\n",
       "      <td>Прежний уровень</td>\n",
       "      <td>стандарт</td>\n",
       "      <td>да</td>\n",
       "      <td>6.6</td>\n",
       "      <td>3</td>\n",
       "      <td>318</td>\n",
       "      <td>0.24</td>\n",
       "      <td>Техника для красоты и здоровья</td>\n",
       "      <td>5</td>\n",
       "      <td>3</td>\n",
       "      <td>3</td>\n",
       "      <td>11</td>\n",
       "      <td>3664.0</td>\n",
       "      <td>4704.0</td>\n",
       "      <td>4741.7</td>\n",
       "      <td>14</td>\n",
       "      <td>7</td>\n",
       "    </tr>\n",
       "    <tr>\n",
       "      <th>1296</th>\n",
       "      <td>216644</td>\n",
       "      <td>Прежний уровень</td>\n",
       "      <td>стандарт</td>\n",
       "      <td>нет</td>\n",
       "      <td>5.1</td>\n",
       "      <td>4</td>\n",
       "      <td>454</td>\n",
       "      <td>0.21</td>\n",
       "      <td>Домашний текстиль</td>\n",
       "      <td>6</td>\n",
       "      <td>2</td>\n",
       "      <td>3</td>\n",
       "      <td>9</td>\n",
       "      <td>4729.0</td>\n",
       "      <td>5299.0</td>\n",
       "      <td>5353.0</td>\n",
       "      <td>12</td>\n",
       "      <td>11</td>\n",
       "    </tr>\n",
       "    <tr>\n",
       "      <th>1297</th>\n",
       "      <td>216645</td>\n",
       "      <td>Прежний уровень</td>\n",
       "      <td>стандарт</td>\n",
       "      <td>да</td>\n",
       "      <td>4.1</td>\n",
       "      <td>3</td>\n",
       "      <td>586</td>\n",
       "      <td>0.20</td>\n",
       "      <td>Домашний текстиль</td>\n",
       "      <td>3</td>\n",
       "      <td>2</td>\n",
       "      <td>5</td>\n",
       "      <td>7</td>\n",
       "      <td>5160.0</td>\n",
       "      <td>5334.0</td>\n",
       "      <td>5139.2</td>\n",
       "      <td>12</td>\n",
       "      <td>18</td>\n",
       "    </tr>\n",
       "    <tr>\n",
       "      <th>1298</th>\n",
       "      <td>216646</td>\n",
       "      <td>Прежний уровень</td>\n",
       "      <td>стандарт</td>\n",
       "      <td>да</td>\n",
       "      <td>6.3</td>\n",
       "      <td>5</td>\n",
       "      <td>645</td>\n",
       "      <td>0.12</td>\n",
       "      <td>Техника для красоты и здоровья</td>\n",
       "      <td>3</td>\n",
       "      <td>3</td>\n",
       "      <td>5</td>\n",
       "      <td>7</td>\n",
       "      <td>4923.0</td>\n",
       "      <td>4725.0</td>\n",
       "      <td>5224.6</td>\n",
       "      <td>18</td>\n",
       "      <td>7</td>\n",
       "    </tr>\n",
       "    <tr>\n",
       "      <th>1299</th>\n",
       "      <td>216647</td>\n",
       "      <td>Прежний уровень</td>\n",
       "      <td>премиум</td>\n",
       "      <td>да</td>\n",
       "      <td>4.0</td>\n",
       "      <td>5</td>\n",
       "      <td>906</td>\n",
       "      <td>0.94</td>\n",
       "      <td>Техника для красоты и здоровья</td>\n",
       "      <td>4</td>\n",
       "      <td>5</td>\n",
       "      <td>3</td>\n",
       "      <td>12</td>\n",
       "      <td>4720.0</td>\n",
       "      <td>5183.0</td>\n",
       "      <td>4448.3</td>\n",
       "      <td>15</td>\n",
       "      <td>10</td>\n",
       "    </tr>\n",
       "  </tbody>\n",
       "</table>\n",
       "<p>1300 rows × 18 columns</p>\n",
       "</div>"
      ],
      "text/plain": [
       "          id Покупательская_активность Тип_сервиса Разрешить_сообщать  \\\n",
       "0     215348                 Снизилась     премиум                 да   \n",
       "1     215349                 Снизилась     премиум                 да   \n",
       "2     215350                 Снизилась    стандарт                нет   \n",
       "3     215351                 Снизилась    стандарт                 да   \n",
       "4     215352                 Снизилась    стандарт                нет   \n",
       "...      ...                       ...         ...                ...   \n",
       "1295  216643           Прежний уровень    стандарт                 да   \n",
       "1296  216644           Прежний уровень    стандарт                нет   \n",
       "1297  216645           Прежний уровень    стандарт                 да   \n",
       "1298  216646           Прежний уровень    стандарт                 да   \n",
       "1299  216647           Прежний уровень     премиум                 да   \n",
       "\n",
       "      Маркет_актив_6_мес  Маркет_актив_тек_мес  Длительность  \\\n",
       "0                    3.4                     5           121   \n",
       "1                    4.4                     4           819   \n",
       "2                    4.9                     3           539   \n",
       "3                    3.2                     5           896   \n",
       "4                    5.1                     3          1064   \n",
       "...                  ...                   ...           ...   \n",
       "1295                 6.6                     3           318   \n",
       "1296                 5.1                     4           454   \n",
       "1297                 4.1                     3           586   \n",
       "1298                 6.3                     5           645   \n",
       "1299                 4.0                     5           906   \n",
       "\n",
       "      Акционные_покупки            Популярная_категория  \\\n",
       "0                  0.00                Товары для детей   \n",
       "1                  0.75                Товары для детей   \n",
       "2                  0.14               Домашний текстиль   \n",
       "3                  0.99                Товары для детей   \n",
       "4                  0.94                Товары для детей   \n",
       "...                 ...                             ...   \n",
       "1295               0.24  Техника для красоты и здоровья   \n",
       "1296               0.21               Домашний текстиль   \n",
       "1297               0.20               Домашний текстиль   \n",
       "1298               0.12  Техника для красоты и здоровья   \n",
       "1299               0.94  Техника для красоты и здоровья   \n",
       "\n",
       "      Средний_просмотр_категорий_за_визит  Неоплаченные_продукты_штук_квартал  \\\n",
       "0                                       6                                   2   \n",
       "1                                       4                                   4   \n",
       "2                                       5                                   2   \n",
       "3                                       5                                   0   \n",
       "4                                       3                                   2   \n",
       "...                                   ...                                 ...   \n",
       "1295                                    5                                   3   \n",
       "1296                                    6                                   2   \n",
       "1297                                    3                                   2   \n",
       "1298                                    3                                   3   \n",
       "1299                                    4                                   5   \n",
       "\n",
       "      Ошибка_сервиса  Страниц_за_визит  Выручка_2й_месяц  Выручка_3й_месяц  \\\n",
       "0                  1                 5               NaN               NaN   \n",
       "1                  2                 5            5216.0            4472.0   \n",
       "2                  1                 5            5457.5            4826.0   \n",
       "3                  6                 4            6158.0            4793.0   \n",
       "4                  3                 2            5807.5            4594.0   \n",
       "...              ...               ...               ...               ...   \n",
       "1295               3                11            3664.0            4704.0   \n",
       "1296               3                 9            4729.0            5299.0   \n",
       "1297               5                 7            5160.0            5334.0   \n",
       "1298               5                 7            4923.0            4725.0   \n",
       "1299               3                12            4720.0            5183.0   \n",
       "\n",
       "      Выручка_1й_месяц  Минут_2й_месяц  Минут_1й_месяц  \n",
       "0                  NaN              13              14  \n",
       "1               4971.6              12              10  \n",
       "2               5058.4               8              13  \n",
       "3               6610.4              11              13  \n",
       "4               5872.5               8              11  \n",
       "...                ...             ...             ...  \n",
       "1295            4741.7              14               7  \n",
       "1296            5353.0              12              11  \n",
       "1297            5139.2              12              18  \n",
       "1298            5224.6              18               7  \n",
       "1299            4448.3              15              10  \n",
       "\n",
       "[1300 rows x 18 columns]"
      ]
     },
     "execution_count": 29,
     "metadata": {},
     "output_type": "execute_result"
    }
   ],
   "source": [
    "market_data_total = market_data.merge(market_money_divide, on='id', how='left')\n",
    "market_data_total = market_data_total.merge(market_time_divide, on='id', how='left')\n",
    "completeness_check(market_data_total, 'со всей информацией')\n",
    "market_data_total.info()\n",
    "market_data_total"
   ]
  },
  {
   "cell_type": "markdown",
   "metadata": {},
   "source": [
    "При объединении таблиц появились 4 пропуска в колонках с выручкой по периодам, т.к. это очень малое число можно отбросить их"
   ]
  },
  {
   "cell_type": "code",
   "execution_count": 30,
   "metadata": {},
   "outputs": [
    {
     "data": {
      "text/plain": [
       "(1296, 18)"
      ]
     },
     "metadata": {},
     "output_type": "display_data"
    },
    {
     "name": "stdout",
     "output_type": "stream",
     "text": [
      "Пропусков в таблице со всей информацией\n",
      "id                                     0\n",
      "Покупательская_активность              0\n",
      "Тип_сервиса                            0\n",
      "Разрешить_сообщать                     0\n",
      "Маркет_актив_6_мес                     0\n",
      "Маркет_актив_тек_мес                   0\n",
      "Длительность                           0\n",
      "Акционные_покупки                      0\n",
      "Популярная_категория                   0\n",
      "Средний_просмотр_категорий_за_визит    0\n",
      "Неоплаченные_продукты_штук_квартал     0\n",
      "Ошибка_сервиса                         0\n",
      "Страниц_за_визит                       0\n",
      "Выручка_2й_месяц                       0\n",
      "Выручка_3й_месяц                       0\n",
      "Выручка_1й_месяц                       0\n",
      "Минут_2й_месяц                         0\n",
      "Минут_1й_месяц                         0\n",
      "dtype: int64\n",
      "Полных дубликатов в таблице со всей информацией - 0\n"
     ]
    },
    {
     "data": {
      "text/html": [
       "<div>\n",
       "<style scoped>\n",
       "    .dataframe tbody tr th:only-of-type {\n",
       "        vertical-align: middle;\n",
       "    }\n",
       "\n",
       "    .dataframe tbody tr th {\n",
       "        vertical-align: top;\n",
       "    }\n",
       "\n",
       "    .dataframe thead th {\n",
       "        text-align: right;\n",
       "    }\n",
       "</style>\n",
       "<table border=\"1\" class=\"dataframe\">\n",
       "  <thead>\n",
       "    <tr style=\"text-align: right;\">\n",
       "      <th></th>\n",
       "      <th>id</th>\n",
       "      <th>Покупательская_активность</th>\n",
       "      <th>Тип_сервиса</th>\n",
       "      <th>Разрешить_сообщать</th>\n",
       "      <th>Маркет_актив_6_мес</th>\n",
       "      <th>Маркет_актив_тек_мес</th>\n",
       "      <th>Длительность</th>\n",
       "      <th>Акционные_покупки</th>\n",
       "      <th>Популярная_категория</th>\n",
       "      <th>Средний_просмотр_категорий_за_визит</th>\n",
       "      <th>Неоплаченные_продукты_штук_квартал</th>\n",
       "      <th>Ошибка_сервиса</th>\n",
       "      <th>Страниц_за_визит</th>\n",
       "      <th>Выручка_2й_месяц</th>\n",
       "      <th>Выручка_3й_месяц</th>\n",
       "      <th>Выручка_1й_месяц</th>\n",
       "      <th>Минут_2й_месяц</th>\n",
       "      <th>Минут_1й_месяц</th>\n",
       "    </tr>\n",
       "  </thead>\n",
       "  <tbody>\n",
       "    <tr>\n",
       "      <th>1</th>\n",
       "      <td>215349</td>\n",
       "      <td>Снизилась</td>\n",
       "      <td>премиум</td>\n",
       "      <td>да</td>\n",
       "      <td>4.4</td>\n",
       "      <td>4</td>\n",
       "      <td>819</td>\n",
       "      <td>0.75</td>\n",
       "      <td>Товары для детей</td>\n",
       "      <td>4</td>\n",
       "      <td>4</td>\n",
       "      <td>2</td>\n",
       "      <td>5</td>\n",
       "      <td>5216.0</td>\n",
       "      <td>4472.0</td>\n",
       "      <td>4971.6</td>\n",
       "      <td>12</td>\n",
       "      <td>10</td>\n",
       "    </tr>\n",
       "    <tr>\n",
       "      <th>2</th>\n",
       "      <td>215350</td>\n",
       "      <td>Снизилась</td>\n",
       "      <td>стандарт</td>\n",
       "      <td>нет</td>\n",
       "      <td>4.9</td>\n",
       "      <td>3</td>\n",
       "      <td>539</td>\n",
       "      <td>0.14</td>\n",
       "      <td>Домашний текстиль</td>\n",
       "      <td>5</td>\n",
       "      <td>2</td>\n",
       "      <td>1</td>\n",
       "      <td>5</td>\n",
       "      <td>5457.5</td>\n",
       "      <td>4826.0</td>\n",
       "      <td>5058.4</td>\n",
       "      <td>8</td>\n",
       "      <td>13</td>\n",
       "    </tr>\n",
       "    <tr>\n",
       "      <th>3</th>\n",
       "      <td>215351</td>\n",
       "      <td>Снизилась</td>\n",
       "      <td>стандарт</td>\n",
       "      <td>да</td>\n",
       "      <td>3.2</td>\n",
       "      <td>5</td>\n",
       "      <td>896</td>\n",
       "      <td>0.99</td>\n",
       "      <td>Товары для детей</td>\n",
       "      <td>5</td>\n",
       "      <td>0</td>\n",
       "      <td>6</td>\n",
       "      <td>4</td>\n",
       "      <td>6158.0</td>\n",
       "      <td>4793.0</td>\n",
       "      <td>6610.4</td>\n",
       "      <td>11</td>\n",
       "      <td>13</td>\n",
       "    </tr>\n",
       "    <tr>\n",
       "      <th>4</th>\n",
       "      <td>215352</td>\n",
       "      <td>Снизилась</td>\n",
       "      <td>стандарт</td>\n",
       "      <td>нет</td>\n",
       "      <td>5.1</td>\n",
       "      <td>3</td>\n",
       "      <td>1064</td>\n",
       "      <td>0.94</td>\n",
       "      <td>Товары для детей</td>\n",
       "      <td>3</td>\n",
       "      <td>2</td>\n",
       "      <td>3</td>\n",
       "      <td>2</td>\n",
       "      <td>5807.5</td>\n",
       "      <td>4594.0</td>\n",
       "      <td>5872.5</td>\n",
       "      <td>8</td>\n",
       "      <td>11</td>\n",
       "    </tr>\n",
       "    <tr>\n",
       "      <th>5</th>\n",
       "      <td>215353</td>\n",
       "      <td>Снизилась</td>\n",
       "      <td>стандарт</td>\n",
       "      <td>да</td>\n",
       "      <td>3.3</td>\n",
       "      <td>4</td>\n",
       "      <td>762</td>\n",
       "      <td>0.26</td>\n",
       "      <td>Домашний текстиль</td>\n",
       "      <td>4</td>\n",
       "      <td>1</td>\n",
       "      <td>1</td>\n",
       "      <td>4</td>\n",
       "      <td>4738.5</td>\n",
       "      <td>5124.0</td>\n",
       "      <td>5388.5</td>\n",
       "      <td>10</td>\n",
       "      <td>10</td>\n",
       "    </tr>\n",
       "  </tbody>\n",
       "</table>\n",
       "</div>"
      ],
      "text/plain": [
       "       id Покупательская_активность Тип_сервиса Разрешить_сообщать  \\\n",
       "1  215349                 Снизилась     премиум                 да   \n",
       "2  215350                 Снизилась    стандарт                нет   \n",
       "3  215351                 Снизилась    стандарт                 да   \n",
       "4  215352                 Снизилась    стандарт                нет   \n",
       "5  215353                 Снизилась    стандарт                 да   \n",
       "\n",
       "   Маркет_актив_6_мес  Маркет_актив_тек_мес  Длительность  Акционные_покупки  \\\n",
       "1                 4.4                     4           819               0.75   \n",
       "2                 4.9                     3           539               0.14   \n",
       "3                 3.2                     5           896               0.99   \n",
       "4                 5.1                     3          1064               0.94   \n",
       "5                 3.3                     4           762               0.26   \n",
       "\n",
       "  Популярная_категория  Средний_просмотр_категорий_за_визит  \\\n",
       "1     Товары для детей                                    4   \n",
       "2    Домашний текстиль                                    5   \n",
       "3     Товары для детей                                    5   \n",
       "4     Товары для детей                                    3   \n",
       "5    Домашний текстиль                                    4   \n",
       "\n",
       "   Неоплаченные_продукты_штук_квартал  Ошибка_сервиса  Страниц_за_визит  \\\n",
       "1                                   4               2                 5   \n",
       "2                                   2               1                 5   \n",
       "3                                   0               6                 4   \n",
       "4                                   2               3                 2   \n",
       "5                                   1               1                 4   \n",
       "\n",
       "   Выручка_2й_месяц  Выручка_3й_месяц  Выручка_1й_месяц  Минут_2й_месяц  \\\n",
       "1            5216.0            4472.0            4971.6              12   \n",
       "2            5457.5            4826.0            5058.4               8   \n",
       "3            6158.0            4793.0            6610.4              11   \n",
       "4            5807.5            4594.0            5872.5               8   \n",
       "5            4738.5            5124.0            5388.5              10   \n",
       "\n",
       "   Минут_1й_месяц  \n",
       "1              10  \n",
       "2              13  \n",
       "3              13  \n",
       "4              11  \n",
       "5              10  "
      ]
     },
     "metadata": {},
     "output_type": "display_data"
    },
    {
     "name": "stdout",
     "output_type": "stream",
     "text": [
      "<class 'pandas.core.frame.DataFrame'>\n",
      "Int64Index: 1296 entries, 1 to 1299\n",
      "Data columns (total 18 columns):\n",
      " #   Column                               Non-Null Count  Dtype  \n",
      "---  ------                               --------------  -----  \n",
      " 0   id                                   1296 non-null   int64  \n",
      " 1   Покупательская_активность            1296 non-null   object \n",
      " 2   Тип_сервиса                          1296 non-null   object \n",
      " 3   Разрешить_сообщать                   1296 non-null   object \n",
      " 4   Маркет_актив_6_мес                   1296 non-null   float64\n",
      " 5   Маркет_актив_тек_мес                 1296 non-null   int64  \n",
      " 6   Длительность                         1296 non-null   int64  \n",
      " 7   Акционные_покупки                    1296 non-null   float64\n",
      " 8   Популярная_категория                 1296 non-null   object \n",
      " 9   Средний_просмотр_категорий_за_визит  1296 non-null   int64  \n",
      " 10  Неоплаченные_продукты_штук_квартал   1296 non-null   int64  \n",
      " 11  Ошибка_сервиса                       1296 non-null   int64  \n",
      " 12  Страниц_за_визит                     1296 non-null   int64  \n",
      " 13  Выручка_2й_месяц                     1296 non-null   float64\n",
      " 14  Выручка_3й_месяц                     1296 non-null   float64\n",
      " 15  Выручка_1й_месяц                     1296 non-null   float64\n",
      " 16  Минут_2й_месяц                       1296 non-null   int64  \n",
      " 17  Минут_1й_месяц                       1296 non-null   int64  \n",
      "dtypes: float64(5), int64(9), object(4)\n",
      "memory usage: 192.4+ KB\n"
     ]
    }
   ],
   "source": [
    "#удалим пропуски\n",
    "market_data_total = market_data_total.dropna()\n",
    "#проверим общее число строк и колонок\n",
    "display(market_data_total.shape)\n",
    "#выведем информацию по пропускам\n",
    "completeness_check(market_data_total, 'со всей информацией')\n",
    "display(market_data_total.head())\n",
    "market_data_total.info()"
   ]
  },
  {
   "cell_type": "markdown",
   "metadata": {},
   "source": [
    "## Корреляционный анализ"
   ]
  },
  {
   "cell_type": "markdown",
   "metadata": {},
   "source": [
    "Проведем корреляционный анализ итоговой таблицы"
   ]
  },
  {
   "cell_type": "code",
   "execution_count": 31,
   "metadata": {},
   "outputs": [
    {
     "data": {
      "image/png": "[encoded data removed]",
      "text/plain": [
       "<Figure size 864x720 with 2 Axes>"
      ]
     },
     "metadata": {
      "needs_background": "light"
     },
     "output_type": "display_data"
    }
   ],
   "source": [
    "#используем для этого более подходящую библитеку phik,\n",
    "#которая может найти коэффициент корреляции между числовыми и категориальными признаками\n",
    "market_data_total_corr = market_data_total.drop('id', axis=1)\n",
    "market_data_total_corr = market_data_total_corr.phik_matrix(\n",
    "    interval_cols=['Маркет_актив_6_мес',\n",
    "                   'Длительность',\n",
    "                   'Акционные_покупки',\n",
    "                   'Выручка_2й_месяц',\n",
    "                   'Выручка_3й_месяц',\n",
    "                   'Выручка_1й_месяц'\n",
    "                  ]\n",
    ")\n",
    "plt.figure(figsize=(12, 10))\n",
    "sns.heatmap(market_data_total_corr, annot=True, cmap='coolwarm')\n",
    "plt.title('Корреляция между признаками для основной таблицы')\n",
    "plt.show()"
   ]
  },
  {
   "cell_type": "markdown",
   "metadata": {},
   "source": [
    "При просмотре таблицы корреляции мультиколлинеарности не обнаружили.     \n",
    "Есть признаки, которые коррелируют с целевым и имеют коэффициент больше 0.5 или равный такие как: \"Маркет_актив_6_мес\", \"Акционные покупки\", \"Средний_просмотр_категорий_за_визит\", \"Неоплаченные_продукты_штук_квартал\", \"Страниц_за_визит\", \"Выручка_3й_месяц\", \"Минут_1й_месяц\" и \"Минут_2й_месяц\"."
   ]
  },
  {
   "cell_type": "markdown",
   "metadata": {},
   "source": [
    "## Работа с пайплайном"
   ]
  },
  {
   "cell_type": "markdown",
   "metadata": {},
   "source": [
    "Чтобы обработать результат сразу нескольких моделей построим пайплайн, который облегчит обработку и последующее обучение моделей и найдем лучшую из них с помощью мультискоринга."
   ]
  },
  {
   "cell_type": "code",
   "execution_count": 32,
   "metadata": {},
   "outputs": [],
   "source": [
    "#сделаем столбец 'id' как индекс для таблицы\n",
    "market_data_total = market_data_total.set_index('id')"
   ]
  },
  {
   "cell_type": "code",
   "execution_count": 33,
   "metadata": {},
   "outputs": [],
   "source": [
    "#разделим данные на две выборки\n",
    "X_train, X_test, y_train, y_test = train_test_split(\n",
    "    market_data_total.drop(['Покупательская_активность'], axis=1),\n",
    "    market_data_total['Покупательская_активность'],\n",
    "    test_size = TEST_SIZE, \n",
    "    random_state = RANDOM_STATE,\n",
    "    stratify = market_data_total['Покупательская_активность'])"
   ]
  },
  {
   "cell_type": "code",
   "execution_count": 34,
   "metadata": {},
   "outputs": [],
   "source": [
    "#подготовим колонки, которые нужно будет преобразовать\n",
    "ohe_columns = ['Популярная_категория']\n",
    "ord_columns = ['Тип_сервиса', 'Разрешить_сообщать']"
   ]
  },
  {
   "cell_type": "code",
   "execution_count": 35,
   "metadata": {},
   "outputs": [],
   "source": [
    "num_columns = [\n",
    "    'Маркет_актив_6_мес',\n",
    "    'Маркет_актив_тек_мес',\n",
    "    'Длительность',\n",
    "    'Акционные_покупки',\n",
    "    'Средний_просмотр_категорий_за_визит',\n",
    "    'Неоплаченные_продукты_штук_квартал',\n",
    "    'Ошибка_сервиса',\n",
    "    'Страниц_за_визит',\n",
    "    'Выручка_2й_месяц',\n",
    "    'Выручка_3й_месяц',\n",
    "    'Выручка_1й_месяц',\n",
    "    'Минут_2й_месяц',\n",
    "    'Минут_1й_месяц'\n",
    "]\n",
    "#создаем пайплайн для ohe кодирования\n",
    "ohe_pipe = Pipeline(\n",
    "    [('simpleImputer_ohe', SimpleImputer(missing_values=np.nan, strategy='most_frequent')),\n",
    "     ('ohe', OneHotEncoder(drop='first', handle_unknown='ignore', sparse_output=False))\n",
    "    ]\n",
    ")\n",
    "#пайплайн для ord кодирования \n",
    "ord_pipe = Pipeline(\n",
    "    [('simpleImputer_before_ord', SimpleImputer(missing_values=np.nan, strategy='most_frequent')),\n",
    "     ('ord',  OrdinalEncoder(\n",
    "                categories=[\n",
    "                    ['стандарт', 'премиум'],\n",
    "                    ['нет','да']\n",
    "                ], \n",
    "                handle_unknown='use_encoded_value', unknown_value=np.nan\n",
    "            )\n",
    "        ),\n",
    "     ('simpleImputer_after_ord', SimpleImputer(missing_values=np.nan, strategy='most_frequent'))\n",
    "    ]\n",
    ")\n",
    "#общий пайплайн для подготовки данных\n",
    "data_preprocessor = ColumnTransformer(\n",
    "    [\n",
    "        ('ohe', ohe_pipe, ohe_columns),\n",
    "        ('ord', ord_pipe, ord_columns),\n",
    "        ('num', StandardScaler(), num_columns)\n",
    "    ], \n",
    "    remainder='passthrough'\n",
    ")\n",
    "#создаем финальный пайплайн\n",
    "pipe_final = Pipeline(\n",
    "    [\n",
    "        ('preprocessor', data_preprocessor),\n",
    "        ('models', DecisionTreeClassifier(random_state=RANDOM_STATE))\n",
    "    ]\n",
    ")"
   ]
  },
  {
   "cell_type": "code",
   "execution_count": 36,
   "metadata": {},
   "outputs": [],
   "source": [
    "#саздадим гиперпараметры для моделей и для перебора методов масштабирования для числовых признаков\n",
    "param_grid = [\n",
    "    {\n",
    "        'models':[DecisionTreeClassifier(random_state=RANDOM_STATE)],\n",
    "        'models__max_depth': range(2, 8),\n",
    "        'models__max_features': range(2, 8),\n",
    "        'preprocessor__num': [StandardScaler(), MinMaxScaler(), RobustScaler(), 'passthrough'] \n",
    "    },\n",
    "    {\n",
    "        'models':[KNeighborsClassifier()],\n",
    "        'models__n_neighbors': range(2, 5),\n",
    "        'preprocessor__num': [StandardScaler(), MinMaxScaler(), RobustScaler(), 'passthrough']\n",
    "    },\n",
    "    {\n",
    "        'models': [LogisticRegression(\n",
    "            random_state=RANDOM_STATE, \n",
    "            solver='liblinear', \n",
    "            penalty='l1'\n",
    "        )],\n",
    "        'models__C': range(1, 5),\n",
    "        'preprocessor__num': [StandardScaler(), MinMaxScaler(), RobustScaler(), 'passthrough']  \n",
    "    },\n",
    "    {\n",
    "        'models': [SVC(random_state=RANDOM_STATE, kernel='poly', probability=True)],\n",
    "        'models__degree': range(2, 7),\n",
    "        'preprocessor__num': [StandardScaler(), MinMaxScaler(), RobustScaler(), 'passthrough']\n",
    "    }\n",
    "]"
   ]
  },
  {
   "cell_type": "code",
   "execution_count": 37,
   "metadata": {},
   "outputs": [],
   "source": [
    "#через автоматический перебор моделей найдем лучшую\n",
    "randomized_search = RandomizedSearchCV(\n",
    "    pipe_final, \n",
    "    param_grid, \n",
    "    scoring='roc_auc',\n",
    "    cv=5,\n",
    "    random_state=RANDOM_STATE,\n",
    "    n_jobs=-1\n",
    ")"
   ]
  },
  {
   "cell_type": "code",
   "execution_count": 38,
   "metadata": {},
   "outputs": [
    {
     "name": "stdout",
     "output_type": "stream",
     "text": [
      "Метрика roc_auc для лучшей модели:\n",
      " 0.8962153897699352\n",
      "\n",
      "Лучшая модель и её параметры:\n",
      "\n",
      " Pipeline(steps=[('preprocessor',\n",
      "                 ColumnTransformer(remainder='passthrough',\n",
      "                                   transformers=[('ohe',\n",
      "                                                  Pipeline(steps=[('simpleImputer_ohe',\n",
      "                                                                   SimpleImputer(strategy='most_frequent')),\n",
      "                                                                  ('ohe',\n",
      "                                                                   OneHotEncoder(drop='first',\n",
      "                                                                                 handle_unknown='ignore',\n",
      "                                                                                 sparse_output=False))]),\n",
      "                                                  ['Популярная_категория']),\n",
      "                                                 ('ord',\n",
      "                                                  Pipeline(steps=[('simpleImputer_before_ord',\n",
      "                                                                   SimpleImputer(stra...\n",
      "                                                  ['Маркет_актив_6_мес',\n",
      "                                                   'Маркет_актив_тек_мес',\n",
      "                                                   'Длительность',\n",
      "                                                   'Акционные_покупки',\n",
      "                                                   'Средний_просмотр_категорий_за_визит',\n",
      "                                                   'Неоплаченные_продукты_штук_квартал',\n",
      "                                                   'Ошибка_сервиса',\n",
      "                                                   'Страниц_за_визит',\n",
      "                                                   'Выручка_2й_месяц',\n",
      "                                                   'Выручка_3й_месяц',\n",
      "                                                   'Выручка_1й_месяц',\n",
      "                                                   'Минут_2й_месяц',\n",
      "                                                   'Минут_1й_месяц'])])),\n",
      "                ('models',\n",
      "                 LogisticRegression(C=3, penalty='l1', random_state=42,\n",
      "                                    solver='liblinear'))])\n"
     ]
    }
   ],
   "source": [
    "randomized_search.fit(X_train, y_train)\n",
    "#выведем лучшую модель и её параметры\n",
    "print('Метрика roc_auc для лучшей модели:\\n', randomized_search.best_score_)\n",
    "print('\\nЛучшая модель и её параметры:\\n\\n', randomized_search.best_estimator_)"
   ]
  },
  {
   "cell_type": "code",
   "execution_count": 39,
   "metadata": {},
   "outputs": [
    {
     "name": "stdout",
     "output_type": "stream",
     "text": [
      "Метрика ROC-AUC на тестовой выборке: 0.9163531933826802\n"
     ]
    }
   ],
   "source": [
    "#проверим лучшую модель на тестовой выборке и выведем её ROC-auc\n",
    "y_test_pred = randomized_search.predict_proba(X_test)\n",
    "print(f'Метрика ROC-AUC на тестовой выборке: {roc_auc_score(y_test, y_test_pred[:, 1])}')"
   ]
  },
  {
   "cell_type": "markdown",
   "metadata": {},
   "source": [
    "Сравним нашу модель с базовым классификатром DummyClassifier."
   ]
  },
  {
   "cell_type": "code",
   "execution_count": 40,
   "metadata": {},
   "outputs": [
    {
     "name": "stdout",
     "output_type": "stream",
     "text": [
      "Метрика ROC-AUC на тестовой выборке для базового классификатора модели: 0.5\n"
     ]
    }
   ],
   "source": [
    "#определим базовую модель\n",
    "dummy_clf = DummyClassifier(strategy=\"most_frequent\")\n",
    "dummy_clf.fit(X_train, y_train)\n",
    "dummy_pred = dummy_clf.predict_proba(X_test)\n",
    "print(f'Метрика ROC-AUC на тестовой выборке для базового классификатора модели: {roc_auc_score(y_test, dummy_pred[:, 1])}')"
   ]
  },
  {
   "cell_type": "markdown",
   "metadata": {},
   "source": [
    "С такой вероятностью предсказания базовая модель не отличается от подбрасывания монетки, значит выбранная лучшая модель справляется со своей задачей очень хорошо."
   ]
  },
  {
   "cell_type": "markdown",
   "metadata": {},
   "source": [
    "При проверке моделей лучший результат по выбранной метрике показала логистическая регрессия со значением в 0.89 на обучающей выборке и 0.91 на тестовой выборке.  \n",
    "\n",
    "Метод оценивания ROC-auc хорошо подходит в нашей ситуации т.к. она независима от порога классификации модели чем выше значение метода тем лучше модель различает предсказываемые классы."
   ]
  },
  {
   "cell_type": "code",
   "execution_count": 41,
   "metadata": {},
   "outputs": [
    {
     "data": {
      "text/html": [
       "<style>#sk-container-id-1 {color: black;}#sk-container-id-1 pre{padding: 0;}#sk-container-id-1 div.sk-toggleable {background-color: white;}#sk-container-id-1 label.sk-toggleable__label {cursor: pointer;display: block;width: 100%;margin-bottom: 0;padding: 0.3em;box-sizing: border-box;text-align: center;}#sk-container-id-1 label.sk-toggleable__label-arrow:before {content: \"▸\";float: left;margin-right: 0.25em;color: #696969;}#sk-container-id-1 label.sk-toggleable__label-arrow:hover:before {color: black;}#sk-container-id-1 div.sk-estimator:hover label.sk-toggleable__label-arrow:before {color: black;}#sk-container-id-1 div.sk-toggleable__content {max-height: 0;max-width: 0;overflow: hidden;text-align: left;background-color: #f0f8ff;}#sk-container-id-1 div.sk-toggleable__content pre {margin: 0.2em;color: black;border-radius: 0.25em;background-color: #f0f8ff;}#sk-container-id-1 input.sk-toggleable__control:checked~div.sk-toggleable__content {max-height: 200px;max-width: 100%;overflow: auto;}#sk-container-id-1 input.sk-toggleable__control:checked~label.sk-toggleable__label-arrow:before {content: \"▾\";}#sk-container-id-1 div.sk-estimator input.sk-toggleable__control:checked~label.sk-toggleable__label {background-color: #d4ebff;}#sk-container-id-1 div.sk-label input.sk-toggleable__control:checked~label.sk-toggleable__label {background-color: #d4ebff;}#sk-container-id-1 input.sk-hidden--visually {border: 0;clip: rect(1px 1px 1px 1px);clip: rect(1px, 1px, 1px, 1px);height: 1px;margin: -1px;overflow: hidden;padding: 0;position: absolute;width: 1px;}#sk-container-id-1 div.sk-estimator {font-family: monospace;background-color: #f0f8ff;border: 1px dotted black;border-radius: 0.25em;box-sizing: border-box;margin-bottom: 0.5em;}#sk-container-id-1 div.sk-estimator:hover {background-color: #d4ebff;}#sk-container-id-1 div.sk-parallel-item::after {content: \"\";width: 100%;border-bottom: 1px solid gray;flex-grow: 1;}#sk-container-id-1 div.sk-label:hover label.sk-toggleable__label {background-color: #d4ebff;}#sk-container-id-1 div.sk-serial::before {content: \"\";position: absolute;border-left: 1px solid gray;box-sizing: border-box;top: 0;bottom: 0;left: 50%;z-index: 0;}#sk-container-id-1 div.sk-serial {display: flex;flex-direction: column;align-items: center;background-color: white;padding-right: 0.2em;padding-left: 0.2em;position: relative;}#sk-container-id-1 div.sk-item {position: relative;z-index: 1;}#sk-container-id-1 div.sk-parallel {display: flex;align-items: stretch;justify-content: center;background-color: white;position: relative;}#sk-container-id-1 div.sk-item::before, #sk-container-id-1 div.sk-parallel-item::before {content: \"\";position: absolute;border-left: 1px solid gray;box-sizing: border-box;top: 0;bottom: 0;left: 50%;z-index: -1;}#sk-container-id-1 div.sk-parallel-item {display: flex;flex-direction: column;z-index: 1;position: relative;background-color: white;}#sk-container-id-1 div.sk-parallel-item:first-child::after {align-self: flex-end;width: 50%;}#sk-container-id-1 div.sk-parallel-item:last-child::after {align-self: flex-start;width: 50%;}#sk-container-id-1 div.sk-parallel-item:only-child::after {width: 0;}#sk-container-id-1 div.sk-dashed-wrapped {border: 1px dashed gray;margin: 0 0.4em 0.5em 0.4em;box-sizing: border-box;padding-bottom: 0.4em;background-color: white;}#sk-container-id-1 div.sk-label label {font-family: monospace;font-weight: bold;display: inline-block;line-height: 1.2em;}#sk-container-id-1 div.sk-label-container {text-align: center;}#sk-container-id-1 div.sk-container {/* jupyter's `normalize.less` sets `[hidden] { display: none; }` but bootstrap.min.css set `[hidden] { display: none !important; }` so we also need the `!important` here to be able to override the default hidden behavior on the sphinx rendered scikit-learn.org. See: https://github.com/scikit-learn/scikit-learn/issues/21755 */display: inline-block !important;position: relative;}#sk-container-id-1 div.sk-text-repr-fallback {display: none;}</style><div id=\"sk-container-id-1\" class=\"sk-top-container\"><div class=\"sk-text-repr-fallback\"><pre>LogisticRegression(C=3, penalty=&#x27;l1&#x27;, random_state=42, solver=&#x27;liblinear&#x27;)</pre><b>In a Jupyter environment, please rerun this cell to show the HTML representation or trust the notebook. <br />On GitHub, the HTML representation is unable to render, please try loading this page with nbviewer.org.</b></div><div class=\"sk-container\" hidden><div class=\"sk-item\"><div class=\"sk-estimator sk-toggleable\"><input class=\"sk-toggleable__control sk-hidden--visually\" id=\"sk-estimator-id-1\" type=\"checkbox\" checked><label for=\"sk-estimator-id-1\" class=\"sk-toggleable__label sk-toggleable__label-arrow\">LogisticRegression</label><div class=\"sk-toggleable__content\"><pre>LogisticRegression(C=3, penalty=&#x27;l1&#x27;, random_state=42, solver=&#x27;liblinear&#x27;)</pre></div></div></div></div></div>"
      ],
      "text/plain": [
       "LogisticRegression(C=3, penalty='l1', random_state=42, solver='liblinear')"
      ]
     },
     "execution_count": 41,
     "metadata": {},
     "output_type": "execute_result"
    }
   ],
   "source": [
    "#подготовим данные для обучения лучшей моделью\n",
    "X_train_best = pd.DataFrame(\n",
    "    pipe_final.named_steps['preprocessor'].fit_transform(X_train),\n",
    "    columns=pipe_final.named_steps['preprocessor'].get_feature_names_out()\n",
    ")\n",
    "\n",
    "X_test_best = pd.DataFrame(\n",
    "    pipe_final.named_steps['preprocessor'].transform(X_test),\n",
    "    columns=pipe_final.named_steps['preprocessor'].get_feature_names_out()\n",
    ")\n",
    "\n",
    "#обучаем модель логистической регрессии для получения предсказаний\n",
    "best_model_shap = LogisticRegression(C=3, penalty='l1', random_state=RANDOM_STATE, solver='liblinear')\n",
    "best_model_shap.fit(X_train_best.values, y_train)"
   ]
  },
  {
   "cell_type": "markdown",
   "metadata": {},
   "source": [
    "## SHAP-визуализация важности признаков"
   ]
  },
  {
   "cell_type": "code",
   "execution_count": 42,
   "metadata": {},
   "outputs": [
    {
     "name": "stderr",
     "output_type": "stream",
     "text": [
      "100%|██████████| 10/10 [00:02<00:00,  3.67it/s]\n"
     ]
    },
    {
     "data": {
      "image/png": "[encoded data removed]",
      "text/plain": [
       "<Figure size 576x648 with 1 Axes>"
      ]
     },
     "metadata": {},
     "output_type": "display_data"
    }
   ],
   "source": [
    "# Создание объекта KernelExplainer с вероятностями для одного класса\n",
    "explainer = shap.KernelExplainer(lambda x: best_model_shap.predict_proba(x)[:, 1], shap.sample(X_train_best, 10))\n",
    "\n",
    "# Рассчет SHAP значений для тестовых данных\n",
    "shap_values = explainer(shap.sample(X_test_best, 10))\n",
    "\n",
    "# Визуализация\n",
    "shap.plots.bar(shap_values, max_display=15, show=False)\n",
    "plt.title('График важности признаков модели')\n",
    "plt.ylabel('Признаки')\n",
    "plt.show()"
   ]
  },
  {
   "cell_type": "markdown",
   "metadata": {},
   "source": [
    "Изучив график важности признаков лучшей модели заметили логичный вывод, время проведенное пользователем на сайте сильно влияет на его активность и чем меньше времени пользователь проводит за месяц, тем более вероятно снижение его активности на сайте - тут вопросов нет, разберем другие признаки. На активность так же влияют среднее число страниц и среднее число категорий, которые пользователь просмотрел. Так же стоит заметить, что признак связанный с акционными покупками находиться в середине перечня, что делает его важным для нашего исследования. Неоплаченные продукты тоже побуждают пользователей возвращаться на сайт и если учесть признак с акционными покупками, то можно предположить, что будь на неоплаченный товар акция или скидка, то пользватель мог бы приобрести данный товар с большим желанием. Так же видим две категории, которые могут влиять на активность пользователей, а значит их можно назвать популярнее других - это мелкая бытовая техника и электроника; товары для детей."
   ]
  },
  {
   "cell_type": "markdown",
   "metadata": {},
   "source": [
    "## Сегментация покупателей"
   ]
  },
  {
   "cell_type": "markdown",
   "metadata": {},
   "source": [
    "На данном этапе воспользуемся предсказанными значениями из нашей модели и добавим к ним прибыль, которую пользователи приносят сайту, чтобы найти покупателей, чья активность снижается и они до этого приносили большую прибыль сайту. Так же стоит проверить на какие категории товаром данные покупатели тратили своё время и деньги, чтобы разработать сратегию по их удержанию на сайте. "
   ]
  },
  {
   "cell_type": "code",
   "execution_count": 43,
   "metadata": {},
   "outputs": [
    {
     "data": {
      "text/html": [
       "<div>\n",
       "<style scoped>\n",
       "    .dataframe tbody tr th:only-of-type {\n",
       "        vertical-align: middle;\n",
       "    }\n",
       "\n",
       "    .dataframe tbody tr th {\n",
       "        vertical-align: top;\n",
       "    }\n",
       "\n",
       "    .dataframe thead th {\n",
       "        text-align: right;\n",
       "    }\n",
       "</style>\n",
       "<table border=\"1\" class=\"dataframe\">\n",
       "  <thead>\n",
       "    <tr style=\"text-align: right;\">\n",
       "      <th></th>\n",
       "      <th>id</th>\n",
       "      <th>Прибыль</th>\n",
       "      <th>Вероятность_снижения</th>\n",
       "    </tr>\n",
       "  </thead>\n",
       "  <tbody>\n",
       "    <tr>\n",
       "      <th>0</th>\n",
       "      <td>216161</td>\n",
       "      <td>4.69</td>\n",
       "      <td>0.013116</td>\n",
       "    </tr>\n",
       "    <tr>\n",
       "      <th>1</th>\n",
       "      <td>215654</td>\n",
       "      <td>2.75</td>\n",
       "      <td>0.989160</td>\n",
       "    </tr>\n",
       "    <tr>\n",
       "      <th>2</th>\n",
       "      <td>216307</td>\n",
       "      <td>3.16</td>\n",
       "      <td>0.100315</td>\n",
       "    </tr>\n",
       "    <tr>\n",
       "      <th>3</th>\n",
       "      <td>215501</td>\n",
       "      <td>3.74</td>\n",
       "      <td>0.821361</td>\n",
       "    </tr>\n",
       "    <tr>\n",
       "      <th>4</th>\n",
       "      <td>215934</td>\n",
       "      <td>4.40</td>\n",
       "      <td>0.505902</td>\n",
       "    </tr>\n",
       "    <tr>\n",
       "      <th>...</th>\n",
       "      <td>...</td>\n",
       "      <td>...</td>\n",
       "      <td>...</td>\n",
       "    </tr>\n",
       "    <tr>\n",
       "      <th>319</th>\n",
       "      <td>215429</td>\n",
       "      <td>3.71</td>\n",
       "      <td>0.968205</td>\n",
       "    </tr>\n",
       "    <tr>\n",
       "      <th>320</th>\n",
       "      <td>216233</td>\n",
       "      <td>4.62</td>\n",
       "      <td>0.046957</td>\n",
       "    </tr>\n",
       "    <tr>\n",
       "      <th>321</th>\n",
       "      <td>215716</td>\n",
       "      <td>4.07</td>\n",
       "      <td>0.889868</td>\n",
       "    </tr>\n",
       "    <tr>\n",
       "      <th>322</th>\n",
       "      <td>216141</td>\n",
       "      <td>1.97</td>\n",
       "      <td>0.180913</td>\n",
       "    </tr>\n",
       "    <tr>\n",
       "      <th>323</th>\n",
       "      <td>215670</td>\n",
       "      <td>4.27</td>\n",
       "      <td>0.991483</td>\n",
       "    </tr>\n",
       "  </tbody>\n",
       "</table>\n",
       "<p>324 rows × 3 columns</p>\n",
       "</div>"
      ],
      "text/plain": [
       "         id  Прибыль  Вероятность_снижения\n",
       "0    216161     4.69              0.013116\n",
       "1    215654     2.75              0.989160\n",
       "2    216307     3.16              0.100315\n",
       "3    215501     3.74              0.821361\n",
       "4    215934     4.40              0.505902\n",
       "..      ...      ...                   ...\n",
       "319  215429     3.71              0.968205\n",
       "320  216233     4.62              0.046957\n",
       "321  215716     4.07              0.889868\n",
       "322  216141     1.97              0.180913\n",
       "323  215670     4.27              0.991483\n",
       "\n",
       "[324 rows x 3 columns]"
      ]
     },
     "metadata": {},
     "output_type": "display_data"
    },
    {
     "name": "stderr",
     "output_type": "stream",
     "text": [
      "No data for colormapping provided via 'c'. Parameters 'cmap' will be ignored\n"
     ]
    },
    {
     "data": {
      "image/png": "[encoded data removed]",
      "text/plain": [
       "<Figure size 720x864 with 1 Axes>"
      ]
     },
     "metadata": {
      "needs_background": "light"
     },
     "output_type": "display_data"
    }
   ],
   "source": [
    "#выделим значения вероятностей для класса \"снизилась\" и создадим отдельный датафрейм с индексами соответствующими предсказаниям\n",
    "best_model = LogisticRegression(C=3, penalty='l1', random_state=RANDOM_STATE, solver='liblinear')\n",
    "best_model.fit(X_train_best, y_train)\n",
    "predicts = pd.DataFrame({'id': X_test.index, 'Вероятность_снижения': best_model.predict_proba(X_test_best)[:, 1]})\n",
    "#объединим таблицу вероятностей и таблицу с прыбылью\n",
    "money_with_predicts = money.merge(predicts, on='id', how='right')\n",
    "display(money_with_predicts)\n",
    "#построим график разбросса пользователей и их прибылью, чтобы наглядно увидеть сколько из них имеют большую вероятность\n",
    "#к снижению активности на сайте\n",
    "money_with_predicts.plot(\n",
    "    x='Вероятность_снижения',\n",
    "    y='Прибыль',\n",
    "    kind='scatter',\n",
    "    figsize=(10, 12),\n",
    "    grid=True,\n",
    "    legend=True,\n",
    "    c='b'\n",
    ")\n",
    "plt.title('График распределния значений в колонке')\n",
    "plt.show()"
   ]
  },
  {
   "cell_type": "markdown",
   "metadata": {},
   "source": [
    "Видим по графику разброса, что есть немалое число пользователей, которые имея высокую прибыль для сайта так же имеют и высокий шанс снижения активности или в принципе отказ от услуг сайта. Рассмотрим отдельно эту категорию выделив их: значением прибыли от 3 и с вероятностью снижения активности более 0.5 сопоставив их с категориями товарных групп."
   ]
  },
  {
   "cell_type": "code",
   "execution_count": 44,
   "metadata": {},
   "outputs": [
    {
     "data": {
      "image/png": "[encoded data removed]",
      "text/plain": [
       "<Figure size 576x720 with 1 Axes>"
      ]
     },
     "metadata": {
      "needs_background": "light"
     },
     "output_type": "display_data"
    }
   ],
   "source": [
    "plt.figure(figsize=(8,10))\n",
    "X_test_with_preds = X_test.merge(money_with_predicts, on='id', how='right')\n",
    "sns.countplot(X_test_with_preds.query('Прибыль > 2.99 and Вероятность_снижения > 0.5'), x='Популярная_категория')\n",
    "plt.title('Распределение пользователей с высокой выручкой по их категориям продаваемых товаров')\n",
    "plt.grid(True)\n",
    "plt.xticks(rotation=30, ha='right')\n",
    "plt.xlabel('Категории')\n",
    "plt.ylabel('Частота')\n",
    "plt.show()"
   ]
  },
  {
   "cell_type": "markdown",
   "metadata": {},
   "source": [
    "Видно что рассматриваемые пользователи наиболее часто покупали такие товарные категории в порядке убывания: на первом месте идут товары для детей; на втором - домашний текстиль; на третьем - косметика и акссесуары; далее все остальные - кухонная посуда; техника для красоты и здоровья; мелкая бытовая техника и электроника.  \n",
    "Значит чтобы восстановить прежню активность для этих пользователей следует привлечь их внимание через три популярные категории предлагая им всевозможные акции, скидки и тому подобные вещи, чтобы заинтересовать их и удержать на сайте."
   ]
  },
  {
   "cell_type": "markdown",
   "metadata": {},
   "source": [
    "## Общий вывод"
   ]
  },
  {
   "cell_type": "markdown",
   "metadata": {},
   "source": [
    "Как говорилось в начале проекта - интернет магазин \"В один клик\" занимается продажей разных товаров. В результате отчета о посещении магазина, выяснилось, что число пользователей начало снижаться и это негативно влияет на продажи компании. Было принято решение разработать модель машинного обучения, которая сможет сделать персонализированные предложения для постоянных клиентов магазина и сможет удержать их на сайте.  \n",
    "\n",
    "В качестве исходных были предоставленны следующие данные: данные о активности пользователей на самом сайте; данные о выручке, которую пользователи приносят сайту; данные о времени проведенном пользователями на сайте и данные о прибыли полученной от пользователей.  \n",
    "\n",
    "При проведении предобработки в таблице активности пользователей была исправлена ошибка в названии категории, так же и в таблице со временем. Пропусков и дубликатов в таблицах не обнаружили. Был исправлен явный выброс в таблице с выручкой, который мог бы повлиять на предсказания будущей модели.  \n",
    "\n",
    "Для выявления лучшей модели для предсказаний воспользовались методом под названием \"пайплайн\", который может вмешать в себя сразу несколько выидов масштабирования и кодирования признаков, так же с помощью него есть возможность проверить сразу несколько моделей с различными параметрами для них. После необходимых для пайплайна операций он был использован совместно с методом для поиска лучшего сочетания внутренних параметров пайплайна, а именно с помощью метода \"RandomizedSearch\". Для проверки качества модели была выбрана метрика ROC-auc, которая строит график точности предсказаний и учитывает в себе ошибки первого и второго рода. По результатам метода  RandomizedSearch лучший результат на обучающей выборке получила модель логистической регрессии с числом ROC-auc 0.896, а на тестовой выборке 0.91. Так же было проведено сравнение с моделью \"DummyClassifier\", которая с той метрикой показала результат в 0.5. \n",
    "\n",
    "Вот параметры лучшей модели:  \n",
    "**LogisticRegression(C=3, penalty='l1', random_state=42, solver='liblinear')**.  \n",
    "\n",
    "Для отдельного рассмотрения выбрали пользователей, у которых согласно прогнозу модели начнет снижаться активность и при этом они имеют относительно высокую прибыль для площадки. При исследовании данного сегмента пользователей так же рассмотрели популярные для них категории товаров и выявили, что наибольшей популярностью обладает категория - \"товары для детей\".  \n",
    "Как уже было сказано ранее, чтобы удержать пользователей на сайте стоит ввести различные акционные предложения на популярные товары и всевозможные скидки на них, к этому дополнительно, можно добавить оповещения для акционных товаров, если они находяться у пользователей в списке неоплаченных, что побудит их зайти и продумать выгоду для себя от покупки желаемого товара со сниженной ценой. В идеале настроить гибкие рекомендации, которые отталкивались бы от просмотренных человеком категорий товаров и искало бы смежные с ними: либо обычные, либо со скидкой, создавая тем самым комплекты к ним."
   ]
  }
 ],
 "metadata": {
  "ExecuteTimeLog": [
   {
    "duration": 50,
    "start_time": "2024-08-26T15:59:28.764Z"
   },
   {
    "duration": 9551,
    "start_time": "2024-08-26T15:59:32.842Z"
   },
   {
    "duration": 372,
    "start_time": "2024-08-26T15:59:42.396Z"
   },
   {
    "duration": 113,
    "start_time": "2024-08-26T16:00:30.687Z"
   },
   {
    "duration": 108,
    "start_time": "2024-08-26T16:00:39.655Z"
   },
   {
    "duration": 111,
    "start_time": "2024-08-26T16:06:01.003Z"
   },
   {
    "duration": 40,
    "start_time": "2024-08-26T16:10:28.132Z"
   },
   {
    "duration": 352,
    "start_time": "2024-08-26T16:18:54.267Z"
   },
   {
    "duration": 5,
    "start_time": "2024-08-26T16:19:25.740Z"
   },
   {
    "duration": 15,
    "start_time": "2024-08-26T16:19:38.619Z"
   },
   {
    "duration": 3,
    "start_time": "2024-08-26T16:25:45.223Z"
   },
   {
    "duration": 15,
    "start_time": "2024-08-26T18:12:25.116Z"
   },
   {
    "duration": 3,
    "start_time": "2024-08-26T18:12:29.246Z"
   },
   {
    "duration": 10,
    "start_time": "2024-08-26T18:12:31.133Z"
   },
   {
    "duration": 9,
    "start_time": "2024-08-26T18:12:34.518Z"
   },
   {
    "duration": 4,
    "start_time": "2024-08-26T18:12:36.222Z"
   },
   {
    "duration": 12,
    "start_time": "2024-08-26T18:12:38.526Z"
   },
   {
    "duration": 10,
    "start_time": "2024-08-26T18:12:54.614Z"
   },
   {
    "duration": 8,
    "start_time": "2024-08-26T18:15:29.541Z"
   },
   {
    "duration": 8,
    "start_time": "2024-08-26T18:15:43.844Z"
   },
   {
    "duration": 10,
    "start_time": "2024-08-26T18:16:09.305Z"
   },
   {
    "duration": 4913,
    "start_time": "2024-08-26T18:41:56.593Z"
   },
   {
    "duration": 122,
    "start_time": "2024-08-26T18:42:01.509Z"
   },
   {
    "duration": 40,
    "start_time": "2024-08-26T18:42:01.632Z"
   },
   {
    "duration": 4,
    "start_time": "2024-08-26T18:42:01.674Z"
   },
   {
    "duration": 3,
    "start_time": "2024-08-26T18:42:01.680Z"
   },
   {
    "duration": 12,
    "start_time": "2024-08-26T18:42:01.684Z"
   },
   {
    "duration": 7,
    "start_time": "2024-08-26T18:42:01.697Z"
   },
   {
    "duration": 6,
    "start_time": "2024-08-26T18:42:43.510Z"
   },
   {
    "duration": 6,
    "start_time": "2024-08-26T18:42:55.559Z"
   },
   {
    "duration": 7,
    "start_time": "2024-08-26T18:43:38.469Z"
   },
   {
    "duration": 10360,
    "start_time": "2024-08-28T16:34:43.273Z"
   },
   {
    "duration": 504,
    "start_time": "2024-08-28T16:34:53.635Z"
   },
   {
    "duration": 76,
    "start_time": "2024-08-28T16:34:54.141Z"
   },
   {
    "duration": 4,
    "start_time": "2024-08-28T16:34:54.219Z"
   },
   {
    "duration": 21,
    "start_time": "2024-08-28T16:34:54.224Z"
   },
   {
    "duration": 48,
    "start_time": "2024-08-28T16:34:54.246Z"
   },
   {
    "duration": 8,
    "start_time": "2024-08-28T16:34:54.296Z"
   },
   {
    "duration": 12,
    "start_time": "2024-08-28T16:34:54.313Z"
   },
   {
    "duration": 8,
    "start_time": "2024-08-28T16:34:54.327Z"
   },
   {
    "duration": 10154,
    "start_time": "2024-08-29T16:11:54.083Z"
   },
   {
    "duration": 362,
    "start_time": "2024-08-29T16:12:04.240Z"
   },
   {
    "duration": 35,
    "start_time": "2024-08-29T16:12:04.604Z"
   },
   {
    "duration": 13,
    "start_time": "2024-08-29T16:12:04.641Z"
   },
   {
    "duration": 21,
    "start_time": "2024-08-29T16:12:04.655Z"
   },
   {
    "duration": 16,
    "start_time": "2024-08-29T16:12:04.678Z"
   },
   {
    "duration": 6,
    "start_time": "2024-08-29T16:12:04.695Z"
   },
   {
    "duration": 7,
    "start_time": "2024-08-29T16:12:04.703Z"
   },
   {
    "duration": 24,
    "start_time": "2024-08-29T16:12:04.712Z"
   },
   {
    "duration": 134,
    "start_time": "2024-08-29T16:12:04.738Z"
   },
   {
    "duration": 7,
    "start_time": "2024-08-29T16:27:39.586Z"
   },
   {
    "duration": 9,
    "start_time": "2024-08-29T16:31:09.368Z"
   },
   {
    "duration": 11,
    "start_time": "2024-08-29T16:33:09.614Z"
   },
   {
    "duration": 12,
    "start_time": "2024-08-29T16:44:23.976Z"
   },
   {
    "duration": 1176,
    "start_time": "2024-08-29T16:44:34.623Z"
   },
   {
    "duration": 1224,
    "start_time": "2024-08-29T16:45:00.785Z"
   },
   {
    "duration": 6,
    "start_time": "2024-08-29T16:45:48.996Z"
   },
   {
    "duration": 10,
    "start_time": "2024-08-29T16:47:35.394Z"
   },
   {
    "duration": 8,
    "start_time": "2024-08-29T16:47:38.542Z"
   },
   {
    "duration": 9,
    "start_time": "2024-08-29T16:47:57.287Z"
   },
   {
    "duration": 4753,
    "start_time": "2024-08-29T16:48:05.187Z"
   },
   {
    "duration": 116,
    "start_time": "2024-08-29T16:48:09.943Z"
   },
   {
    "duration": 33,
    "start_time": "2024-08-29T16:48:10.060Z"
   },
   {
    "duration": 3,
    "start_time": "2024-08-29T16:48:10.095Z"
   },
   {
    "duration": 18,
    "start_time": "2024-08-29T16:48:10.099Z"
   },
   {
    "duration": 10,
    "start_time": "2024-08-29T16:48:10.118Z"
   },
   {
    "duration": 27,
    "start_time": "2024-08-29T16:48:10.130Z"
   },
   {
    "duration": 7,
    "start_time": "2024-08-29T16:48:10.159Z"
   },
   {
    "duration": 11,
    "start_time": "2024-08-29T16:48:10.167Z"
   },
   {
    "duration": 4,
    "start_time": "2024-08-29T16:48:10.180Z"
   },
   {
    "duration": 45,
    "start_time": "2024-08-29T16:48:10.185Z"
   },
   {
    "duration": 31,
    "start_time": "2024-08-29T16:48:10.231Z"
   },
   {
    "duration": 14,
    "start_time": "2024-08-29T16:48:10.263Z"
   },
   {
    "duration": 27,
    "start_time": "2024-08-29T16:48:10.279Z"
   },
   {
    "duration": 11,
    "start_time": "2024-08-29T16:48:18.278Z"
   },
   {
    "duration": 10,
    "start_time": "2024-08-29T16:48:37.916Z"
   },
   {
    "duration": 6,
    "start_time": "2024-08-29T16:49:21.742Z"
   },
   {
    "duration": 16,
    "start_time": "2024-08-29T16:52:11.397Z"
   },
   {
    "duration": 6,
    "start_time": "2024-08-29T16:52:48.261Z"
   },
   {
    "duration": 17,
    "start_time": "2024-08-29T18:17:55.694Z"
   },
   {
    "duration": 30,
    "start_time": "2024-08-29T18:19:29.801Z"
   },
   {
    "duration": 28,
    "start_time": "2024-08-29T18:19:35.893Z"
   },
   {
    "duration": 12,
    "start_time": "2024-08-29T18:22:25.905Z"
   },
   {
    "duration": 8,
    "start_time": "2024-08-29T18:23:34.590Z"
   },
   {
    "duration": 7,
    "start_time": "2024-08-29T18:23:56.411Z"
   },
   {
    "duration": 7,
    "start_time": "2024-08-29T18:24:15.468Z"
   },
   {
    "duration": 11,
    "start_time": "2024-08-29T18:26:05.796Z"
   },
   {
    "duration": 4,
    "start_time": "2024-08-29T18:31:11.631Z"
   },
   {
    "duration": 10,
    "start_time": "2024-08-29T18:31:43.797Z"
   },
   {
    "duration": 11,
    "start_time": "2024-08-29T18:32:04.490Z"
   },
   {
    "duration": 15,
    "start_time": "2024-08-29T18:32:12.240Z"
   },
   {
    "duration": 4866,
    "start_time": "2024-08-29T18:32:41.165Z"
   },
   {
    "duration": 122,
    "start_time": "2024-08-29T18:32:46.033Z"
   },
   {
    "duration": 37,
    "start_time": "2024-08-29T18:32:46.157Z"
   },
   {
    "duration": 4,
    "start_time": "2024-08-29T18:32:46.195Z"
   },
   {
    "duration": 32,
    "start_time": "2024-08-29T18:32:46.200Z"
   },
   {
    "duration": 11,
    "start_time": "2024-08-29T18:32:46.234Z"
   },
   {
    "duration": 10,
    "start_time": "2024-08-29T18:32:46.246Z"
   },
   {
    "duration": 21,
    "start_time": "2024-08-29T18:32:46.258Z"
   },
   {
    "duration": 22,
    "start_time": "2024-08-29T18:32:46.282Z"
   },
   {
    "duration": 5,
    "start_time": "2024-08-29T18:32:46.306Z"
   },
   {
    "duration": 20,
    "start_time": "2024-08-29T18:32:46.312Z"
   },
   {
    "duration": 11,
    "start_time": "2024-08-29T18:32:46.334Z"
   },
   {
    "duration": 7,
    "start_time": "2024-08-29T18:32:46.347Z"
   },
   {
    "duration": 13,
    "start_time": "2024-08-29T18:32:46.355Z"
   },
   {
    "duration": 6,
    "start_time": "2024-08-29T18:32:46.369Z"
   },
   {
    "duration": 31,
    "start_time": "2024-08-29T18:32:46.376Z"
   },
   {
    "duration": 22,
    "start_time": "2024-08-29T18:32:46.409Z"
   },
   {
    "duration": 5,
    "start_time": "2024-08-29T18:32:46.432Z"
   },
   {
    "duration": 496,
    "start_time": "2024-08-29T18:32:46.438Z"
   },
   {
    "duration": 19,
    "start_time": "2024-08-29T18:33:42.987Z"
   },
   {
    "duration": 7,
    "start_time": "2024-08-29T18:34:32.041Z"
   },
   {
    "duration": 506,
    "start_time": "2024-08-29T18:34:52.859Z"
   },
   {
    "duration": 4,
    "start_time": "2024-08-29T18:35:08.758Z"
   },
   {
    "duration": 648,
    "start_time": "2024-08-29T18:35:11.590Z"
   },
   {
    "duration": 4,
    "start_time": "2024-08-29T18:35:29.525Z"
   },
   {
    "duration": 510,
    "start_time": "2024-08-29T18:35:31.259Z"
   },
   {
    "duration": 4,
    "start_time": "2024-08-29T18:35:43.130Z"
   },
   {
    "duration": 493,
    "start_time": "2024-08-29T18:35:44.832Z"
   },
   {
    "duration": 4,
    "start_time": "2024-08-29T18:35:54.225Z"
   },
   {
    "duration": 529,
    "start_time": "2024-08-29T18:35:57.145Z"
   },
   {
    "duration": 4,
    "start_time": "2024-08-29T18:38:37.028Z"
   },
   {
    "duration": 520,
    "start_time": "2024-08-29T18:38:39.335Z"
   },
   {
    "duration": 4,
    "start_time": "2024-08-29T18:42:29.511Z"
   },
   {
    "duration": 629,
    "start_time": "2024-08-29T18:42:32.281Z"
   },
   {
    "duration": 3,
    "start_time": "2024-08-29T18:42:41.843Z"
   },
   {
    "duration": 507,
    "start_time": "2024-08-29T18:42:43.964Z"
   },
   {
    "duration": 4698,
    "start_time": "2024-08-29T18:42:46.702Z"
   },
   {
    "duration": 116,
    "start_time": "2024-08-29T18:42:51.403Z"
   },
   {
    "duration": 36,
    "start_time": "2024-08-29T18:42:51.521Z"
   },
   {
    "duration": 4,
    "start_time": "2024-08-29T18:42:51.559Z"
   },
   {
    "duration": 8,
    "start_time": "2024-08-29T18:42:51.564Z"
   },
   {
    "duration": 22,
    "start_time": "2024-08-29T18:42:51.573Z"
   },
   {
    "duration": 7,
    "start_time": "2024-08-29T18:42:51.597Z"
   },
   {
    "duration": 8,
    "start_time": "2024-08-29T18:42:51.606Z"
   },
   {
    "duration": 9,
    "start_time": "2024-08-29T18:42:51.615Z"
   },
   {
    "duration": 14,
    "start_time": "2024-08-29T18:42:51.626Z"
   },
   {
    "duration": 29,
    "start_time": "2024-08-29T18:42:51.653Z"
   },
   {
    "duration": 66,
    "start_time": "2024-08-29T18:42:51.684Z"
   },
   {
    "duration": 5,
    "start_time": "2024-08-29T18:42:51.752Z"
   },
   {
    "duration": 11,
    "start_time": "2024-08-29T18:42:51.759Z"
   },
   {
    "duration": 5,
    "start_time": "2024-08-29T18:42:51.772Z"
   },
   {
    "duration": 10,
    "start_time": "2024-08-29T18:42:51.779Z"
   },
   {
    "duration": 12,
    "start_time": "2024-08-29T18:42:51.791Z"
   },
   {
    "duration": 4,
    "start_time": "2024-08-29T18:42:51.804Z"
   },
   {
    "duration": 538,
    "start_time": "2024-08-29T18:42:51.809Z"
   },
   {
    "duration": 4,
    "start_time": "2024-08-29T18:46:14.930Z"
   },
   {
    "duration": 33,
    "start_time": "2024-08-29T18:46:17.259Z"
   },
   {
    "duration": 3,
    "start_time": "2024-08-29T18:46:33.503Z"
   },
   {
    "duration": 494,
    "start_time": "2024-08-29T18:46:35.446Z"
   },
   {
    "duration": 4,
    "start_time": "2024-08-29T18:47:00.897Z"
   },
   {
    "duration": 120,
    "start_time": "2024-08-29T18:47:02.784Z"
   },
   {
    "duration": 4,
    "start_time": "2024-08-29T18:50:49.763Z"
   },
   {
    "duration": 120,
    "start_time": "2024-08-29T18:50:52.337Z"
   },
   {
    "duration": 4,
    "start_time": "2024-08-29T18:59:06.190Z"
   },
   {
    "duration": 16,
    "start_time": "2024-08-29T18:59:08.175Z"
   },
   {
    "duration": 4,
    "start_time": "2024-08-29T19:00:42.266Z"
   },
   {
    "duration": 104,
    "start_time": "2024-08-29T19:00:44.152Z"
   },
   {
    "duration": 3,
    "start_time": "2024-08-29T19:00:52.478Z"
   },
   {
    "duration": 250,
    "start_time": "2024-08-29T19:00:54.335Z"
   },
   {
    "duration": 4,
    "start_time": "2024-08-29T19:01:03.750Z"
   },
   {
    "duration": 108,
    "start_time": "2024-08-29T19:01:05.416Z"
   },
   {
    "duration": 4,
    "start_time": "2024-08-29T19:02:29.592Z"
   },
   {
    "duration": 17,
    "start_time": "2024-08-29T19:02:31.195Z"
   },
   {
    "duration": 3,
    "start_time": "2024-08-29T19:02:39.715Z"
   },
   {
    "duration": 458,
    "start_time": "2024-08-29T19:02:41.472Z"
   },
   {
    "duration": 4,
    "start_time": "2024-08-29T19:07:52.571Z"
   },
   {
    "duration": 466,
    "start_time": "2024-08-29T19:07:54.276Z"
   },
   {
    "duration": 4,
    "start_time": "2024-08-29T19:08:08.893Z"
   },
   {
    "duration": 459,
    "start_time": "2024-08-29T19:08:11.980Z"
   },
   {
    "duration": 4,
    "start_time": "2024-08-29T19:08:49.347Z"
   },
   {
    "duration": 501,
    "start_time": "2024-08-29T19:08:51.164Z"
   },
   {
    "duration": 5,
    "start_time": "2024-08-29T19:09:12.264Z"
   },
   {
    "duration": 105,
    "start_time": "2024-08-29T19:09:14.221Z"
   },
   {
    "duration": 4,
    "start_time": "2024-08-29T19:09:46.136Z"
   },
   {
    "duration": 585,
    "start_time": "2024-08-29T19:09:48.099Z"
   },
   {
    "duration": 486,
    "start_time": "2024-08-29T19:12:09.135Z"
   },
   {
    "duration": 897,
    "start_time": "2024-08-29T19:13:19.233Z"
   },
   {
    "duration": 114,
    "start_time": "2024-08-29T19:13:40.329Z"
   },
   {
    "duration": 112,
    "start_time": "2024-08-29T19:15:17.220Z"
   },
   {
    "duration": 9712,
    "start_time": "2024-09-02T16:48:13.835Z"
   },
   {
    "duration": 434,
    "start_time": "2024-09-02T16:48:23.550Z"
   },
   {
    "duration": 39,
    "start_time": "2024-09-02T16:48:23.986Z"
   },
   {
    "duration": 4,
    "start_time": "2024-09-02T16:48:24.027Z"
   },
   {
    "duration": 5,
    "start_time": "2024-09-02T16:48:24.034Z"
   },
   {
    "duration": 14,
    "start_time": "2024-09-02T16:48:24.040Z"
   },
   {
    "duration": 47,
    "start_time": "2024-09-02T16:48:24.056Z"
   },
   {
    "duration": 6,
    "start_time": "2024-09-02T16:48:24.105Z"
   },
   {
    "duration": 7,
    "start_time": "2024-09-02T16:48:24.113Z"
   },
   {
    "duration": 14,
    "start_time": "2024-09-02T16:48:24.121Z"
   },
   {
    "duration": 9,
    "start_time": "2024-09-02T16:48:24.137Z"
   },
   {
    "duration": 11,
    "start_time": "2024-09-02T16:48:24.148Z"
   },
   {
    "duration": 39,
    "start_time": "2024-09-02T16:48:24.161Z"
   },
   {
    "duration": 55,
    "start_time": "2024-09-02T16:48:24.203Z"
   },
   {
    "duration": 6,
    "start_time": "2024-09-02T16:48:24.259Z"
   },
   {
    "duration": 11,
    "start_time": "2024-09-02T16:48:24.266Z"
   },
   {
    "duration": 13,
    "start_time": "2024-09-02T16:48:24.278Z"
   },
   {
    "duration": 4,
    "start_time": "2024-09-02T16:48:24.293Z"
   },
   {
    "duration": 523,
    "start_time": "2024-09-02T16:48:24.298Z"
   },
   {
    "duration": 135,
    "start_time": "2024-09-02T16:48:24.823Z"
   },
   {
    "duration": 132,
    "start_time": "2024-09-02T16:48:24.960Z"
   },
   {
    "duration": 120,
    "start_time": "2024-09-02T16:53:35.913Z"
   },
   {
    "duration": 110,
    "start_time": "2024-09-02T16:53:44.471Z"
   },
   {
    "duration": 123,
    "start_time": "2024-09-02T17:12:43.803Z"
   },
   {
    "duration": 1575,
    "start_time": "2024-09-02T17:32:10.769Z"
   },
   {
    "duration": 1567,
    "start_time": "2024-09-02T17:35:55.297Z"
   },
   {
    "duration": 1421,
    "start_time": "2024-09-02T17:38:44.328Z"
   },
   {
    "duration": 82,
    "start_time": "2024-09-02T17:46:30.852Z"
   },
   {
    "duration": 401,
    "start_time": "2024-09-02T17:46:43.338Z"
   },
   {
    "duration": 144,
    "start_time": "2024-09-02T17:58:48.221Z"
   },
   {
    "duration": 279,
    "start_time": "2024-09-02T17:59:07.747Z"
   },
   {
    "duration": 284,
    "start_time": "2024-09-02T17:59:18.103Z"
   },
   {
    "duration": 325,
    "start_time": "2024-09-02T17:59:49.025Z"
   },
   {
    "duration": 306,
    "start_time": "2024-09-02T18:00:55.612Z"
   },
   {
    "duration": 316,
    "start_time": "2024-09-02T18:01:15.987Z"
   },
   {
    "duration": 318,
    "start_time": "2024-09-02T18:01:22.966Z"
   },
   {
    "duration": 5109,
    "start_time": "2024-09-02T18:01:26.767Z"
   },
   {
    "duration": 124,
    "start_time": "2024-09-02T18:01:31.879Z"
   },
   {
    "duration": 47,
    "start_time": "2024-09-02T18:01:32.004Z"
   },
   {
    "duration": 3,
    "start_time": "2024-09-02T18:01:32.053Z"
   },
   {
    "duration": 47,
    "start_time": "2024-09-02T18:01:32.057Z"
   },
   {
    "duration": 20,
    "start_time": "2024-09-02T18:01:32.106Z"
   },
   {
    "duration": 8,
    "start_time": "2024-09-02T18:01:32.128Z"
   },
   {
    "duration": 6,
    "start_time": "2024-09-02T18:01:32.138Z"
   },
   {
    "duration": 8,
    "start_time": "2024-09-02T18:01:32.146Z"
   },
   {
    "duration": 5,
    "start_time": "2024-09-02T18:01:32.156Z"
   },
   {
    "duration": 23,
    "start_time": "2024-09-02T18:01:32.163Z"
   },
   {
    "duration": 25,
    "start_time": "2024-09-02T18:01:32.187Z"
   },
   {
    "duration": 11,
    "start_time": "2024-09-02T18:01:32.213Z"
   },
   {
    "duration": 17,
    "start_time": "2024-09-02T18:01:32.226Z"
   },
   {
    "duration": 7,
    "start_time": "2024-09-02T18:01:32.245Z"
   },
   {
    "duration": 23,
    "start_time": "2024-09-02T18:01:32.253Z"
   },
   {
    "duration": 37,
    "start_time": "2024-09-02T18:01:32.278Z"
   },
   {
    "duration": 19,
    "start_time": "2024-09-02T18:01:32.317Z"
   },
   {
    "duration": 714,
    "start_time": "2024-09-02T18:01:32.337Z"
   },
   {
    "duration": 126,
    "start_time": "2024-09-02T18:01:33.053Z"
   },
   {
    "duration": 135,
    "start_time": "2024-09-02T18:01:33.181Z"
   },
   {
    "duration": 1456,
    "start_time": "2024-09-02T18:01:33.318Z"
   },
   {
    "duration": 441,
    "start_time": "2024-09-02T18:01:34.776Z"
   },
   {
    "duration": 298,
    "start_time": "2024-09-02T18:01:35.218Z"
   },
   {
    "duration": 156,
    "start_time": "2024-09-02T18:02:58.615Z"
   },
   {
    "duration": 161,
    "start_time": "2024-09-02T18:03:34.240Z"
   },
   {
    "duration": 159,
    "start_time": "2024-09-02T18:06:03.432Z"
   },
   {
    "duration": 322,
    "start_time": "2024-09-02T18:24:37.621Z"
   },
   {
    "duration": 321,
    "start_time": "2024-09-02T18:30:30.903Z"
   },
   {
    "duration": 353,
    "start_time": "2024-09-02T18:31:01.985Z"
   },
   {
    "duration": 222,
    "start_time": "2024-09-02T18:31:59.926Z"
   },
   {
    "duration": 5034,
    "start_time": "2024-09-02T18:32:10.906Z"
   },
   {
    "duration": 127,
    "start_time": "2024-09-02T18:32:15.942Z"
   },
   {
    "duration": 41,
    "start_time": "2024-09-02T18:32:16.071Z"
   },
   {
    "duration": 3,
    "start_time": "2024-09-02T18:32:16.114Z"
   },
   {
    "duration": 12,
    "start_time": "2024-09-02T18:32:16.119Z"
   },
   {
    "duration": 69,
    "start_time": "2024-09-02T18:32:16.133Z"
   },
   {
    "duration": 8,
    "start_time": "2024-09-02T18:32:16.204Z"
   },
   {
    "duration": 8,
    "start_time": "2024-09-02T18:32:16.213Z"
   },
   {
    "duration": 6,
    "start_time": "2024-09-02T18:32:16.223Z"
   },
   {
    "duration": 5,
    "start_time": "2024-09-02T18:32:16.231Z"
   },
   {
    "duration": 17,
    "start_time": "2024-09-02T18:32:16.238Z"
   },
   {
    "duration": 41,
    "start_time": "2024-09-02T18:32:16.257Z"
   },
   {
    "duration": 8,
    "start_time": "2024-09-02T18:32:16.299Z"
   },
   {
    "duration": 11,
    "start_time": "2024-09-02T18:32:16.309Z"
   },
   {
    "duration": 6,
    "start_time": "2024-09-02T18:32:16.321Z"
   },
   {
    "duration": 18,
    "start_time": "2024-09-02T18:32:16.329Z"
   },
   {
    "duration": 14,
    "start_time": "2024-09-02T18:32:16.349Z"
   },
   {
    "duration": 6,
    "start_time": "2024-09-02T18:32:16.398Z"
   },
   {
    "duration": 680,
    "start_time": "2024-09-02T18:32:16.406Z"
   },
   {
    "duration": 123,
    "start_time": "2024-09-02T18:32:17.088Z"
   },
   {
    "duration": 135,
    "start_time": "2024-09-02T18:32:17.213Z"
   },
   {
    "duration": 1469,
    "start_time": "2024-09-02T18:32:17.350Z"
   },
   {
    "duration": 536,
    "start_time": "2024-09-02T18:32:18.821Z"
   },
   {
    "duration": 229,
    "start_time": "2024-09-02T18:32:19.358Z"
   },
   {
    "duration": 9803,
    "start_time": "2024-09-04T16:31:54.916Z"
   },
   {
    "duration": 356,
    "start_time": "2024-09-04T16:32:04.721Z"
   },
   {
    "duration": 52,
    "start_time": "2024-09-04T16:32:05.079Z"
   },
   {
    "duration": 27,
    "start_time": "2024-09-04T16:32:05.134Z"
   },
   {
    "duration": 15,
    "start_time": "2024-09-04T16:32:05.163Z"
   },
   {
    "duration": 12,
    "start_time": "2024-09-04T16:32:05.179Z"
   },
   {
    "duration": 24,
    "start_time": "2024-09-04T16:32:05.193Z"
   },
   {
    "duration": 29,
    "start_time": "2024-09-04T16:32:05.219Z"
   },
   {
    "duration": 12,
    "start_time": "2024-09-04T16:32:05.249Z"
   },
   {
    "duration": 7,
    "start_time": "2024-09-04T16:32:05.264Z"
   },
   {
    "duration": 10,
    "start_time": "2024-09-04T16:32:05.272Z"
   },
   {
    "duration": 29,
    "start_time": "2024-09-04T16:32:05.283Z"
   },
   {
    "duration": 6,
    "start_time": "2024-09-04T16:32:05.314Z"
   },
   {
    "duration": 20,
    "start_time": "2024-09-04T16:32:05.321Z"
   },
   {
    "duration": 5,
    "start_time": "2024-09-04T16:32:05.343Z"
   },
   {
    "duration": 21,
    "start_time": "2024-09-04T16:32:05.349Z"
   },
   {
    "duration": 13,
    "start_time": "2024-09-04T16:32:05.372Z"
   },
   {
    "duration": 5,
    "start_time": "2024-09-04T16:32:05.386Z"
   },
   {
    "duration": 534,
    "start_time": "2024-09-04T16:32:05.393Z"
   },
   {
    "duration": 135,
    "start_time": "2024-09-04T16:32:05.928Z"
   },
   {
    "duration": 123,
    "start_time": "2024-09-04T16:32:06.065Z"
   },
   {
    "duration": 1585,
    "start_time": "2024-09-04T16:32:06.190Z"
   },
   {
    "duration": 349,
    "start_time": "2024-09-04T16:32:07.777Z"
   },
   {
    "duration": 232,
    "start_time": "2024-09-04T16:32:08.128Z"
   },
   {
    "duration": 207,
    "start_time": "2024-09-04T16:36:11.267Z"
   },
   {
    "duration": 468,
    "start_time": "2024-09-04T16:45:18.637Z"
   },
   {
    "duration": 527,
    "start_time": "2024-09-04T16:59:48.714Z"
   },
   {
    "duration": 395,
    "start_time": "2024-09-04T16:59:56.894Z"
   },
   {
    "duration": 174,
    "start_time": "2024-09-04T17:02:34.312Z"
   },
   {
    "duration": 270,
    "start_time": "2024-09-04T17:04:06.799Z"
   },
   {
    "duration": 1395,
    "start_time": "2024-09-04T17:10:08.770Z"
   },
   {
    "duration": 67,
    "start_time": "2024-09-04T17:58:40.593Z"
   },
   {
    "duration": 71,
    "start_time": "2024-09-04T17:59:05.241Z"
   },
   {
    "duration": 145,
    "start_time": "2024-09-04T18:00:03.972Z"
   },
   {
    "duration": 19,
    "start_time": "2024-09-04T18:00:35.217Z"
   },
   {
    "duration": 22,
    "start_time": "2024-09-04T18:02:08.014Z"
   },
   {
    "duration": 12,
    "start_time": "2024-09-04T18:02:31.455Z"
   },
   {
    "duration": 10,
    "start_time": "2024-09-04T18:05:26.189Z"
   },
   {
    "duration": 11,
    "start_time": "2024-09-04T18:11:07.335Z"
   },
   {
    "duration": 12,
    "start_time": "2024-09-04T18:11:21.031Z"
   },
   {
    "duration": 14,
    "start_time": "2024-09-04T18:13:23.604Z"
   },
   {
    "duration": 12,
    "start_time": "2024-09-04T18:13:42.943Z"
   },
   {
    "duration": 10,
    "start_time": "2024-09-04T18:13:46.218Z"
   },
   {
    "duration": 25,
    "start_time": "2024-09-04T18:13:57.608Z"
   },
   {
    "duration": 69,
    "start_time": "2024-09-04T18:15:21.914Z"
   },
   {
    "duration": 39,
    "start_time": "2024-09-04T18:15:40.155Z"
   },
   {
    "duration": 38,
    "start_time": "2024-09-04T18:16:22.972Z"
   },
   {
    "duration": 9,
    "start_time": "2024-09-04T18:18:37.344Z"
   },
   {
    "duration": 5097,
    "start_time": "2024-09-04T18:18:40.024Z"
   },
   {
    "duration": 116,
    "start_time": "2024-09-04T18:18:45.124Z"
   },
   {
    "duration": 39,
    "start_time": "2024-09-04T18:18:45.242Z"
   },
   {
    "duration": 3,
    "start_time": "2024-09-04T18:18:45.283Z"
   },
   {
    "duration": 4,
    "start_time": "2024-09-04T18:18:45.322Z"
   },
   {
    "duration": 91,
    "start_time": "2024-09-04T18:18:45.327Z"
   },
   {
    "duration": 32,
    "start_time": "2024-09-04T18:18:45.420Z"
   },
   {
    "duration": 15,
    "start_time": "2024-09-04T18:18:45.453Z"
   },
   {
    "duration": 12,
    "start_time": "2024-09-04T18:18:45.469Z"
   },
   {
    "duration": 7,
    "start_time": "2024-09-04T18:18:45.482Z"
   },
   {
    "duration": 9,
    "start_time": "2024-09-04T18:18:45.491Z"
   },
   {
    "duration": 40,
    "start_time": "2024-09-04T18:18:45.501Z"
   },
   {
    "duration": 18,
    "start_time": "2024-09-04T18:18:45.542Z"
   },
   {
    "duration": 84,
    "start_time": "2024-09-04T18:18:45.563Z"
   },
   {
    "duration": 7,
    "start_time": "2024-09-04T18:18:45.648Z"
   },
   {
    "duration": 19,
    "start_time": "2024-09-04T18:18:45.657Z"
   },
   {
    "duration": 28,
    "start_time": "2024-09-04T18:18:45.678Z"
   },
   {
    "duration": 5,
    "start_time": "2024-09-04T18:18:45.708Z"
   },
   {
    "duration": 561,
    "start_time": "2024-09-04T18:18:45.715Z"
   },
   {
    "duration": 127,
    "start_time": "2024-09-04T18:18:46.278Z"
   },
   {
    "duration": 134,
    "start_time": "2024-09-04T18:18:46.407Z"
   },
   {
    "duration": 1634,
    "start_time": "2024-09-04T18:18:46.542Z"
   },
   {
    "duration": 362,
    "start_time": "2024-09-04T18:18:48.178Z"
   },
   {
    "duration": 231,
    "start_time": "2024-09-04T18:18:48.542Z"
   },
   {
    "duration": 401,
    "start_time": "2024-09-04T18:18:48.774Z"
   },
   {
    "duration": 440,
    "start_time": "2024-09-04T18:18:49.177Z"
   },
   {
    "duration": 9,
    "start_time": "2024-09-04T18:18:49.620Z"
   },
   {
    "duration": 29,
    "start_time": "2024-09-04T18:19:17.106Z"
   },
   {
    "duration": 35,
    "start_time": "2024-09-04T18:20:11.109Z"
   },
   {
    "duration": 25,
    "start_time": "2024-09-04T18:21:21.839Z"
   },
   {
    "duration": 27,
    "start_time": "2024-09-04T18:21:41.404Z"
   },
   {
    "duration": 27,
    "start_time": "2024-09-04T18:21:59.218Z"
   },
   {
    "duration": 37,
    "start_time": "2024-09-04T18:22:38.916Z"
   },
   {
    "duration": 7370,
    "start_time": "2024-09-04T18:23:46.320Z"
   },
   {
    "duration": 128,
    "start_time": "2024-09-04T18:23:53.693Z"
   },
   {
    "duration": 37,
    "start_time": "2024-09-04T18:23:53.822Z"
   },
   {
    "duration": 4,
    "start_time": "2024-09-04T18:23:53.862Z"
   },
   {
    "duration": 19,
    "start_time": "2024-09-04T18:23:53.867Z"
   },
   {
    "duration": 12,
    "start_time": "2024-09-04T18:23:53.887Z"
   },
   {
    "duration": 26,
    "start_time": "2024-09-04T18:23:53.901Z"
   },
   {
    "duration": 12,
    "start_time": "2024-09-04T18:23:53.929Z"
   },
   {
    "duration": 6,
    "start_time": "2024-09-04T18:23:53.943Z"
   },
   {
    "duration": 24,
    "start_time": "2024-09-04T18:23:53.952Z"
   },
   {
    "duration": 18,
    "start_time": "2024-09-04T18:23:53.978Z"
   },
   {
    "duration": 27,
    "start_time": "2024-09-04T18:23:53.997Z"
   },
   {
    "duration": 5,
    "start_time": "2024-09-04T18:23:54.026Z"
   },
   {
    "duration": 15,
    "start_time": "2024-09-04T18:23:54.032Z"
   },
   {
    "duration": 5,
    "start_time": "2024-09-04T18:23:54.049Z"
   },
   {
    "duration": 24,
    "start_time": "2024-09-04T18:23:54.055Z"
   },
   {
    "duration": 30,
    "start_time": "2024-09-04T18:23:54.081Z"
   },
   {
    "duration": 5,
    "start_time": "2024-09-04T18:23:54.120Z"
   },
   {
    "duration": 535,
    "start_time": "2024-09-04T18:23:54.127Z"
   },
   {
    "duration": 125,
    "start_time": "2024-09-04T18:23:54.664Z"
   },
   {
    "duration": 131,
    "start_time": "2024-09-04T18:23:54.791Z"
   },
   {
    "duration": 1604,
    "start_time": "2024-09-04T18:23:54.924Z"
   },
   {
    "duration": 364,
    "start_time": "2024-09-04T18:23:56.530Z"
   },
   {
    "duration": 238,
    "start_time": "2024-09-04T18:23:56.896Z"
   },
   {
    "duration": 422,
    "start_time": "2024-09-04T18:23:57.136Z"
   },
   {
    "duration": 419,
    "start_time": "2024-09-04T18:23:57.560Z"
   },
   {
    "duration": 44,
    "start_time": "2024-09-04T18:23:57.980Z"
   },
   {
    "duration": 64,
    "start_time": "2024-09-04T18:24:19.616Z"
   },
   {
    "duration": 9899,
    "start_time": "2024-09-06T13:20:26.068Z"
   },
   {
    "duration": 468,
    "start_time": "2024-09-06T13:20:35.969Z"
   },
   {
    "duration": 39,
    "start_time": "2024-09-06T13:20:36.439Z"
   },
   {
    "duration": 4,
    "start_time": "2024-09-06T13:20:36.504Z"
   },
   {
    "duration": 112,
    "start_time": "2024-09-06T13:20:36.510Z"
   },
   {
    "duration": 16,
    "start_time": "2024-09-06T13:20:36.624Z"
   },
   {
    "duration": 29,
    "start_time": "2024-09-06T13:20:36.641Z"
   },
   {
    "duration": 10,
    "start_time": "2024-09-06T13:20:36.672Z"
   },
   {
    "duration": 15,
    "start_time": "2024-09-06T13:20:36.684Z"
   },
   {
    "duration": 9,
    "start_time": "2024-09-06T13:20:36.700Z"
   },
   {
    "duration": 17,
    "start_time": "2024-09-06T13:20:36.711Z"
   },
   {
    "duration": 10,
    "start_time": "2024-09-06T13:20:36.730Z"
   },
   {
    "duration": 7,
    "start_time": "2024-09-06T13:20:36.741Z"
   },
   {
    "duration": 15,
    "start_time": "2024-09-06T13:20:36.750Z"
   },
   {
    "duration": 9,
    "start_time": "2024-09-06T13:20:36.766Z"
   },
   {
    "duration": 30,
    "start_time": "2024-09-06T13:20:36.777Z"
   },
   {
    "duration": 4,
    "start_time": "2024-09-06T13:20:36.809Z"
   },
   {
    "duration": 524,
    "start_time": "2024-09-06T13:20:36.815Z"
   },
   {
    "duration": 143,
    "start_time": "2024-09-06T13:20:37.342Z"
   },
   {
    "duration": 144,
    "start_time": "2024-09-06T13:20:37.487Z"
   },
   {
    "duration": 1591,
    "start_time": "2024-09-06T13:20:37.633Z"
   },
   {
    "duration": 343,
    "start_time": "2024-09-06T13:20:39.226Z"
   },
   {
    "duration": 226,
    "start_time": "2024-09-06T13:20:39.570Z"
   },
   {
    "duration": 394,
    "start_time": "2024-09-06T13:20:39.798Z"
   },
   {
    "duration": 411,
    "start_time": "2024-09-06T13:20:40.194Z"
   },
   {
    "duration": 62,
    "start_time": "2024-09-06T13:20:40.607Z"
   },
   {
    "duration": 258,
    "start_time": "2024-09-06T13:21:20.951Z"
   },
   {
    "duration": 252,
    "start_time": "2024-09-06T13:22:12.133Z"
   },
   {
    "duration": 55,
    "start_time": "2024-09-06T13:24:02.129Z"
   },
   {
    "duration": 384,
    "start_time": "2024-09-06T13:24:21.826Z"
   },
   {
    "duration": 5103,
    "start_time": "2024-09-06T13:24:29.320Z"
   },
   {
    "duration": 128,
    "start_time": "2024-09-06T13:24:34.426Z"
   },
   {
    "duration": 39,
    "start_time": "2024-09-06T13:24:34.556Z"
   },
   {
    "duration": 39,
    "start_time": "2024-09-06T13:24:34.604Z"
   },
   {
    "duration": 4,
    "start_time": "2024-09-06T13:24:34.645Z"
   },
   {
    "duration": 33,
    "start_time": "2024-09-06T13:24:34.651Z"
   },
   {
    "duration": 16,
    "start_time": "2024-09-06T13:24:34.685Z"
   },
   {
    "duration": 18,
    "start_time": "2024-09-06T13:24:34.702Z"
   },
   {
    "duration": 22,
    "start_time": "2024-09-06T13:24:34.722Z"
   },
   {
    "duration": 5,
    "start_time": "2024-09-06T13:24:34.747Z"
   },
   {
    "duration": 16,
    "start_time": "2024-09-06T13:24:34.754Z"
   },
   {
    "duration": 16,
    "start_time": "2024-09-06T13:24:34.771Z"
   },
   {
    "duration": 14,
    "start_time": "2024-09-06T13:24:34.789Z"
   },
   {
    "duration": 6,
    "start_time": "2024-09-06T13:24:34.804Z"
   },
   {
    "duration": 20,
    "start_time": "2024-09-06T13:24:34.811Z"
   },
   {
    "duration": 13,
    "start_time": "2024-09-06T13:24:34.832Z"
   },
   {
    "duration": 8,
    "start_time": "2024-09-06T13:24:34.846Z"
   },
   {
    "duration": 528,
    "start_time": "2024-09-06T13:24:34.856Z"
   },
   {
    "duration": 179,
    "start_time": "2024-09-06T13:24:35.387Z"
   },
   {
    "duration": 122,
    "start_time": "2024-09-06T13:24:35.568Z"
   },
   {
    "duration": 1616,
    "start_time": "2024-09-06T13:24:35.691Z"
   },
   {
    "duration": 373,
    "start_time": "2024-09-06T13:24:37.309Z"
   },
   {
    "duration": 259,
    "start_time": "2024-09-06T13:24:37.684Z"
   },
   {
    "duration": 545,
    "start_time": "2024-09-06T13:24:37.945Z"
   },
   {
    "duration": 288,
    "start_time": "2024-09-06T13:24:38.492Z"
   },
   {
    "duration": 68,
    "start_time": "2024-09-06T13:24:38.783Z"
   },
   {
    "duration": 4,
    "start_time": "2024-09-06T13:33:56.175Z"
   },
   {
    "duration": 5,
    "start_time": "2024-09-06T13:34:01.605Z"
   },
   {
    "duration": 141,
    "start_time": "2024-09-06T13:34:07.861Z"
   },
   {
    "duration": 11,
    "start_time": "2024-09-06T13:34:24.322Z"
   },
   {
    "duration": 4,
    "start_time": "2024-09-06T13:34:43.300Z"
   },
   {
    "duration": 11,
    "start_time": "2024-09-06T13:37:04.160Z"
   },
   {
    "duration": 11,
    "start_time": "2024-09-06T13:38:31.768Z"
   },
   {
    "duration": 24,
    "start_time": "2024-09-06T13:38:52.742Z"
   },
   {
    "duration": 23,
    "start_time": "2024-09-06T13:39:20.977Z"
   },
   {
    "duration": 59,
    "start_time": "2024-09-06T13:40:04.148Z"
   },
   {
    "duration": 61,
    "start_time": "2024-09-06T13:40:08.662Z"
   },
   {
    "duration": 55,
    "start_time": "2024-09-08T14:37:49.676Z"
   },
   {
    "duration": 10298,
    "start_time": "2024-09-08T14:37:58.632Z"
   },
   {
    "duration": 386,
    "start_time": "2024-09-08T14:38:08.932Z"
   },
   {
    "duration": 60,
    "start_time": "2024-09-08T14:38:09.320Z"
   },
   {
    "duration": 3,
    "start_time": "2024-09-08T14:38:09.382Z"
   },
   {
    "duration": 29,
    "start_time": "2024-09-08T14:38:09.387Z"
   },
   {
    "duration": 14,
    "start_time": "2024-09-08T14:38:09.417Z"
   },
   {
    "duration": 31,
    "start_time": "2024-09-08T14:38:09.433Z"
   },
   {
    "duration": 11,
    "start_time": "2024-09-08T14:38:09.466Z"
   },
   {
    "duration": 10,
    "start_time": "2024-09-08T14:38:09.479Z"
   },
   {
    "duration": 6,
    "start_time": "2024-09-08T14:38:09.491Z"
   },
   {
    "duration": 28,
    "start_time": "2024-09-08T14:38:09.499Z"
   },
   {
    "duration": 31,
    "start_time": "2024-09-08T14:38:09.530Z"
   },
   {
    "duration": 11,
    "start_time": "2024-09-08T14:38:09.566Z"
   },
   {
    "duration": 20,
    "start_time": "2024-09-08T14:38:09.579Z"
   },
   {
    "duration": 14,
    "start_time": "2024-09-08T14:38:09.601Z"
   },
   {
    "duration": 15,
    "start_time": "2024-09-08T14:38:09.616Z"
   },
   {
    "duration": 6,
    "start_time": "2024-09-08T14:38:09.633Z"
   },
   {
    "duration": 629,
    "start_time": "2024-09-08T14:38:09.640Z"
   },
   {
    "duration": 145,
    "start_time": "2024-09-08T14:38:10.272Z"
   },
   {
    "duration": 123,
    "start_time": "2024-09-08T14:38:10.419Z"
   },
   {
    "duration": 1705,
    "start_time": "2024-09-08T14:38:10.544Z"
   },
   {
    "duration": 145,
    "start_time": "2024-09-08T14:38:12.254Z"
   },
   {
    "duration": 32,
    "start_time": "2024-09-08T14:39:13.067Z"
   },
   {
    "duration": 19,
    "start_time": "2024-09-08T14:39:38.921Z"
   },
   {
    "duration": 14,
    "start_time": "2024-09-08T14:41:05.104Z"
   },
   {
    "duration": 15,
    "start_time": "2024-09-08T14:51:13.058Z"
   },
   {
    "duration": 287,
    "start_time": "2024-09-08T14:55:38.655Z"
   },
   {
    "duration": 263,
    "start_time": "2024-09-08T14:55:43.044Z"
   },
   {
    "duration": 24,
    "start_time": "2024-09-08T14:56:33.359Z"
   },
   {
    "duration": 12,
    "start_time": "2024-09-08T14:56:52.929Z"
   },
   {
    "duration": 14,
    "start_time": "2024-09-08T14:57:11.686Z"
   },
   {
    "duration": 16,
    "start_time": "2024-09-08T14:57:20.965Z"
   },
   {
    "duration": 15,
    "start_time": "2024-09-08T14:57:33.392Z"
   },
   {
    "duration": 5057,
    "start_time": "2024-09-08T14:58:24.795Z"
   },
   {
    "duration": 129,
    "start_time": "2024-09-08T14:58:29.855Z"
   },
   {
    "duration": 81,
    "start_time": "2024-09-08T14:58:29.986Z"
   },
   {
    "duration": 5,
    "start_time": "2024-09-08T14:58:30.069Z"
   },
   {
    "duration": 91,
    "start_time": "2024-09-08T14:58:30.076Z"
   },
   {
    "duration": 69,
    "start_time": "2024-09-08T14:58:30.169Z"
   },
   {
    "duration": 45,
    "start_time": "2024-09-08T14:58:30.240Z"
   },
   {
    "duration": 28,
    "start_time": "2024-09-08T14:58:30.286Z"
   },
   {
    "duration": 35,
    "start_time": "2024-09-08T14:58:30.316Z"
   },
   {
    "duration": 39,
    "start_time": "2024-09-08T14:58:30.353Z"
   },
   {
    "duration": 36,
    "start_time": "2024-09-08T14:58:30.393Z"
   },
   {
    "duration": 26,
    "start_time": "2024-09-08T14:58:30.431Z"
   },
   {
    "duration": 28,
    "start_time": "2024-09-08T14:58:30.459Z"
   },
   {
    "duration": 6,
    "start_time": "2024-09-08T14:58:30.491Z"
   },
   {
    "duration": 21,
    "start_time": "2024-09-08T14:58:30.499Z"
   },
   {
    "duration": 15,
    "start_time": "2024-09-08T14:58:30.522Z"
   },
   {
    "duration": 4,
    "start_time": "2024-09-08T14:58:30.539Z"
   },
   {
    "duration": 567,
    "start_time": "2024-09-08T14:58:30.545Z"
   },
   {
    "duration": 210,
    "start_time": "2024-09-08T14:58:31.115Z"
   },
   {
    "duration": 155,
    "start_time": "2024-09-08T14:58:31.328Z"
   },
   {
    "duration": 1670,
    "start_time": "2024-09-08T14:58:31.486Z"
   },
   {
    "duration": 386,
    "start_time": "2024-09-08T14:58:33.158Z"
   },
   {
    "duration": 294,
    "start_time": "2024-09-08T14:58:33.546Z"
   },
   {
    "duration": 551,
    "start_time": "2024-09-08T14:58:33.842Z"
   },
   {
    "duration": 284,
    "start_time": "2024-09-08T14:58:34.395Z"
   },
   {
    "duration": 16,
    "start_time": "2024-09-08T14:58:34.681Z"
   },
   {
    "duration": 22,
    "start_time": "2024-09-08T15:00:16.236Z"
   },
   {
    "duration": 23,
    "start_time": "2024-09-08T15:00:24.738Z"
   },
   {
    "duration": 283,
    "start_time": "2024-09-08T15:04:22.142Z"
   },
   {
    "duration": 53,
    "start_time": "2024-09-08T15:04:36.927Z"
   },
   {
    "duration": 19,
    "start_time": "2024-09-08T15:04:55.665Z"
   },
   {
    "duration": 11,
    "start_time": "2024-09-08T15:07:22.728Z"
   },
   {
    "duration": 14,
    "start_time": "2024-09-08T15:09:52.586Z"
   },
   {
    "duration": 51,
    "start_time": "2024-09-08T15:11:06.899Z"
   },
   {
    "duration": 11,
    "start_time": "2024-09-08T16:44:00.589Z"
   },
   {
    "duration": 8,
    "start_time": "2024-09-08T16:44:16.208Z"
   },
   {
    "duration": 18,
    "start_time": "2024-09-08T16:46:38.488Z"
   },
   {
    "duration": 20,
    "start_time": "2024-09-08T16:46:53.080Z"
   },
   {
    "duration": 9597,
    "start_time": "2024-09-09T16:37:26.023Z"
   },
   {
    "duration": 403,
    "start_time": "2024-09-09T16:37:35.622Z"
   },
   {
    "duration": 60,
    "start_time": "2024-09-09T16:37:36.027Z"
   },
   {
    "duration": 5,
    "start_time": "2024-09-09T16:37:36.090Z"
   },
   {
    "duration": 15,
    "start_time": "2024-09-09T16:37:36.096Z"
   },
   {
    "duration": 26,
    "start_time": "2024-09-09T16:37:36.113Z"
   },
   {
    "duration": 18,
    "start_time": "2024-09-09T16:37:36.141Z"
   },
   {
    "duration": 14,
    "start_time": "2024-09-09T16:37:36.161Z"
   },
   {
    "duration": 11,
    "start_time": "2024-09-09T16:37:36.177Z"
   },
   {
    "duration": 28,
    "start_time": "2024-09-09T16:37:36.192Z"
   },
   {
    "duration": 13,
    "start_time": "2024-09-09T16:37:36.222Z"
   },
   {
    "duration": 11,
    "start_time": "2024-09-09T16:37:36.237Z"
   },
   {
    "duration": 16,
    "start_time": "2024-09-09T16:37:36.250Z"
   },
   {
    "duration": 5,
    "start_time": "2024-09-09T16:37:36.270Z"
   },
   {
    "duration": 9,
    "start_time": "2024-09-09T16:37:36.277Z"
   },
   {
    "duration": 12,
    "start_time": "2024-09-09T16:37:36.288Z"
   },
   {
    "duration": 10,
    "start_time": "2024-09-09T16:37:36.301Z"
   },
   {
    "duration": 558,
    "start_time": "2024-09-09T16:37:36.312Z"
   },
   {
    "duration": 141,
    "start_time": "2024-09-09T16:37:36.872Z"
   },
   {
    "duration": 130,
    "start_time": "2024-09-09T16:37:37.014Z"
   },
   {
    "duration": 1581,
    "start_time": "2024-09-09T16:37:37.145Z"
   },
   {
    "duration": 399,
    "start_time": "2024-09-09T16:37:38.728Z"
   },
   {
    "duration": 263,
    "start_time": "2024-09-09T16:37:39.128Z"
   },
   {
    "duration": 526,
    "start_time": "2024-09-09T16:37:39.392Z"
   },
   {
    "duration": 295,
    "start_time": "2024-09-09T16:37:39.920Z"
   },
   {
    "duration": 19,
    "start_time": "2024-09-09T16:37:40.216Z"
   },
   {
    "duration": 20,
    "start_time": "2024-09-09T16:37:40.252Z"
   },
   {
    "duration": 46,
    "start_time": "2024-09-09T16:37:40.275Z"
   },
   {
    "duration": 44,
    "start_time": "2024-09-09T16:37:40.323Z"
   },
   {
    "duration": 27,
    "start_time": "2024-09-09T16:42:28.282Z"
   },
   {
    "duration": 5408,
    "start_time": "2024-09-09T16:49:00.459Z"
   },
   {
    "duration": 125,
    "start_time": "2024-09-09T16:49:05.873Z"
   },
   {
    "duration": 65,
    "start_time": "2024-09-09T16:49:06.000Z"
   },
   {
    "duration": 15,
    "start_time": "2024-09-09T16:49:06.068Z"
   },
   {
    "duration": 21,
    "start_time": "2024-09-09T16:49:06.085Z"
   },
   {
    "duration": 20,
    "start_time": "2024-09-09T16:49:06.108Z"
   },
   {
    "duration": 49,
    "start_time": "2024-09-09T16:49:06.130Z"
   },
   {
    "duration": 7,
    "start_time": "2024-09-09T16:49:06.181Z"
   },
   {
    "duration": 28,
    "start_time": "2024-09-09T16:49:06.189Z"
   },
   {
    "duration": 11,
    "start_time": "2024-09-09T16:49:06.220Z"
   },
   {
    "duration": 30,
    "start_time": "2024-09-09T16:49:06.232Z"
   },
   {
    "duration": 13,
    "start_time": "2024-09-09T16:49:06.264Z"
   },
   {
    "duration": 6,
    "start_time": "2024-09-09T16:49:06.278Z"
   },
   {
    "duration": 14,
    "start_time": "2024-09-09T16:49:06.286Z"
   },
   {
    "duration": 19,
    "start_time": "2024-09-09T16:49:06.302Z"
   },
   {
    "duration": 33,
    "start_time": "2024-09-09T16:49:06.322Z"
   },
   {
    "duration": 9,
    "start_time": "2024-09-09T16:49:06.357Z"
   },
   {
    "duration": 560,
    "start_time": "2024-09-09T16:49:06.370Z"
   },
   {
    "duration": 150,
    "start_time": "2024-09-09T16:49:06.932Z"
   },
   {
    "duration": 127,
    "start_time": "2024-09-09T16:49:07.084Z"
   },
   {
    "duration": 1675,
    "start_time": "2024-09-09T16:49:07.212Z"
   },
   {
    "duration": 405,
    "start_time": "2024-09-09T16:49:08.889Z"
   },
   {
    "duration": 283,
    "start_time": "2024-09-09T16:49:09.296Z"
   },
   {
    "duration": 417,
    "start_time": "2024-09-09T16:49:09.581Z"
   },
   {
    "duration": 287,
    "start_time": "2024-09-09T16:49:10.000Z"
   },
   {
    "duration": 193,
    "start_time": "2024-09-09T16:49:10.288Z"
   },
   {
    "duration": 0,
    "start_time": "2024-09-09T16:49:10.484Z"
   },
   {
    "duration": 0,
    "start_time": "2024-09-09T16:49:10.485Z"
   },
   {
    "duration": 0,
    "start_time": "2024-09-09T16:49:10.486Z"
   },
   {
    "duration": 0,
    "start_time": "2024-09-09T16:49:10.487Z"
   },
   {
    "duration": 5302,
    "start_time": "2024-09-09T16:49:45.297Z"
   },
   {
    "duration": 127,
    "start_time": "2024-09-09T16:49:50.602Z"
   },
   {
    "duration": 44,
    "start_time": "2024-09-09T16:49:50.730Z"
   },
   {
    "duration": 3,
    "start_time": "2024-09-09T16:49:50.776Z"
   },
   {
    "duration": 8,
    "start_time": "2024-09-09T16:49:50.782Z"
   },
   {
    "duration": 11,
    "start_time": "2024-09-09T16:49:50.791Z"
   },
   {
    "duration": 7,
    "start_time": "2024-09-09T16:49:50.804Z"
   },
   {
    "duration": 8,
    "start_time": "2024-09-09T16:49:50.813Z"
   },
   {
    "duration": 16,
    "start_time": "2024-09-09T16:49:50.852Z"
   },
   {
    "duration": 6,
    "start_time": "2024-09-09T16:49:50.872Z"
   },
   {
    "duration": 17,
    "start_time": "2024-09-09T16:49:50.880Z"
   },
   {
    "duration": 15,
    "start_time": "2024-09-09T16:49:50.899Z"
   },
   {
    "duration": 7,
    "start_time": "2024-09-09T16:49:50.916Z"
   },
   {
    "duration": 32,
    "start_time": "2024-09-09T16:49:50.926Z"
   },
   {
    "duration": 10,
    "start_time": "2024-09-09T16:49:50.966Z"
   },
   {
    "duration": 12,
    "start_time": "2024-09-09T16:49:50.978Z"
   },
   {
    "duration": 6,
    "start_time": "2024-09-09T16:49:50.991Z"
   },
   {
    "duration": 697,
    "start_time": "2024-09-09T16:49:50.998Z"
   },
   {
    "duration": 149,
    "start_time": "2024-09-09T16:49:51.696Z"
   },
   {
    "duration": 137,
    "start_time": "2024-09-09T16:49:51.847Z"
   },
   {
    "duration": 1496,
    "start_time": "2024-09-09T16:49:51.986Z"
   },
   {
    "duration": 565,
    "start_time": "2024-09-09T16:49:53.484Z"
   },
   {
    "duration": 256,
    "start_time": "2024-09-09T16:49:54.054Z"
   },
   {
    "duration": 416,
    "start_time": "2024-09-09T16:49:54.312Z"
   },
   {
    "duration": 306,
    "start_time": "2024-09-09T16:49:54.730Z"
   },
   {
    "duration": 30,
    "start_time": "2024-09-09T16:49:55.037Z"
   },
   {
    "duration": 15,
    "start_time": "2024-09-09T16:49:55.072Z"
   },
   {
    "duration": 78,
    "start_time": "2024-09-09T16:49:55.089Z"
   },
   {
    "duration": 21,
    "start_time": "2024-09-09T16:49:55.169Z"
   },
   {
    "duration": 929,
    "start_time": "2024-09-09T16:49:55.192Z"
   },
   {
    "duration": 2936,
    "start_time": "2024-09-09T16:50:08.165Z"
   },
   {
    "duration": 3099,
    "start_time": "2024-09-09T16:51:23.021Z"
   },
   {
    "duration": 2938,
    "start_time": "2024-09-09T16:51:34.137Z"
   },
   {
    "duration": 0,
    "start_time": "2024-09-11T16:42:52.125Z"
   },
   {
    "duration": 0,
    "start_time": "2024-09-11T16:42:52.127Z"
   },
   {
    "duration": 0,
    "start_time": "2024-09-11T16:42:52.128Z"
   },
   {
    "duration": 0,
    "start_time": "2024-09-11T16:42:52.129Z"
   },
   {
    "duration": 0,
    "start_time": "2024-09-11T16:42:52.130Z"
   },
   {
    "duration": 0,
    "start_time": "2024-09-11T16:42:52.131Z"
   },
   {
    "duration": 0,
    "start_time": "2024-09-11T16:42:52.132Z"
   },
   {
    "duration": 0,
    "start_time": "2024-09-11T16:42:52.133Z"
   },
   {
    "duration": 0,
    "start_time": "2024-09-11T16:42:52.134Z"
   },
   {
    "duration": 0,
    "start_time": "2024-09-11T16:42:52.135Z"
   },
   {
    "duration": 0,
    "start_time": "2024-09-11T16:42:52.136Z"
   },
   {
    "duration": 0,
    "start_time": "2024-09-11T16:42:52.137Z"
   },
   {
    "duration": 0,
    "start_time": "2024-09-11T16:42:52.138Z"
   },
   {
    "duration": 0,
    "start_time": "2024-09-11T16:42:52.139Z"
   },
   {
    "duration": 0,
    "start_time": "2024-09-11T16:42:52.140Z"
   },
   {
    "duration": 0,
    "start_time": "2024-09-11T16:42:52.141Z"
   },
   {
    "duration": 0,
    "start_time": "2024-09-11T16:42:52.142Z"
   },
   {
    "duration": 0,
    "start_time": "2024-09-11T16:42:52.143Z"
   },
   {
    "duration": 0,
    "start_time": "2024-09-11T16:42:52.144Z"
   },
   {
    "duration": 0,
    "start_time": "2024-09-11T16:42:52.145Z"
   },
   {
    "duration": 1,
    "start_time": "2024-09-11T16:42:52.145Z"
   },
   {
    "duration": 0,
    "start_time": "2024-09-11T16:42:52.147Z"
   },
   {
    "duration": 0,
    "start_time": "2024-09-11T16:42:52.148Z"
   },
   {
    "duration": 0,
    "start_time": "2024-09-11T16:42:52.149Z"
   },
   {
    "duration": 0,
    "start_time": "2024-09-11T16:42:52.150Z"
   },
   {
    "duration": 0,
    "start_time": "2024-09-11T16:42:52.151Z"
   },
   {
    "duration": 0,
    "start_time": "2024-09-11T16:42:52.152Z"
   },
   {
    "duration": 0,
    "start_time": "2024-09-11T16:42:52.153Z"
   },
   {
    "duration": 0,
    "start_time": "2024-09-11T16:42:52.197Z"
   },
   {
    "duration": 0,
    "start_time": "2024-09-11T16:42:52.199Z"
   },
   {
    "duration": 20258,
    "start_time": "2024-09-11T16:42:58.653Z"
   },
   {
    "duration": 0,
    "start_time": "2024-09-11T16:43:18.914Z"
   },
   {
    "duration": 0,
    "start_time": "2024-09-11T16:43:18.915Z"
   },
   {
    "duration": 0,
    "start_time": "2024-09-11T16:43:18.917Z"
   },
   {
    "duration": 0,
    "start_time": "2024-09-11T16:43:18.918Z"
   },
   {
    "duration": 0,
    "start_time": "2024-09-11T16:43:18.919Z"
   },
   {
    "duration": 0,
    "start_time": "2024-09-11T16:43:18.920Z"
   },
   {
    "duration": 0,
    "start_time": "2024-09-11T16:43:18.922Z"
   },
   {
    "duration": 0,
    "start_time": "2024-09-11T16:43:18.924Z"
   },
   {
    "duration": 0,
    "start_time": "2024-09-11T16:43:18.925Z"
   },
   {
    "duration": 0,
    "start_time": "2024-09-11T16:43:18.926Z"
   },
   {
    "duration": 0,
    "start_time": "2024-09-11T16:43:18.927Z"
   },
   {
    "duration": 0,
    "start_time": "2024-09-11T16:43:18.928Z"
   },
   {
    "duration": 0,
    "start_time": "2024-09-11T16:43:18.929Z"
   },
   {
    "duration": 0,
    "start_time": "2024-09-11T16:43:18.931Z"
   },
   {
    "duration": 0,
    "start_time": "2024-09-11T16:43:18.932Z"
   },
   {
    "duration": 0,
    "start_time": "2024-09-11T16:43:18.933Z"
   },
   {
    "duration": 0,
    "start_time": "2024-09-11T16:43:18.934Z"
   },
   {
    "duration": 0,
    "start_time": "2024-09-11T16:43:18.935Z"
   },
   {
    "duration": 0,
    "start_time": "2024-09-11T16:43:18.936Z"
   },
   {
    "duration": 0,
    "start_time": "2024-09-11T16:43:18.937Z"
   },
   {
    "duration": 0,
    "start_time": "2024-09-11T16:43:18.938Z"
   },
   {
    "duration": 0,
    "start_time": "2024-09-11T16:43:18.939Z"
   },
   {
    "duration": 0,
    "start_time": "2024-09-11T16:43:18.940Z"
   },
   {
    "duration": 0,
    "start_time": "2024-09-11T16:43:18.941Z"
   },
   {
    "duration": 0,
    "start_time": "2024-09-11T16:43:18.942Z"
   },
   {
    "duration": 0,
    "start_time": "2024-09-11T16:43:18.944Z"
   },
   {
    "duration": 0,
    "start_time": "2024-09-11T16:43:18.945Z"
   },
   {
    "duration": 0,
    "start_time": "2024-09-11T16:43:18.946Z"
   },
   {
    "duration": 0,
    "start_time": "2024-09-11T16:43:18.947Z"
   },
   {
    "duration": 21719,
    "start_time": "2024-09-11T16:44:43.647Z"
   },
   {
    "duration": 5236,
    "start_time": "2024-09-11T16:45:40.461Z"
   },
   {
    "duration": 7080,
    "start_time": "2024-09-11T16:45:52.621Z"
   },
   {
    "duration": 439,
    "start_time": "2024-09-11T16:45:59.703Z"
   },
   {
    "duration": 53,
    "start_time": "2024-09-11T16:46:00.144Z"
   },
   {
    "duration": 12,
    "start_time": "2024-09-11T16:46:00.200Z"
   },
   {
    "duration": 12,
    "start_time": "2024-09-11T16:46:00.213Z"
   },
   {
    "duration": 22,
    "start_time": "2024-09-11T16:46:00.226Z"
   },
   {
    "duration": 25,
    "start_time": "2024-09-11T16:46:00.249Z"
   },
   {
    "duration": 13,
    "start_time": "2024-09-11T16:46:00.276Z"
   },
   {
    "duration": 8,
    "start_time": "2024-09-11T16:46:00.291Z"
   },
   {
    "duration": 21,
    "start_time": "2024-09-11T16:46:00.301Z"
   },
   {
    "duration": 25,
    "start_time": "2024-09-11T16:46:00.324Z"
   },
   {
    "duration": 14,
    "start_time": "2024-09-11T16:46:00.350Z"
   },
   {
    "duration": 7,
    "start_time": "2024-09-11T16:46:00.366Z"
   },
   {
    "duration": 5,
    "start_time": "2024-09-11T16:46:00.375Z"
   },
   {
    "duration": 27,
    "start_time": "2024-09-11T16:46:00.382Z"
   },
   {
    "duration": 22,
    "start_time": "2024-09-11T16:46:00.411Z"
   },
   {
    "duration": 14,
    "start_time": "2024-09-11T16:46:00.435Z"
   },
   {
    "duration": 934,
    "start_time": "2024-09-11T16:46:00.450Z"
   },
   {
    "duration": 263,
    "start_time": "2024-09-11T16:46:01.386Z"
   },
   {
    "duration": 217,
    "start_time": "2024-09-11T16:46:01.650Z"
   },
   {
    "duration": 2653,
    "start_time": "2024-09-11T16:46:01.869Z"
   },
   {
    "duration": 600,
    "start_time": "2024-09-11T16:46:04.524Z"
   },
   {
    "duration": 374,
    "start_time": "2024-09-11T16:46:05.125Z"
   },
   {
    "duration": 673,
    "start_time": "2024-09-11T16:46:05.501Z"
   },
   {
    "duration": 556,
    "start_time": "2024-09-11T16:46:06.175Z"
   },
   {
    "duration": 19,
    "start_time": "2024-09-11T16:46:06.733Z"
   },
   {
    "duration": 13,
    "start_time": "2024-09-11T16:46:06.754Z"
   },
   {
    "duration": 74,
    "start_time": "2024-09-11T16:46:06.771Z"
   },
   {
    "duration": 26,
    "start_time": "2024-09-11T16:46:06.847Z"
   },
   {
    "duration": 1897,
    "start_time": "2024-09-11T16:46:06.897Z"
   },
   {
    "duration": 12,
    "start_time": "2024-09-11T17:14:36.528Z"
   },
   {
    "duration": 12,
    "start_time": "2024-09-11T18:21:16.527Z"
   },
   {
    "duration": 12,
    "start_time": "2024-09-11T18:21:30.066Z"
   },
   {
    "duration": 9,
    "start_time": "2024-09-11T18:21:43.039Z"
   },
   {
    "duration": 9555,
    "start_time": "2024-09-15T10:04:00.837Z"
   },
   {
    "duration": 583,
    "start_time": "2024-09-15T10:05:15.239Z"
   },
   {
    "duration": 4,
    "start_time": "2024-09-15T10:05:39.024Z"
   },
   {
    "duration": 4,
    "start_time": "2024-09-15T10:05:48.613Z"
   },
   {
    "duration": 8,
    "start_time": "2024-09-15T10:06:31.202Z"
   },
   {
    "duration": 85,
    "start_time": "2024-09-15T16:27:05.494Z"
   },
   {
    "duration": 62,
    "start_time": "2024-09-15T16:27:29.106Z"
   },
   {
    "duration": 129,
    "start_time": "2024-09-15T16:27:53.301Z"
   },
   {
    "duration": 4262,
    "start_time": "2024-09-15T16:28:16.120Z"
   },
   {
    "duration": 474,
    "start_time": "2024-09-15T16:28:20.384Z"
   },
   {
    "duration": 31,
    "start_time": "2024-09-15T16:28:20.860Z"
   },
   {
    "duration": 3,
    "start_time": "2024-09-15T16:28:20.893Z"
   },
   {
    "duration": 13,
    "start_time": "2024-09-15T16:28:20.897Z"
   },
   {
    "duration": 19,
    "start_time": "2024-09-15T16:28:20.911Z"
   },
   {
    "duration": 7,
    "start_time": "2024-09-15T16:28:20.931Z"
   },
   {
    "duration": 6,
    "start_time": "2024-09-15T16:28:20.939Z"
   },
   {
    "duration": 5,
    "start_time": "2024-09-15T16:28:20.946Z"
   },
   {
    "duration": 4,
    "start_time": "2024-09-15T16:28:20.953Z"
   },
   {
    "duration": 7,
    "start_time": "2024-09-15T16:28:20.976Z"
   },
   {
    "duration": 9,
    "start_time": "2024-09-15T16:28:20.984Z"
   },
   {
    "duration": 5,
    "start_time": "2024-09-15T16:28:20.994Z"
   },
   {
    "duration": 4,
    "start_time": "2024-09-15T16:28:21.001Z"
   },
   {
    "duration": 12,
    "start_time": "2024-09-15T16:28:21.006Z"
   },
   {
    "duration": 14,
    "start_time": "2024-09-15T16:28:21.019Z"
   },
   {
    "duration": 3,
    "start_time": "2024-09-15T16:28:21.035Z"
   },
   {
    "duration": 456,
    "start_time": "2024-09-15T16:28:21.040Z"
   },
   {
    "duration": 119,
    "start_time": "2024-09-15T16:28:21.497Z"
   },
   {
    "duration": 109,
    "start_time": "2024-09-15T16:28:21.618Z"
   },
   {
    "duration": 1192,
    "start_time": "2024-09-15T16:28:21.728Z"
   },
   {
    "duration": 416,
    "start_time": "2024-09-15T16:28:22.922Z"
   },
   {
    "duration": 214,
    "start_time": "2024-09-15T16:28:23.339Z"
   },
   {
    "duration": 332,
    "start_time": "2024-09-15T16:28:23.554Z"
   },
   {
    "duration": 232,
    "start_time": "2024-09-15T16:28:23.887Z"
   },
   {
    "duration": 16,
    "start_time": "2024-09-15T16:28:24.120Z"
   },
   {
    "duration": 10,
    "start_time": "2024-09-15T16:28:24.137Z"
   },
   {
    "duration": 57,
    "start_time": "2024-09-15T16:28:24.149Z"
   },
   {
    "duration": 18,
    "start_time": "2024-09-15T16:28:24.207Z"
   },
   {
    "duration": 2364,
    "start_time": "2024-09-15T16:28:24.226Z"
   },
   {
    "duration": 22,
    "start_time": "2024-09-15T16:28:34.015Z"
   },
   {
    "duration": 4289,
    "start_time": "2024-09-15T16:29:13.298Z"
   },
   {
    "duration": 105,
    "start_time": "2024-09-15T16:29:17.590Z"
   },
   {
    "duration": 31,
    "start_time": "2024-09-15T16:29:17.696Z"
   },
   {
    "duration": 3,
    "start_time": "2024-09-15T16:29:17.728Z"
   },
   {
    "duration": 12,
    "start_time": "2024-09-15T16:29:17.732Z"
   },
   {
    "duration": 8,
    "start_time": "2024-09-15T16:29:17.745Z"
   },
   {
    "duration": 26,
    "start_time": "2024-09-15T16:29:17.754Z"
   },
   {
    "duration": 11,
    "start_time": "2024-09-15T16:29:17.782Z"
   },
   {
    "duration": 6,
    "start_time": "2024-09-15T16:29:17.794Z"
   },
   {
    "duration": 4,
    "start_time": "2024-09-15T16:29:17.801Z"
   },
   {
    "duration": 9,
    "start_time": "2024-09-15T16:29:17.807Z"
   },
   {
    "duration": 9,
    "start_time": "2024-09-15T16:29:17.817Z"
   },
   {
    "duration": 5,
    "start_time": "2024-09-15T16:29:17.827Z"
   },
   {
    "duration": 4,
    "start_time": "2024-09-15T16:29:17.834Z"
   },
   {
    "duration": 40,
    "start_time": "2024-09-15T16:29:17.839Z"
   },
   {
    "duration": 27,
    "start_time": "2024-09-15T16:29:17.880Z"
   },
   {
    "duration": 4,
    "start_time": "2024-09-15T16:29:17.908Z"
   },
   {
    "duration": 573,
    "start_time": "2024-09-15T16:29:17.913Z"
   },
   {
    "duration": 114,
    "start_time": "2024-09-15T16:29:18.487Z"
   },
   {
    "duration": 100,
    "start_time": "2024-09-15T16:29:18.602Z"
   },
   {
    "duration": 1166,
    "start_time": "2024-09-15T16:29:18.704Z"
   },
   {
    "duration": 299,
    "start_time": "2024-09-15T16:29:19.872Z"
   },
   {
    "duration": 323,
    "start_time": "2024-09-15T16:29:20.175Z"
   },
   {
    "duration": 350,
    "start_time": "2024-09-15T16:29:20.499Z"
   },
   {
    "duration": 234,
    "start_time": "2024-09-15T16:29:20.851Z"
   },
   {
    "duration": 15,
    "start_time": "2024-09-15T16:29:21.086Z"
   },
   {
    "duration": 41,
    "start_time": "2024-09-15T16:29:21.103Z"
   },
   {
    "duration": 38,
    "start_time": "2024-09-15T16:29:21.146Z"
   },
   {
    "duration": 18,
    "start_time": "2024-09-15T16:29:21.186Z"
   },
   {
    "duration": 2385,
    "start_time": "2024-09-15T16:29:21.206Z"
   },
   {
    "duration": 25,
    "start_time": "2024-09-15T16:29:23.593Z"
   },
   {
    "duration": 219,
    "start_time": "2024-09-15T16:31:25.863Z"
   },
   {
    "duration": 357,
    "start_time": "2024-09-15T16:40:35.401Z"
   },
   {
    "duration": 570,
    "start_time": "2024-09-15T16:42:19.907Z"
   },
   {
    "duration": 567,
    "start_time": "2024-09-15T16:42:25.081Z"
   },
   {
    "duration": 549,
    "start_time": "2024-09-15T16:53:42.027Z"
   },
   {
    "duration": 567,
    "start_time": "2024-09-15T16:57:22.260Z"
   },
   {
    "duration": 356,
    "start_time": "2024-09-15T16:57:50.052Z"
   },
   {
    "duration": 344,
    "start_time": "2024-09-15T16:57:54.458Z"
   },
   {
    "duration": 557,
    "start_time": "2024-09-15T17:02:22.953Z"
   },
   {
    "duration": 9,
    "start_time": "2024-09-15T17:41:49.434Z"
   },
   {
    "duration": 4273,
    "start_time": "2024-09-15T17:41:52.208Z"
   },
   {
    "duration": 15,
    "start_time": "2024-09-15T17:41:56.483Z"
   },
   {
    "duration": 3,
    "start_time": "2024-09-15T17:42:18.397Z"
   },
   {
    "duration": 4310,
    "start_time": "2024-09-15T18:12:21.736Z"
   },
   {
    "duration": 16130,
    "start_time": "2024-09-15T18:13:03.163Z"
   },
   {
    "duration": 15660,
    "start_time": "2024-09-15T18:14:10.680Z"
   },
   {
    "duration": 108,
    "start_time": "2024-09-15T18:14:26.342Z"
   },
   {
    "duration": 32,
    "start_time": "2024-09-15T18:14:26.452Z"
   },
   {
    "duration": 2,
    "start_time": "2024-09-15T18:14:26.486Z"
   },
   {
    "duration": 6,
    "start_time": "2024-09-15T18:14:26.489Z"
   },
   {
    "duration": 9,
    "start_time": "2024-09-15T18:14:26.496Z"
   },
   {
    "duration": 7,
    "start_time": "2024-09-15T18:14:26.506Z"
   },
   {
    "duration": 5,
    "start_time": "2024-09-15T18:14:26.514Z"
   },
   {
    "duration": 5,
    "start_time": "2024-09-15T18:14:26.520Z"
   },
   {
    "duration": 4,
    "start_time": "2024-09-15T18:14:26.527Z"
   },
   {
    "duration": 13,
    "start_time": "2024-09-15T18:14:26.532Z"
   },
   {
    "duration": 38,
    "start_time": "2024-09-15T18:14:26.546Z"
   },
   {
    "duration": 5,
    "start_time": "2024-09-15T18:14:26.586Z"
   },
   {
    "duration": 5,
    "start_time": "2024-09-15T18:14:26.593Z"
   },
   {
    "duration": 7,
    "start_time": "2024-09-15T18:14:26.599Z"
   },
   {
    "duration": 11,
    "start_time": "2024-09-15T18:14:26.607Z"
   },
   {
    "duration": 4,
    "start_time": "2024-09-15T18:14:26.619Z"
   },
   {
    "duration": 585,
    "start_time": "2024-09-15T18:14:26.624Z"
   },
   {
    "duration": 114,
    "start_time": "2024-09-15T18:14:27.210Z"
   },
   {
    "duration": 111,
    "start_time": "2024-09-15T18:14:27.325Z"
   },
   {
    "duration": 1201,
    "start_time": "2024-09-15T18:14:27.437Z"
   },
   {
    "duration": 308,
    "start_time": "2024-09-15T18:14:28.639Z"
   },
   {
    "duration": 214,
    "start_time": "2024-09-15T18:14:28.949Z"
   },
   {
    "duration": 451,
    "start_time": "2024-09-15T18:14:29.165Z"
   },
   {
    "duration": 228,
    "start_time": "2024-09-15T18:14:29.617Z"
   },
   {
    "duration": 16,
    "start_time": "2024-09-15T18:14:29.847Z"
   },
   {
    "duration": 11,
    "start_time": "2024-09-15T18:14:29.876Z"
   },
   {
    "duration": 40,
    "start_time": "2024-09-15T18:14:29.889Z"
   },
   {
    "duration": 18,
    "start_time": "2024-09-15T18:14:29.930Z"
   },
   {
    "duration": 2470,
    "start_time": "2024-09-15T18:14:29.949Z"
   },
   {
    "duration": 367,
    "start_time": "2024-09-15T18:14:32.420Z"
   },
   {
    "duration": 4,
    "start_time": "2024-09-15T18:17:09.893Z"
   },
   {
    "duration": 6717,
    "start_time": "2024-09-15T18:20:06.977Z"
   },
   {
    "duration": 0,
    "start_time": "2024-09-15T18:20:13.696Z"
   },
   {
    "duration": 0,
    "start_time": "2024-09-15T18:20:13.697Z"
   },
   {
    "duration": 0,
    "start_time": "2024-09-15T18:20:13.698Z"
   },
   {
    "duration": 0,
    "start_time": "2024-09-15T18:20:13.699Z"
   },
   {
    "duration": 0,
    "start_time": "2024-09-15T18:20:13.700Z"
   },
   {
    "duration": 0,
    "start_time": "2024-09-15T18:20:13.701Z"
   },
   {
    "duration": 0,
    "start_time": "2024-09-15T18:20:13.702Z"
   },
   {
    "duration": 0,
    "start_time": "2024-09-15T18:20:13.703Z"
   },
   {
    "duration": 0,
    "start_time": "2024-09-15T18:20:13.704Z"
   },
   {
    "duration": 0,
    "start_time": "2024-09-15T18:20:13.705Z"
   },
   {
    "duration": 0,
    "start_time": "2024-09-15T18:20:13.706Z"
   },
   {
    "duration": 0,
    "start_time": "2024-09-15T18:20:13.707Z"
   },
   {
    "duration": 0,
    "start_time": "2024-09-15T18:20:13.708Z"
   },
   {
    "duration": 0,
    "start_time": "2024-09-15T18:20:13.709Z"
   },
   {
    "duration": 0,
    "start_time": "2024-09-15T18:20:13.710Z"
   },
   {
    "duration": 0,
    "start_time": "2024-09-15T18:20:13.711Z"
   },
   {
    "duration": 0,
    "start_time": "2024-09-15T18:20:13.712Z"
   },
   {
    "duration": 0,
    "start_time": "2024-09-15T18:20:13.713Z"
   },
   {
    "duration": 0,
    "start_time": "2024-09-15T18:20:13.714Z"
   },
   {
    "duration": 0,
    "start_time": "2024-09-15T18:20:13.715Z"
   },
   {
    "duration": 0,
    "start_time": "2024-09-15T18:20:13.716Z"
   },
   {
    "duration": 0,
    "start_time": "2024-09-15T18:20:13.717Z"
   },
   {
    "duration": 0,
    "start_time": "2024-09-15T18:20:13.718Z"
   },
   {
    "duration": 0,
    "start_time": "2024-09-15T18:20:13.719Z"
   },
   {
    "duration": 0,
    "start_time": "2024-09-15T18:20:13.720Z"
   },
   {
    "duration": 0,
    "start_time": "2024-09-15T18:20:13.721Z"
   },
   {
    "duration": 0,
    "start_time": "2024-09-15T18:20:13.721Z"
   },
   {
    "duration": 0,
    "start_time": "2024-09-15T18:20:13.722Z"
   },
   {
    "duration": 0,
    "start_time": "2024-09-15T18:20:13.723Z"
   },
   {
    "duration": 0,
    "start_time": "2024-09-15T18:20:13.724Z"
   },
   {
    "duration": 0,
    "start_time": "2024-09-15T18:20:13.725Z"
   },
   {
    "duration": 18071,
    "start_time": "2024-09-15T18:23:33.840Z"
   },
   {
    "duration": 0,
    "start_time": "2024-09-15T18:23:51.914Z"
   },
   {
    "duration": 0,
    "start_time": "2024-09-15T18:23:51.915Z"
   },
   {
    "duration": 0,
    "start_time": "2024-09-15T18:23:51.916Z"
   },
   {
    "duration": 0,
    "start_time": "2024-09-15T18:23:51.918Z"
   },
   {
    "duration": 0,
    "start_time": "2024-09-15T18:23:51.919Z"
   },
   {
    "duration": 0,
    "start_time": "2024-09-15T18:23:51.920Z"
   },
   {
    "duration": 0,
    "start_time": "2024-09-15T18:23:51.922Z"
   },
   {
    "duration": 0,
    "start_time": "2024-09-15T18:23:51.924Z"
   },
   {
    "duration": 0,
    "start_time": "2024-09-15T18:23:51.925Z"
   },
   {
    "duration": 0,
    "start_time": "2024-09-15T18:23:51.926Z"
   },
   {
    "duration": 0,
    "start_time": "2024-09-15T18:23:51.927Z"
   },
   {
    "duration": 0,
    "start_time": "2024-09-15T18:23:51.929Z"
   },
   {
    "duration": 0,
    "start_time": "2024-09-15T18:23:51.930Z"
   },
   {
    "duration": 0,
    "start_time": "2024-09-15T18:23:51.931Z"
   },
   {
    "duration": 0,
    "start_time": "2024-09-15T18:23:51.932Z"
   },
   {
    "duration": 0,
    "start_time": "2024-09-15T18:23:51.933Z"
   },
   {
    "duration": 0,
    "start_time": "2024-09-15T18:23:51.934Z"
   },
   {
    "duration": 0,
    "start_time": "2024-09-15T18:23:51.936Z"
   },
   {
    "duration": 0,
    "start_time": "2024-09-15T18:23:51.937Z"
   },
   {
    "duration": 0,
    "start_time": "2024-09-15T18:23:51.976Z"
   },
   {
    "duration": 0,
    "start_time": "2024-09-15T18:23:51.977Z"
   },
   {
    "duration": 0,
    "start_time": "2024-09-15T18:23:51.978Z"
   },
   {
    "duration": 0,
    "start_time": "2024-09-15T18:23:51.980Z"
   },
   {
    "duration": 0,
    "start_time": "2024-09-15T18:23:51.981Z"
   },
   {
    "duration": 0,
    "start_time": "2024-09-15T18:23:51.982Z"
   },
   {
    "duration": 0,
    "start_time": "2024-09-15T18:23:51.983Z"
   },
   {
    "duration": 0,
    "start_time": "2024-09-15T18:23:51.984Z"
   },
   {
    "duration": 0,
    "start_time": "2024-09-15T18:23:51.985Z"
   },
   {
    "duration": 0,
    "start_time": "2024-09-15T18:23:51.986Z"
   },
   {
    "duration": 0,
    "start_time": "2024-09-15T18:23:51.987Z"
   },
   {
    "duration": 0,
    "start_time": "2024-09-15T18:23:51.988Z"
   },
   {
    "duration": 20779,
    "start_time": "2024-09-15T18:24:55.025Z"
   },
   {
    "duration": 8,
    "start_time": "2024-09-15T18:25:15.806Z"
   },
   {
    "duration": 111,
    "start_time": "2024-09-15T18:25:15.815Z"
   },
   {
    "duration": 36,
    "start_time": "2024-09-15T18:25:15.927Z"
   },
   {
    "duration": 3,
    "start_time": "2024-09-15T18:25:15.965Z"
   },
   {
    "duration": 24,
    "start_time": "2024-09-15T18:25:15.969Z"
   },
   {
    "duration": 14,
    "start_time": "2024-09-15T18:25:15.995Z"
   },
   {
    "duration": 7,
    "start_time": "2024-09-15T18:25:16.011Z"
   },
   {
    "duration": 8,
    "start_time": "2024-09-15T18:25:16.019Z"
   },
   {
    "duration": 5,
    "start_time": "2024-09-15T18:25:16.028Z"
   },
   {
    "duration": 8,
    "start_time": "2024-09-15T18:25:16.035Z"
   },
   {
    "duration": 9,
    "start_time": "2024-09-15T18:25:16.044Z"
   },
   {
    "duration": 23,
    "start_time": "2024-09-15T18:25:16.054Z"
   },
   {
    "duration": 6,
    "start_time": "2024-09-15T18:25:16.079Z"
   },
   {
    "duration": 8,
    "start_time": "2024-09-15T18:25:16.086Z"
   },
   {
    "duration": 8,
    "start_time": "2024-09-15T18:25:16.096Z"
   },
   {
    "duration": 14,
    "start_time": "2024-09-15T18:25:16.105Z"
   },
   {
    "duration": 4,
    "start_time": "2024-09-15T18:25:16.120Z"
   },
   {
    "duration": 917,
    "start_time": "2024-09-15T18:25:16.125Z"
   },
   {
    "duration": 263,
    "start_time": "2024-09-15T18:25:17.043Z"
   },
   {
    "duration": 215,
    "start_time": "2024-09-15T18:25:17.308Z"
   },
   {
    "duration": 2342,
    "start_time": "2024-09-15T18:25:17.525Z"
   },
   {
    "duration": 549,
    "start_time": "2024-09-15T18:25:19.868Z"
   },
   {
    "duration": 340,
    "start_time": "2024-09-15T18:25:20.418Z"
   },
   {
    "duration": 573,
    "start_time": "2024-09-15T18:25:20.759Z"
   },
   {
    "duration": 478,
    "start_time": "2024-09-15T18:25:21.334Z"
   },
   {
    "duration": 18,
    "start_time": "2024-09-15T18:25:21.814Z"
   },
   {
    "duration": 48,
    "start_time": "2024-09-15T18:25:21.833Z"
   },
   {
    "duration": 42,
    "start_time": "2024-09-15T18:25:21.882Z"
   },
   {
    "duration": 18,
    "start_time": "2024-09-15T18:25:21.925Z"
   },
   {
    "duration": 1655,
    "start_time": "2024-09-15T18:25:21.945Z"
   },
   {
    "duration": 135,
    "start_time": "2024-09-15T18:25:23.602Z"
   },
   {
    "duration": 580,
    "start_time": "2024-09-15T18:29:21.897Z"
   },
   {
    "duration": 30,
    "start_time": "2024-09-15T18:56:27.247Z"
   },
   {
    "duration": 27566,
    "start_time": "2024-09-17T18:36:32.208Z"
   },
   {
    "duration": 9,
    "start_time": "2024-09-17T18:36:59.777Z"
   },
   {
    "duration": 388,
    "start_time": "2024-09-17T18:36:59.789Z"
   },
   {
    "duration": 93,
    "start_time": "2024-09-17T18:37:00.179Z"
   },
   {
    "duration": 4,
    "start_time": "2024-09-17T18:37:00.276Z"
   },
   {
    "duration": 50,
    "start_time": "2024-09-17T18:37:00.282Z"
   },
   {
    "duration": 71,
    "start_time": "2024-09-17T18:37:00.334Z"
   },
   {
    "duration": 35,
    "start_time": "2024-09-17T18:37:00.407Z"
   },
   {
    "duration": 37,
    "start_time": "2024-09-17T18:37:00.444Z"
   },
   {
    "duration": 56,
    "start_time": "2024-09-17T18:37:00.483Z"
   },
   {
    "duration": 42,
    "start_time": "2024-09-17T18:37:00.540Z"
   },
   {
    "duration": 91,
    "start_time": "2024-09-17T18:37:00.584Z"
   },
   {
    "duration": 11,
    "start_time": "2024-09-17T18:37:00.677Z"
   },
   {
    "duration": 30,
    "start_time": "2024-09-17T18:37:00.692Z"
   },
   {
    "duration": 47,
    "start_time": "2024-09-17T18:37:00.724Z"
   },
   {
    "duration": 48,
    "start_time": "2024-09-17T18:37:00.773Z"
   },
   {
    "duration": 32,
    "start_time": "2024-09-17T18:37:00.822Z"
   },
   {
    "duration": 8,
    "start_time": "2024-09-17T18:37:00.856Z"
   },
   {
    "duration": 1192,
    "start_time": "2024-09-17T18:37:00.866Z"
   },
   {
    "duration": 290,
    "start_time": "2024-09-17T18:37:02.060Z"
   },
   {
    "duration": 289,
    "start_time": "2024-09-17T18:37:02.352Z"
   },
   {
    "duration": 2932,
    "start_time": "2024-09-17T18:37:02.643Z"
   },
   {
    "duration": 654,
    "start_time": "2024-09-17T18:37:05.576Z"
   },
   {
    "duration": 460,
    "start_time": "2024-09-17T18:37:06.232Z"
   },
   {
    "duration": 663,
    "start_time": "2024-09-17T18:37:06.694Z"
   },
   {
    "duration": 567,
    "start_time": "2024-09-17T18:37:07.360Z"
   },
   {
    "duration": 50,
    "start_time": "2024-09-17T18:37:07.929Z"
   },
   {
    "duration": 28,
    "start_time": "2024-09-17T18:37:07.981Z"
   },
   {
    "duration": 97,
    "start_time": "2024-09-17T18:37:08.011Z"
   },
   {
    "duration": 59,
    "start_time": "2024-09-17T18:37:08.110Z"
   },
   {
    "duration": 2201,
    "start_time": "2024-09-17T18:37:08.172Z"
   },
   {
    "duration": 188,
    "start_time": "2024-09-17T18:37:10.375Z"
   },
   {
    "duration": 8,
    "start_time": "2024-09-18T16:17:05.582Z"
   },
   {
    "duration": 349,
    "start_time": "2024-09-18T16:17:05.592Z"
   },
   {
    "duration": 41,
    "start_time": "2024-09-18T16:17:05.943Z"
   },
   {
    "duration": 4,
    "start_time": "2024-09-18T16:17:05.987Z"
   },
   {
    "duration": 28,
    "start_time": "2024-09-18T16:17:05.992Z"
   },
   {
    "duration": 13,
    "start_time": "2024-09-18T16:17:06.022Z"
   },
   {
    "duration": 7,
    "start_time": "2024-09-18T16:17:06.037Z"
   },
   {
    "duration": 30,
    "start_time": "2024-09-18T16:17:06.045Z"
   },
   {
    "duration": 18,
    "start_time": "2024-09-18T16:17:06.077Z"
   },
   {
    "duration": 5,
    "start_time": "2024-09-18T16:17:06.097Z"
   },
   {
    "duration": 51,
    "start_time": "2024-09-18T16:17:06.104Z"
   },
   {
    "duration": 31,
    "start_time": "2024-09-18T16:17:06.157Z"
   },
   {
    "duration": 6,
    "start_time": "2024-09-18T16:17:06.191Z"
   },
   {
    "duration": 11,
    "start_time": "2024-09-18T16:17:06.198Z"
   },
   {
    "duration": 17,
    "start_time": "2024-09-18T16:17:06.210Z"
   },
   {
    "duration": 20,
    "start_time": "2024-09-18T16:17:06.228Z"
   },
   {
    "duration": 9,
    "start_time": "2024-09-18T16:17:06.249Z"
   },
   {
    "duration": 1027,
    "start_time": "2024-09-18T16:17:06.260Z"
   },
   {
    "duration": 239,
    "start_time": "2024-09-18T16:17:07.289Z"
   },
   {
    "duration": 255,
    "start_time": "2024-09-18T16:17:07.530Z"
   },
   {
    "duration": 2620,
    "start_time": "2024-09-18T16:17:07.787Z"
   },
   {
    "duration": 609,
    "start_time": "2024-09-18T16:17:10.409Z"
   },
   {
    "duration": 364,
    "start_time": "2024-09-18T16:17:11.019Z"
   },
   {
    "duration": 639,
    "start_time": "2024-09-18T16:17:11.385Z"
   },
   {
    "duration": 565,
    "start_time": "2024-09-18T16:17:12.026Z"
   },
   {
    "duration": 19,
    "start_time": "2024-09-18T16:17:12.593Z"
   },
   {
    "duration": 12,
    "start_time": "2024-09-18T16:17:12.614Z"
   },
   {
    "duration": 73,
    "start_time": "2024-09-18T16:17:12.628Z"
   },
   {
    "duration": 35,
    "start_time": "2024-09-18T16:17:12.703Z"
   },
   {
    "duration": 1864,
    "start_time": "2024-09-18T16:17:12.740Z"
   },
   {
    "duration": 167,
    "start_time": "2024-09-18T16:17:14.606Z"
   },
   {
    "duration": 0,
    "start_time": "2024-09-18T16:17:14.775Z"
   },
   {
    "duration": 721,
    "start_time": "2024-09-18T16:29:07.174Z"
   },
   {
    "duration": 703,
    "start_time": "2024-09-18T16:36:59.497Z"
   },
   {
    "duration": 82,
    "start_time": "2024-09-18T16:40:54.212Z"
   },
   {
    "duration": 688,
    "start_time": "2024-09-18T16:41:06.036Z"
   },
   {
    "duration": 49060,
    "start_time": "2024-09-24T19:19:14.736Z"
   },
   {
    "duration": 8,
    "start_time": "2024-09-24T19:20:03.799Z"
   },
   {
    "duration": 451,
    "start_time": "2024-09-24T19:20:03.808Z"
   },
   {
    "duration": 37,
    "start_time": "2024-09-24T19:20:04.261Z"
   },
   {
    "duration": 3,
    "start_time": "2024-09-24T19:20:04.300Z"
   },
   {
    "duration": 25,
    "start_time": "2024-09-24T19:20:04.305Z"
   },
   {
    "duration": 10,
    "start_time": "2024-09-24T19:20:04.332Z"
   },
   {
    "duration": 15,
    "start_time": "2024-09-24T19:20:04.344Z"
   },
   {
    "duration": 34,
    "start_time": "2024-09-24T19:20:04.361Z"
   },
   {
    "duration": 13,
    "start_time": "2024-09-24T19:20:04.396Z"
   },
   {
    "duration": 15,
    "start_time": "2024-09-24T19:20:04.410Z"
   },
   {
    "duration": 10,
    "start_time": "2024-09-24T19:20:04.426Z"
   },
   {
    "duration": 9,
    "start_time": "2024-09-24T19:20:04.437Z"
   },
   {
    "duration": 5,
    "start_time": "2024-09-24T19:20:04.449Z"
   },
   {
    "duration": 4,
    "start_time": "2024-09-24T19:20:04.456Z"
   },
   {
    "duration": 28,
    "start_time": "2024-09-24T19:20:04.462Z"
   },
   {
    "duration": 13,
    "start_time": "2024-09-24T19:20:04.491Z"
   },
   {
    "duration": 6,
    "start_time": "2024-09-24T19:20:04.505Z"
   },
   {
    "duration": 988,
    "start_time": "2024-09-24T19:20:04.513Z"
   },
   {
    "duration": 235,
    "start_time": "2024-09-24T19:20:05.502Z"
   },
   {
    "duration": 207,
    "start_time": "2024-09-24T19:20:05.738Z"
   },
   {
    "duration": 2446,
    "start_time": "2024-09-24T19:20:05.946Z"
   },
   {
    "duration": 549,
    "start_time": "2024-09-24T19:20:08.394Z"
   },
   {
    "duration": 330,
    "start_time": "2024-09-24T19:20:08.944Z"
   },
   {
    "duration": 575,
    "start_time": "2024-09-24T19:20:09.276Z"
   },
   {
    "duration": 491,
    "start_time": "2024-09-24T19:20:09.852Z"
   },
   {
    "duration": 48,
    "start_time": "2024-09-24T19:20:10.344Z"
   },
   {
    "duration": 13,
    "start_time": "2024-09-24T19:20:10.394Z"
   },
   {
    "duration": 46,
    "start_time": "2024-09-24T19:20:10.408Z"
   },
   {
    "duration": 60,
    "start_time": "2024-09-24T19:20:10.456Z"
   },
   {
    "duration": 1745,
    "start_time": "2024-09-24T19:20:10.517Z"
   },
   {
    "duration": 1783,
    "start_time": "2024-09-24T19:20:12.264Z"
   },
   {
    "duration": 1931,
    "start_time": "2024-09-24T19:25:32.599Z"
   },
   {
    "duration": 1789,
    "start_time": "2024-09-24T19:32:19.116Z"
   },
   {
    "duration": 20743,
    "start_time": "2024-09-24T19:48:32.821Z"
   },
   {
    "duration": 8,
    "start_time": "2024-09-24T19:48:53.566Z"
   },
   {
    "duration": 118,
    "start_time": "2024-09-24T19:48:53.576Z"
   },
   {
    "duration": 35,
    "start_time": "2024-09-24T19:48:53.696Z"
   },
   {
    "duration": 2,
    "start_time": "2024-09-24T19:48:53.733Z"
   },
   {
    "duration": 6,
    "start_time": "2024-09-24T19:48:53.737Z"
   },
   {
    "duration": 8,
    "start_time": "2024-09-24T19:48:53.744Z"
   },
   {
    "duration": 41,
    "start_time": "2024-09-24T19:48:53.753Z"
   },
   {
    "duration": 7,
    "start_time": "2024-09-24T19:48:53.795Z"
   },
   {
    "duration": 5,
    "start_time": "2024-09-24T19:48:53.805Z"
   },
   {
    "duration": 7,
    "start_time": "2024-09-24T19:48:53.811Z"
   },
   {
    "duration": 12,
    "start_time": "2024-09-24T19:48:53.819Z"
   },
   {
    "duration": 9,
    "start_time": "2024-09-24T19:48:53.832Z"
   },
   {
    "duration": 5,
    "start_time": "2024-09-24T19:48:53.842Z"
   },
   {
    "duration": 7,
    "start_time": "2024-09-24T19:48:53.848Z"
   },
   {
    "duration": 40,
    "start_time": "2024-09-24T19:48:53.857Z"
   },
   {
    "duration": 12,
    "start_time": "2024-09-24T19:48:53.898Z"
   },
   {
    "duration": 4,
    "start_time": "2024-09-24T19:48:53.911Z"
   },
   {
    "duration": 941,
    "start_time": "2024-09-24T19:48:53.916Z"
   },
   {
    "duration": 261,
    "start_time": "2024-09-24T19:48:54.859Z"
   },
   {
    "duration": 214,
    "start_time": "2024-09-24T19:48:55.122Z"
   },
   {
    "duration": 2442,
    "start_time": "2024-09-24T19:48:55.337Z"
   },
   {
    "duration": 567,
    "start_time": "2024-09-24T19:48:57.780Z"
   },
   {
    "duration": 346,
    "start_time": "2024-09-24T19:48:58.348Z"
   },
   {
    "duration": 554,
    "start_time": "2024-09-24T19:48:58.696Z"
   },
   {
    "duration": 472,
    "start_time": "2024-09-24T19:48:59.251Z"
   },
   {
    "duration": 18,
    "start_time": "2024-09-24T19:48:59.724Z"
   },
   {
    "duration": 13,
    "start_time": "2024-09-24T19:48:59.745Z"
   },
   {
    "duration": 73,
    "start_time": "2024-09-24T19:48:59.759Z"
   },
   {
    "duration": 32,
    "start_time": "2024-09-24T19:48:59.834Z"
   },
   {
    "duration": 1852,
    "start_time": "2024-09-24T19:48:59.890Z"
   },
   {
    "duration": 1797,
    "start_time": "2024-09-24T19:49:01.744Z"
   },
   {
    "duration": 139,
    "start_time": "2024-09-24T19:49:03.542Z"
   },
   {
    "duration": 50,
    "start_time": "2024-09-25T16:00:21.578Z"
   },
   {
    "duration": 49748,
    "start_time": "2024-09-25T16:00:27.910Z"
   },
   {
    "duration": 9,
    "start_time": "2024-09-25T16:01:17.660Z"
   },
   {
    "duration": 426,
    "start_time": "2024-09-25T16:01:17.670Z"
   },
   {
    "duration": 36,
    "start_time": "2024-09-25T16:01:18.098Z"
   },
   {
    "duration": 16,
    "start_time": "2024-09-25T16:01:18.136Z"
   },
   {
    "duration": 8,
    "start_time": "2024-09-25T16:01:18.154Z"
   },
   {
    "duration": 10,
    "start_time": "2024-09-25T16:01:18.163Z"
   },
   {
    "duration": 8,
    "start_time": "2024-09-25T16:01:18.174Z"
   },
   {
    "duration": 11,
    "start_time": "2024-09-25T16:01:18.183Z"
   },
   {
    "duration": 5,
    "start_time": "2024-09-25T16:01:18.196Z"
   },
   {
    "duration": 5,
    "start_time": "2024-09-25T16:01:18.203Z"
   },
   {
    "duration": 78,
    "start_time": "2024-09-25T16:01:18.210Z"
   },
   {
    "duration": 11,
    "start_time": "2024-09-25T16:01:18.289Z"
   },
   {
    "duration": 6,
    "start_time": "2024-09-25T16:01:18.301Z"
   },
   {
    "duration": 11,
    "start_time": "2024-09-25T16:01:18.308Z"
   },
   {
    "duration": 9,
    "start_time": "2024-09-25T16:01:18.320Z"
   },
   {
    "duration": 13,
    "start_time": "2024-09-25T16:01:18.330Z"
   },
   {
    "duration": 3,
    "start_time": "2024-09-25T16:01:18.345Z"
   },
   {
    "duration": 1000,
    "start_time": "2024-09-25T16:01:18.352Z"
   },
   {
    "duration": 258,
    "start_time": "2024-09-25T16:01:19.353Z"
   },
   {
    "duration": 203,
    "start_time": "2024-09-25T16:01:19.613Z"
   },
   {
    "duration": 2712,
    "start_time": "2024-09-25T16:01:19.818Z"
   },
   {
    "duration": 596,
    "start_time": "2024-09-25T16:01:22.532Z"
   },
   {
    "duration": 398,
    "start_time": "2024-09-25T16:01:23.129Z"
   },
   {
    "duration": 672,
    "start_time": "2024-09-25T16:01:23.528Z"
   },
   {
    "duration": 484,
    "start_time": "2024-09-25T16:01:24.202Z"
   },
   {
    "duration": 20,
    "start_time": "2024-09-25T16:01:24.688Z"
   },
   {
    "duration": 13,
    "start_time": "2024-09-25T16:01:24.711Z"
   },
   {
    "duration": 72,
    "start_time": "2024-09-25T16:01:24.725Z"
   },
   {
    "duration": 55,
    "start_time": "2024-09-25T16:01:24.798Z"
   },
   {
    "duration": 1821,
    "start_time": "2024-09-25T16:01:24.855Z"
   },
   {
    "duration": 1831,
    "start_time": "2024-09-25T16:01:26.678Z"
   },
   {
    "duration": 148,
    "start_time": "2024-09-25T16:01:28.511Z"
   },
   {
    "duration": 13,
    "start_time": "2024-09-25T16:27:06.758Z"
   },
   {
    "duration": 3,
    "start_time": "2024-09-25T16:27:12.645Z"
   },
   {
    "duration": 14,
    "start_time": "2024-09-25T16:27:14.750Z"
   },
   {
    "duration": 46505,
    "start_time": "2024-09-30T16:18:16.949Z"
   },
   {
    "duration": 8,
    "start_time": "2024-09-30T16:19:03.456Z"
   },
   {
    "duration": 514,
    "start_time": "2024-09-30T16:19:03.466Z"
   },
   {
    "duration": 40,
    "start_time": "2024-09-30T16:19:03.982Z"
   },
   {
    "duration": 13,
    "start_time": "2024-09-30T16:19:04.025Z"
   },
   {
    "duration": 9,
    "start_time": "2024-09-30T16:19:04.040Z"
   },
   {
    "duration": 11,
    "start_time": "2024-09-30T16:19:04.050Z"
   },
   {
    "duration": 9,
    "start_time": "2024-09-30T16:19:04.062Z"
   },
   {
    "duration": 34,
    "start_time": "2024-09-30T16:19:04.091Z"
   },
   {
    "duration": 8,
    "start_time": "2024-09-30T16:19:04.127Z"
   },
   {
    "duration": 15,
    "start_time": "2024-09-30T16:19:04.136Z"
   },
   {
    "duration": 15,
    "start_time": "2024-09-30T16:19:04.152Z"
   },
   {
    "duration": 44,
    "start_time": "2024-09-30T16:19:04.169Z"
   },
   {
    "duration": 19,
    "start_time": "2024-09-30T16:19:04.216Z"
   },
   {
    "duration": 16,
    "start_time": "2024-09-30T16:19:04.236Z"
   },
   {
    "duration": 8,
    "start_time": "2024-09-30T16:19:04.253Z"
   },
   {
    "duration": 12,
    "start_time": "2024-09-30T16:19:04.263Z"
   },
   {
    "duration": 23,
    "start_time": "2024-09-30T16:19:04.276Z"
   },
   {
    "duration": 1071,
    "start_time": "2024-09-30T16:19:04.301Z"
   },
   {
    "duration": 262,
    "start_time": "2024-09-30T16:19:05.374Z"
   },
   {
    "duration": 213,
    "start_time": "2024-09-30T16:19:05.637Z"
   },
   {
    "duration": 2543,
    "start_time": "2024-09-30T16:19:05.851Z"
   },
   {
    "duration": 553,
    "start_time": "2024-09-30T16:19:08.396Z"
   },
   {
    "duration": 371,
    "start_time": "2024-09-30T16:19:08.951Z"
   },
   {
    "duration": 535,
    "start_time": "2024-09-30T16:19:09.324Z"
   },
   {
    "duration": 540,
    "start_time": "2024-09-30T16:19:09.861Z"
   },
   {
    "duration": 19,
    "start_time": "2024-09-30T16:19:10.403Z"
   },
   {
    "duration": 15,
    "start_time": "2024-09-30T16:19:10.423Z"
   },
   {
    "duration": 70,
    "start_time": "2024-09-30T16:19:10.439Z"
   },
   {
    "duration": 37,
    "start_time": "2024-09-30T16:19:10.510Z"
   },
   {
    "duration": 1749,
    "start_time": "2024-09-30T16:19:10.549Z"
   },
   {
    "duration": 1911,
    "start_time": "2024-09-30T16:19:12.299Z"
   },
   {
    "duration": 168,
    "start_time": "2024-09-30T16:19:14.212Z"
   },
   {
    "duration": 0,
    "start_time": "2024-09-30T16:19:14.382Z"
   },
   {
    "duration": 19895,
    "start_time": "2024-09-30T16:19:27.403Z"
   },
   {
    "duration": 19660,
    "start_time": "2024-09-30T16:20:17.758Z"
   },
   {
    "duration": 4,
    "start_time": "2024-09-30T16:20:37.420Z"
   },
   {
    "duration": 127,
    "start_time": "2024-09-30T16:20:37.426Z"
   },
   {
    "duration": 45,
    "start_time": "2024-09-30T16:20:37.555Z"
   },
   {
    "duration": 3,
    "start_time": "2024-09-30T16:20:37.602Z"
   },
   {
    "duration": 8,
    "start_time": "2024-09-30T16:20:37.607Z"
   },
   {
    "duration": 11,
    "start_time": "2024-09-30T16:20:37.617Z"
   },
   {
    "duration": 10,
    "start_time": "2024-09-30T16:20:37.630Z"
   },
   {
    "duration": 6,
    "start_time": "2024-09-30T16:20:37.641Z"
   },
   {
    "duration": 8,
    "start_time": "2024-09-30T16:20:37.649Z"
   },
   {
    "duration": 34,
    "start_time": "2024-09-30T16:20:37.658Z"
   },
   {
    "duration": 10,
    "start_time": "2024-09-30T16:20:37.693Z"
   },
   {
    "duration": 8,
    "start_time": "2024-09-30T16:20:37.705Z"
   },
   {
    "duration": 12,
    "start_time": "2024-09-30T16:20:37.716Z"
   },
   {
    "duration": 5,
    "start_time": "2024-09-30T16:20:37.729Z"
   },
   {
    "duration": 8,
    "start_time": "2024-09-30T16:20:37.736Z"
   },
   {
    "duration": 44,
    "start_time": "2024-09-30T16:20:37.746Z"
   },
   {
    "duration": 4,
    "start_time": "2024-09-30T16:20:37.793Z"
   },
   {
    "duration": 1063,
    "start_time": "2024-09-30T16:20:37.798Z"
   },
   {
    "duration": 264,
    "start_time": "2024-09-30T16:20:38.862Z"
   },
   {
    "duration": 218,
    "start_time": "2024-09-30T16:20:39.127Z"
   },
   {
    "duration": 2468,
    "start_time": "2024-09-30T16:20:39.346Z"
   },
   {
    "duration": 526,
    "start_time": "2024-09-30T16:20:41.815Z"
   },
   {
    "duration": 342,
    "start_time": "2024-09-30T16:20:42.343Z"
   },
   {
    "duration": 573,
    "start_time": "2024-09-30T16:20:42.690Z"
   },
   {
    "duration": 466,
    "start_time": "2024-09-30T16:20:43.265Z"
   },
   {
    "duration": 65,
    "start_time": "2024-09-30T16:20:43.733Z"
   },
   {
    "duration": 16,
    "start_time": "2024-09-30T16:20:43.799Z"
   },
   {
    "duration": 81,
    "start_time": "2024-09-30T16:20:43.817Z"
   },
   {
    "duration": 35,
    "start_time": "2024-09-30T16:20:43.900Z"
   },
   {
    "duration": 1618,
    "start_time": "2024-09-30T16:20:43.936Z"
   },
   {
    "duration": 1886,
    "start_time": "2024-09-30T16:20:45.555Z"
   },
   {
    "duration": 46,
    "start_time": "2024-09-30T16:20:47.443Z"
   },
   {
    "duration": 0,
    "start_time": "2024-09-30T16:20:47.491Z"
   },
   {
    "duration": 38,
    "start_time": "2024-09-30T16:21:21.712Z"
   },
   {
    "duration": 37,
    "start_time": "2024-09-30T16:21:31.181Z"
   },
   {
    "duration": 4030,
    "start_time": "2024-09-30T16:21:38.406Z"
   },
   {
    "duration": 6545,
    "start_time": "2024-09-30T16:29:31.847Z"
   },
   {
    "duration": 7709,
    "start_time": "2024-09-30T16:29:51.568Z"
   },
   {
    "duration": 7621,
    "start_time": "2024-09-30T16:30:21.950Z"
   },
   {
    "duration": 37,
    "start_time": "2024-09-30T16:31:27.607Z"
   },
   {
    "duration": 7442,
    "start_time": "2024-09-30T16:31:31.840Z"
   },
   {
    "duration": 794,
    "start_time": "2024-09-30T16:51:02.258Z"
   },
   {
    "duration": 52519,
    "start_time": "2024-10-02T16:37:07.472Z"
   },
   {
    "duration": 10,
    "start_time": "2024-10-02T16:37:59.993Z"
   },
   {
    "duration": 454,
    "start_time": "2024-10-02T16:38:00.005Z"
   },
   {
    "duration": 64,
    "start_time": "2024-10-02T16:38:00.461Z"
   },
   {
    "duration": 4,
    "start_time": "2024-10-02T16:38:00.527Z"
   },
   {
    "duration": 30,
    "start_time": "2024-10-02T16:38:00.533Z"
   },
   {
    "duration": 36,
    "start_time": "2024-10-02T16:38:00.565Z"
   },
   {
    "duration": 62,
    "start_time": "2024-10-02T16:38:00.604Z"
   },
   {
    "duration": 30,
    "start_time": "2024-10-02T16:38:00.668Z"
   },
   {
    "duration": 100,
    "start_time": "2024-10-02T16:38:00.700Z"
   },
   {
    "duration": 14,
    "start_time": "2024-10-02T16:38:00.802Z"
   },
   {
    "duration": 20,
    "start_time": "2024-10-02T16:38:00.818Z"
   },
   {
    "duration": 17,
    "start_time": "2024-10-02T16:38:00.839Z"
   },
   {
    "duration": 10,
    "start_time": "2024-10-02T16:38:00.859Z"
   },
   {
    "duration": 7,
    "start_time": "2024-10-02T16:38:00.870Z"
   },
   {
    "duration": 40,
    "start_time": "2024-10-02T16:38:00.879Z"
   },
   {
    "duration": 31,
    "start_time": "2024-10-02T16:38:00.921Z"
   },
   {
    "duration": 62,
    "start_time": "2024-10-02T16:38:00.954Z"
   },
   {
    "duration": 1171,
    "start_time": "2024-10-02T16:38:01.018Z"
   },
   {
    "duration": 331,
    "start_time": "2024-10-02T16:38:02.191Z"
   },
   {
    "duration": 259,
    "start_time": "2024-10-02T16:38:02.524Z"
   },
   {
    "duration": 2871,
    "start_time": "2024-10-02T16:38:02.784Z"
   },
   {
    "duration": 631,
    "start_time": "2024-10-02T16:38:05.657Z"
   },
   {
    "duration": 420,
    "start_time": "2024-10-02T16:38:06.290Z"
   },
   {
    "duration": 660,
    "start_time": "2024-10-02T16:38:06.712Z"
   },
   {
    "duration": 599,
    "start_time": "2024-10-02T16:38:07.373Z"
   },
   {
    "duration": 21,
    "start_time": "2024-10-02T16:38:07.973Z"
   },
   {
    "duration": 35,
    "start_time": "2024-10-02T16:38:07.995Z"
   },
   {
    "duration": 74,
    "start_time": "2024-10-02T16:38:08.031Z"
   },
   {
    "duration": 45,
    "start_time": "2024-10-02T16:38:08.107Z"
   },
   {
    "duration": 1946,
    "start_time": "2024-10-02T16:38:08.153Z"
   },
   {
    "duration": 2032,
    "start_time": "2024-10-02T16:38:10.101Z"
   },
   {
    "duration": 40,
    "start_time": "2024-10-02T16:38:12.134Z"
   },
   {
    "duration": 6957,
    "start_time": "2024-10-02T16:38:12.175Z"
   },
   {
    "duration": 904,
    "start_time": "2024-10-02T16:38:19.134Z"
   },
   {
    "duration": 170,
    "start_time": "2024-10-02T16:38:58.839Z"
   },
   {
    "duration": 19,
    "start_time": "2024-10-02T16:39:16.274Z"
   },
   {
    "duration": 23767,
    "start_time": "2024-10-02T16:39:31.018Z"
   },
   {
    "duration": 9,
    "start_time": "2024-10-02T16:39:54.787Z"
   },
   {
    "duration": 152,
    "start_time": "2024-10-02T16:39:54.798Z"
   },
   {
    "duration": 44,
    "start_time": "2024-10-02T16:39:54.951Z"
   },
   {
    "duration": 4,
    "start_time": "2024-10-02T16:39:55.020Z"
   },
   {
    "duration": 6,
    "start_time": "2024-10-02T16:39:55.026Z"
   },
   {
    "duration": 14,
    "start_time": "2024-10-02T16:39:55.034Z"
   },
   {
    "duration": 12,
    "start_time": "2024-10-02T16:39:55.050Z"
   },
   {
    "duration": 6,
    "start_time": "2024-10-02T16:39:55.064Z"
   },
   {
    "duration": 15,
    "start_time": "2024-10-02T16:39:55.072Z"
   },
   {
    "duration": 36,
    "start_time": "2024-10-02T16:39:55.089Z"
   },
   {
    "duration": 14,
    "start_time": "2024-10-02T16:39:55.128Z"
   },
   {
    "duration": 13,
    "start_time": "2024-10-02T16:39:55.144Z"
   },
   {
    "duration": 8,
    "start_time": "2024-10-02T16:39:55.160Z"
   },
   {
    "duration": 17,
    "start_time": "2024-10-02T16:39:55.170Z"
   },
   {
    "duration": 88,
    "start_time": "2024-10-02T16:39:55.189Z"
   },
   {
    "duration": 16,
    "start_time": "2024-10-02T16:39:55.280Z"
   },
   {
    "duration": 4,
    "start_time": "2024-10-02T16:39:55.298Z"
   },
   {
    "duration": 1048,
    "start_time": "2024-10-02T16:39:55.304Z"
   },
   {
    "duration": 246,
    "start_time": "2024-10-02T16:39:56.353Z"
   },
   {
    "duration": 265,
    "start_time": "2024-10-02T16:39:56.600Z"
   },
   {
    "duration": 2675,
    "start_time": "2024-10-02T16:39:56.866Z"
   },
   {
    "duration": 626,
    "start_time": "2024-10-02T16:39:59.543Z"
   },
   {
    "duration": 379,
    "start_time": "2024-10-02T16:40:00.171Z"
   },
   {
    "duration": 631,
    "start_time": "2024-10-02T16:40:00.552Z"
   },
   {
    "duration": 565,
    "start_time": "2024-10-02T16:40:01.185Z"
   },
   {
    "duration": 23,
    "start_time": "2024-10-02T16:40:01.752Z"
   },
   {
    "duration": 51,
    "start_time": "2024-10-02T16:40:01.778Z"
   },
   {
    "duration": 57,
    "start_time": "2024-10-02T16:40:01.831Z"
   },
   {
    "duration": 57,
    "start_time": "2024-10-02T16:40:01.890Z"
   },
   {
    "duration": 1935,
    "start_time": "2024-10-02T16:40:01.949Z"
   },
   {
    "duration": 2099,
    "start_time": "2024-10-02T16:40:03.885Z"
   },
   {
    "duration": 46,
    "start_time": "2024-10-02T16:40:05.986Z"
   },
   {
    "duration": 7190,
    "start_time": "2024-10-02T16:40:06.033Z"
   },
   {
    "duration": 918,
    "start_time": "2024-10-02T16:40:13.225Z"
   },
   {
    "duration": 900,
    "start_time": "2024-10-02T16:40:23.143Z"
   },
   {
    "duration": 176,
    "start_time": "2024-10-02T16:42:28.641Z"
   },
   {
    "duration": 12,
    "start_time": "2024-10-02T16:43:07.068Z"
   },
   {
    "duration": 50,
    "start_time": "2024-10-02T16:53:36.856Z"
   },
   {
    "duration": 42,
    "start_time": "2024-10-02T16:53:44.326Z"
   },
   {
    "duration": 6888,
    "start_time": "2024-10-02T16:53:46.849Z"
   },
   {
    "duration": 16,
    "start_time": "2024-10-02T16:54:38.365Z"
   },
   {
    "duration": 20,
    "start_time": "2024-10-02T16:55:40.186Z"
   },
   {
    "duration": 19,
    "start_time": "2024-10-02T16:55:48.483Z"
   },
   {
    "duration": 13,
    "start_time": "2024-10-02T16:56:34.563Z"
   },
   {
    "duration": 15,
    "start_time": "2024-10-02T16:56:40.962Z"
   },
   {
    "duration": 22,
    "start_time": "2024-10-02T17:11:08.316Z"
   },
   {
    "duration": 25,
    "start_time": "2024-10-02T17:11:58.371Z"
   },
   {
    "duration": 24231,
    "start_time": "2024-10-02T17:12:12.027Z"
   },
   {
    "duration": 9,
    "start_time": "2024-10-02T17:12:36.260Z"
   },
   {
    "duration": 135,
    "start_time": "2024-10-02T17:12:36.271Z"
   },
   {
    "duration": 55,
    "start_time": "2024-10-02T17:12:36.408Z"
   },
   {
    "duration": 5,
    "start_time": "2024-10-02T17:12:36.465Z"
   },
   {
    "duration": 20,
    "start_time": "2024-10-02T17:12:36.473Z"
   },
   {
    "duration": 41,
    "start_time": "2024-10-02T17:12:36.495Z"
   },
   {
    "duration": 15,
    "start_time": "2024-10-02T17:12:36.538Z"
   },
   {
    "duration": 29,
    "start_time": "2024-10-02T17:12:36.554Z"
   },
   {
    "duration": 18,
    "start_time": "2024-10-02T17:12:36.586Z"
   },
   {
    "duration": 18,
    "start_time": "2024-10-02T17:12:36.605Z"
   },
   {
    "duration": 82,
    "start_time": "2024-10-02T17:12:36.625Z"
   },
   {
    "duration": 27,
    "start_time": "2024-10-02T17:12:36.709Z"
   },
   {
    "duration": 58,
    "start_time": "2024-10-02T17:12:36.738Z"
   },
   {
    "duration": 22,
    "start_time": "2024-10-02T17:12:36.797Z"
   },
   {
    "duration": 19,
    "start_time": "2024-10-02T17:12:36.821Z"
   },
   {
    "duration": 71,
    "start_time": "2024-10-02T17:12:36.842Z"
   },
   {
    "duration": 5,
    "start_time": "2024-10-02T17:12:36.915Z"
   },
   {
    "duration": 1118,
    "start_time": "2024-10-02T17:12:36.921Z"
   },
   {
    "duration": 247,
    "start_time": "2024-10-02T17:12:38.041Z"
   },
   {
    "duration": 270,
    "start_time": "2024-10-02T17:12:38.290Z"
   },
   {
    "duration": 2638,
    "start_time": "2024-10-02T17:12:38.562Z"
   },
   {
    "duration": 639,
    "start_time": "2024-10-02T17:12:41.202Z"
   },
   {
    "duration": 358,
    "start_time": "2024-10-02T17:12:41.842Z"
   },
   {
    "duration": 639,
    "start_time": "2024-10-02T17:12:42.202Z"
   },
   {
    "duration": 518,
    "start_time": "2024-10-02T17:12:42.843Z"
   },
   {
    "duration": 21,
    "start_time": "2024-10-02T17:12:43.363Z"
   },
   {
    "duration": 33,
    "start_time": "2024-10-02T17:12:43.388Z"
   },
   {
    "duration": 52,
    "start_time": "2024-10-02T17:12:43.422Z"
   },
   {
    "duration": 64,
    "start_time": "2024-10-02T17:12:43.476Z"
   },
   {
    "duration": 2030,
    "start_time": "2024-10-02T17:12:43.542Z"
   },
   {
    "duration": 2035,
    "start_time": "2024-10-02T17:12:45.573Z"
   },
   {
    "duration": 45,
    "start_time": "2024-10-02T17:12:47.610Z"
   },
   {
    "duration": 6969,
    "start_time": "2024-10-02T17:12:47.656Z"
   },
   {
    "duration": 921,
    "start_time": "2024-10-02T17:12:54.627Z"
   },
   {
    "duration": 22,
    "start_time": "2024-10-02T17:12:55.550Z"
   },
   {
    "duration": 28,
    "start_time": "2024-10-02T17:13:21.563Z"
   },
   {
    "duration": 155,
    "start_time": "2024-10-02T17:13:57.826Z"
   },
   {
    "duration": 22,
    "start_time": "2024-10-02T17:14:13.060Z"
   },
   {
    "duration": 21,
    "start_time": "2024-10-02T17:15:50.465Z"
   },
   {
    "duration": 19,
    "start_time": "2024-10-02T17:17:50.506Z"
   },
   {
    "duration": 19,
    "start_time": "2024-10-02T17:18:29.829Z"
   },
   {
    "duration": 27,
    "start_time": "2024-10-02T17:23:22.750Z"
   },
   {
    "duration": 50,
    "start_time": "2024-10-02T17:23:41.755Z"
   },
   {
    "duration": 26,
    "start_time": "2024-10-02T17:25:54.897Z"
   },
   {
    "duration": 25,
    "start_time": "2024-10-02T17:26:07.595Z"
   },
   {
    "duration": 23,
    "start_time": "2024-10-02T17:26:20.370Z"
   },
   {
    "duration": 34,
    "start_time": "2024-10-02T17:29:49.673Z"
   },
   {
    "duration": 42,
    "start_time": "2024-10-02T17:33:00.486Z"
   },
   {
    "duration": 66,
    "start_time": "2024-10-02T17:37:47.924Z"
   },
   {
    "duration": 244,
    "start_time": "2024-10-02T17:38:14.541Z"
   },
   {
    "duration": 357,
    "start_time": "2024-10-02T17:39:40.774Z"
   },
   {
    "duration": 322,
    "start_time": "2024-10-02T17:40:09.249Z"
   },
   {
    "duration": 347,
    "start_time": "2024-10-02T17:41:04.298Z"
   },
   {
    "duration": 310,
    "start_time": "2024-10-02T17:44:45.212Z"
   },
   {
    "duration": 317,
    "start_time": "2024-10-02T17:45:09.031Z"
   },
   {
    "duration": 278,
    "start_time": "2024-10-02T17:45:32.924Z"
   },
   {
    "duration": 364,
    "start_time": "2024-10-02T17:45:44.421Z"
   },
   {
    "duration": 327,
    "start_time": "2024-10-02T17:45:57.266Z"
   },
   {
    "duration": 470,
    "start_time": "2024-10-02T17:46:02.027Z"
   },
   {
    "duration": 370,
    "start_time": "2024-10-02T17:47:10.400Z"
   },
   {
    "duration": 326,
    "start_time": "2024-10-02T17:48:23.067Z"
   },
   {
    "duration": 52168,
    "start_time": "2024-10-05T15:33:24.237Z"
   },
   {
    "duration": 9,
    "start_time": "2024-10-05T15:34:16.407Z"
   },
   {
    "duration": 373,
    "start_time": "2024-10-05T15:34:16.418Z"
   },
   {
    "duration": 54,
    "start_time": "2024-10-05T15:34:16.793Z"
   },
   {
    "duration": 3,
    "start_time": "2024-10-05T15:34:16.850Z"
   },
   {
    "duration": 21,
    "start_time": "2024-10-05T15:34:16.855Z"
   },
   {
    "duration": 21,
    "start_time": "2024-10-05T15:34:16.877Z"
   },
   {
    "duration": 21,
    "start_time": "2024-10-05T15:34:16.900Z"
   },
   {
    "duration": 7,
    "start_time": "2024-10-05T15:34:16.923Z"
   },
   {
    "duration": 38,
    "start_time": "2024-10-05T15:34:16.931Z"
   },
   {
    "duration": 28,
    "start_time": "2024-10-05T15:34:16.971Z"
   },
   {
    "duration": 18,
    "start_time": "2024-10-05T15:34:17.001Z"
   },
   {
    "duration": 10,
    "start_time": "2024-10-05T15:34:17.020Z"
   },
   {
    "duration": 5,
    "start_time": "2024-10-05T15:34:17.033Z"
   },
   {
    "duration": 5,
    "start_time": "2024-10-05T15:34:17.040Z"
   },
   {
    "duration": 13,
    "start_time": "2024-10-05T15:34:17.047Z"
   },
   {
    "duration": 18,
    "start_time": "2024-10-05T15:34:17.061Z"
   },
   {
    "duration": 4,
    "start_time": "2024-10-05T15:34:17.080Z"
   },
   {
    "duration": 996,
    "start_time": "2024-10-05T15:34:17.086Z"
   },
   {
    "duration": 242,
    "start_time": "2024-10-05T15:34:18.083Z"
   },
   {
    "duration": 305,
    "start_time": "2024-10-05T15:34:18.327Z"
   },
   {
    "duration": 2737,
    "start_time": "2024-10-05T15:34:18.634Z"
   },
   {
    "duration": 628,
    "start_time": "2024-10-05T15:34:21.372Z"
   },
   {
    "duration": 419,
    "start_time": "2024-10-05T15:34:22.001Z"
   },
   {
    "duration": 652,
    "start_time": "2024-10-05T15:34:22.422Z"
   },
   {
    "duration": 503,
    "start_time": "2024-10-05T15:34:23.076Z"
   },
   {
    "duration": 22,
    "start_time": "2024-10-05T15:34:23.581Z"
   },
   {
    "duration": 15,
    "start_time": "2024-10-05T15:34:23.605Z"
   },
   {
    "duration": 54,
    "start_time": "2024-10-05T15:34:23.647Z"
   },
   {
    "duration": 63,
    "start_time": "2024-10-05T15:34:23.703Z"
   },
   {
    "duration": 1989,
    "start_time": "2024-10-05T15:34:23.768Z"
   },
   {
    "duration": 2082,
    "start_time": "2024-10-05T15:34:25.759Z"
   },
   {
    "duration": 39,
    "start_time": "2024-10-05T15:34:27.845Z"
   },
   {
    "duration": 6889,
    "start_time": "2024-10-05T15:34:27.885Z"
   },
   {
    "duration": 318,
    "start_time": "2024-10-05T15:34:34.776Z"
   },
   {
    "duration": 166,
    "start_time": "2024-10-05T15:34:35.096Z"
   },
   {
    "duration": 50,
    "start_time": "2024-10-07T16:15:58.840Z"
   },
   {
    "duration": 52220,
    "start_time": "2024-10-07T16:16:04.576Z"
   },
   {
    "duration": 9,
    "start_time": "2024-10-07T16:16:56.798Z"
   },
   {
    "duration": 399,
    "start_time": "2024-10-07T16:16:56.809Z"
   },
   {
    "duration": 57,
    "start_time": "2024-10-07T16:16:57.209Z"
   },
   {
    "duration": 31,
    "start_time": "2024-10-07T16:16:57.268Z"
   },
   {
    "duration": 98,
    "start_time": "2024-10-07T16:16:57.300Z"
   },
   {
    "duration": 17,
    "start_time": "2024-10-07T16:16:57.399Z"
   },
   {
    "duration": 8,
    "start_time": "2024-10-07T16:16:57.417Z"
   },
   {
    "duration": 29,
    "start_time": "2024-10-07T16:16:57.426Z"
   },
   {
    "duration": 14,
    "start_time": "2024-10-07T16:16:57.458Z"
   },
   {
    "duration": 21,
    "start_time": "2024-10-07T16:16:57.474Z"
   },
   {
    "duration": 25,
    "start_time": "2024-10-07T16:16:57.497Z"
   },
   {
    "duration": 23,
    "start_time": "2024-10-07T16:16:57.524Z"
   },
   {
    "duration": 7,
    "start_time": "2024-10-07T16:16:57.551Z"
   },
   {
    "duration": 7,
    "start_time": "2024-10-07T16:16:57.560Z"
   },
   {
    "duration": 12,
    "start_time": "2024-10-07T16:16:57.569Z"
   },
   {
    "duration": 28,
    "start_time": "2024-10-07T16:16:57.583Z"
   },
   {
    "duration": 10,
    "start_time": "2024-10-07T16:16:57.614Z"
   },
   {
    "duration": 1072,
    "start_time": "2024-10-07T16:16:57.626Z"
   },
   {
    "duration": 257,
    "start_time": "2024-10-07T16:16:58.700Z"
   },
   {
    "duration": 258,
    "start_time": "2024-10-07T16:16:58.959Z"
   },
   {
    "duration": 2845,
    "start_time": "2024-10-07T16:16:59.219Z"
   },
   {
    "duration": 646,
    "start_time": "2024-10-07T16:17:02.066Z"
   },
   {
    "duration": 396,
    "start_time": "2024-10-07T16:17:02.714Z"
   },
   {
    "duration": 652,
    "start_time": "2024-10-07T16:17:03.112Z"
   },
   {
    "duration": 527,
    "start_time": "2024-10-07T16:17:03.766Z"
   },
   {
    "duration": 21,
    "start_time": "2024-10-07T16:17:04.294Z"
   },
   {
    "duration": 27,
    "start_time": "2024-10-07T16:17:04.317Z"
   },
   {
    "duration": 159,
    "start_time": "2024-10-07T16:17:04.356Z"
   },
   {
    "duration": 48,
    "start_time": "2024-10-07T16:17:04.516Z"
   },
   {
    "duration": 1878,
    "start_time": "2024-10-07T16:17:04.566Z"
   },
   {
    "duration": 2063,
    "start_time": "2024-10-07T16:17:06.446Z"
   },
   {
    "duration": 57,
    "start_time": "2024-10-07T16:17:08.511Z"
   },
   {
    "duration": 7901,
    "start_time": "2024-10-07T16:17:08.570Z"
   },
   {
    "duration": 334,
    "start_time": "2024-10-07T16:17:16.473Z"
   },
   {
    "duration": 46,
    "start_time": "2024-10-07T16:17:16.809Z"
   },
   {
    "duration": 161,
    "start_time": "2024-10-07T16:21:49.360Z"
   },
   {
    "duration": 29,
    "start_time": "2024-10-07T16:22:55.536Z"
   },
   {
    "duration": 16,
    "start_time": "2024-10-07T16:24:26.507Z"
   },
   {
    "duration": 1639,
    "start_time": "2024-10-07T16:24:49.972Z"
   },
   {
    "duration": 268,
    "start_time": "2024-10-07T16:25:10.968Z"
   },
   {
    "duration": 251,
    "start_time": "2024-10-07T16:25:32.770Z"
   },
   {
    "duration": 295,
    "start_time": "2024-10-07T16:26:05.839Z"
   },
   {
    "duration": 303,
    "start_time": "2024-10-07T16:26:39.033Z"
   },
   {
    "duration": 283,
    "start_time": "2024-10-07T16:27:15.258Z"
   },
   {
    "duration": 288,
    "start_time": "2024-10-07T16:27:23.337Z"
   },
   {
    "duration": 59,
    "start_time": "2024-10-09T17:02:36.000Z"
   },
   {
    "duration": 48049,
    "start_time": "2024-10-09T17:02:49.014Z"
   },
   {
    "duration": 0,
    "start_time": "2024-10-09T17:03:37.066Z"
   },
   {
    "duration": 0,
    "start_time": "2024-10-09T17:03:37.068Z"
   },
   {
    "duration": 0,
    "start_time": "2024-10-09T17:03:37.069Z"
   },
   {
    "duration": 0,
    "start_time": "2024-10-09T17:03:37.070Z"
   },
   {
    "duration": 0,
    "start_time": "2024-10-09T17:03:37.071Z"
   },
   {
    "duration": 0,
    "start_time": "2024-10-09T17:03:37.073Z"
   },
   {
    "duration": 0,
    "start_time": "2024-10-09T17:03:37.074Z"
   },
   {
    "duration": 1,
    "start_time": "2024-10-09T17:03:37.075Z"
   },
   {
    "duration": 0,
    "start_time": "2024-10-09T17:03:37.077Z"
   },
   {
    "duration": 0,
    "start_time": "2024-10-09T17:03:37.078Z"
   },
   {
    "duration": 0,
    "start_time": "2024-10-09T17:03:37.080Z"
   },
   {
    "duration": 0,
    "start_time": "2024-10-09T17:03:37.081Z"
   },
   {
    "duration": 0,
    "start_time": "2024-10-09T17:03:37.083Z"
   },
   {
    "duration": 0,
    "start_time": "2024-10-09T17:03:37.084Z"
   },
   {
    "duration": 0,
    "start_time": "2024-10-09T17:03:37.085Z"
   },
   {
    "duration": 0,
    "start_time": "2024-10-09T17:03:37.087Z"
   },
   {
    "duration": 0,
    "start_time": "2024-10-09T17:03:37.088Z"
   },
   {
    "duration": 0,
    "start_time": "2024-10-09T17:03:37.089Z"
   },
   {
    "duration": 0,
    "start_time": "2024-10-09T17:03:37.091Z"
   },
   {
    "duration": 0,
    "start_time": "2024-10-09T17:03:37.092Z"
   },
   {
    "duration": 0,
    "start_time": "2024-10-09T17:03:37.094Z"
   },
   {
    "duration": 0,
    "start_time": "2024-10-09T17:03:37.095Z"
   },
   {
    "duration": 0,
    "start_time": "2024-10-09T17:03:37.096Z"
   },
   {
    "duration": 0,
    "start_time": "2024-10-09T17:03:37.098Z"
   },
   {
    "duration": 0,
    "start_time": "2024-10-09T17:03:37.099Z"
   },
   {
    "duration": 0,
    "start_time": "2024-10-09T17:03:37.154Z"
   },
   {
    "duration": 0,
    "start_time": "2024-10-09T17:03:37.156Z"
   },
   {
    "duration": 0,
    "start_time": "2024-10-09T17:03:37.157Z"
   },
   {
    "duration": 0,
    "start_time": "2024-10-09T17:03:37.159Z"
   },
   {
    "duration": 0,
    "start_time": "2024-10-09T17:03:37.160Z"
   },
   {
    "duration": 0,
    "start_time": "2024-10-09T17:03:37.162Z"
   },
   {
    "duration": 0,
    "start_time": "2024-10-09T17:03:37.164Z"
   },
   {
    "duration": 0,
    "start_time": "2024-10-09T17:03:37.165Z"
   },
   {
    "duration": 0,
    "start_time": "2024-10-09T17:03:37.167Z"
   },
   {
    "duration": 0,
    "start_time": "2024-10-09T17:03:37.168Z"
   },
   {
    "duration": 0,
    "start_time": "2024-10-09T17:03:37.169Z"
   },
   {
    "duration": 0,
    "start_time": "2024-10-09T17:03:37.171Z"
   },
   {
    "duration": 0,
    "start_time": "2024-10-09T17:03:37.173Z"
   },
   {
    "duration": 0,
    "start_time": "2024-10-09T17:03:37.174Z"
   },
   {
    "duration": 0,
    "start_time": "2024-10-09T17:03:37.175Z"
   },
   {
    "duration": 0,
    "start_time": "2024-10-09T17:03:37.176Z"
   },
   {
    "duration": 0,
    "start_time": "2024-10-09T17:03:37.178Z"
   },
   {
    "duration": 0,
    "start_time": "2024-10-09T17:03:37.182Z"
   },
   {
    "duration": 37189,
    "start_time": "2024-10-09T17:04:14.196Z"
   },
   {
    "duration": 20596,
    "start_time": "2024-10-09T17:05:51.819Z"
   },
   {
    "duration": 26792,
    "start_time": "2024-10-09T17:07:35.271Z"
   },
   {
    "duration": 27091,
    "start_time": "2024-10-09T17:11:29.993Z"
   },
   {
    "duration": 30205,
    "start_time": "2024-10-09T17:15:30.715Z"
   },
   {
    "duration": 51155,
    "start_time": "2024-10-10T11:48:57.226Z"
   },
   {
    "duration": 0,
    "start_time": "2024-10-10T11:49:48.383Z"
   },
   {
    "duration": 0,
    "start_time": "2024-10-10T11:49:48.384Z"
   },
   {
    "duration": 0,
    "start_time": "2024-10-10T11:49:48.386Z"
   },
   {
    "duration": 0,
    "start_time": "2024-10-10T11:49:48.387Z"
   },
   {
    "duration": 0,
    "start_time": "2024-10-10T11:49:48.388Z"
   },
   {
    "duration": 0,
    "start_time": "2024-10-10T11:49:48.389Z"
   },
   {
    "duration": 1,
    "start_time": "2024-10-10T11:49:48.390Z"
   },
   {
    "duration": 0,
    "start_time": "2024-10-10T11:49:48.391Z"
   },
   {
    "duration": 0,
    "start_time": "2024-10-10T11:49:48.392Z"
   },
   {
    "duration": 0,
    "start_time": "2024-10-10T11:49:48.393Z"
   },
   {
    "duration": 0,
    "start_time": "2024-10-10T11:49:48.394Z"
   },
   {
    "duration": 0,
    "start_time": "2024-10-10T11:49:48.395Z"
   },
   {
    "duration": 0,
    "start_time": "2024-10-10T11:49:48.396Z"
   },
   {
    "duration": 0,
    "start_time": "2024-10-10T11:49:48.397Z"
   },
   {
    "duration": 0,
    "start_time": "2024-10-10T11:49:48.398Z"
   },
   {
    "duration": 0,
    "start_time": "2024-10-10T11:49:48.399Z"
   },
   {
    "duration": 0,
    "start_time": "2024-10-10T11:49:48.400Z"
   },
   {
    "duration": 0,
    "start_time": "2024-10-10T11:49:48.401Z"
   },
   {
    "duration": 0,
    "start_time": "2024-10-10T11:49:48.402Z"
   },
   {
    "duration": 0,
    "start_time": "2024-10-10T11:49:48.403Z"
   },
   {
    "duration": 0,
    "start_time": "2024-10-10T11:49:48.404Z"
   },
   {
    "duration": 0,
    "start_time": "2024-10-10T11:49:48.405Z"
   },
   {
    "duration": 0,
    "start_time": "2024-10-10T11:49:48.406Z"
   },
   {
    "duration": 0,
    "start_time": "2024-10-10T11:49:48.407Z"
   },
   {
    "duration": 0,
    "start_time": "2024-10-10T11:49:48.408Z"
   },
   {
    "duration": 0,
    "start_time": "2024-10-10T11:49:48.409Z"
   },
   {
    "duration": 0,
    "start_time": "2024-10-10T11:49:48.453Z"
   },
   {
    "duration": 0,
    "start_time": "2024-10-10T11:49:48.454Z"
   },
   {
    "duration": 0,
    "start_time": "2024-10-10T11:49:48.456Z"
   },
   {
    "duration": 0,
    "start_time": "2024-10-10T11:49:48.457Z"
   },
   {
    "duration": 0,
    "start_time": "2024-10-10T11:49:48.458Z"
   },
   {
    "duration": 0,
    "start_time": "2024-10-10T11:49:48.459Z"
   },
   {
    "duration": 0,
    "start_time": "2024-10-10T11:49:48.461Z"
   },
   {
    "duration": 0,
    "start_time": "2024-10-10T11:49:48.461Z"
   },
   {
    "duration": 1,
    "start_time": "2024-10-10T11:49:48.462Z"
   },
   {
    "duration": 0,
    "start_time": "2024-10-10T11:49:48.464Z"
   },
   {
    "duration": 0,
    "start_time": "2024-10-10T11:49:48.465Z"
   },
   {
    "duration": 0,
    "start_time": "2024-10-10T11:49:48.466Z"
   },
   {
    "duration": 0,
    "start_time": "2024-10-10T11:49:48.467Z"
   },
   {
    "duration": 0,
    "start_time": "2024-10-10T11:49:48.468Z"
   },
   {
    "duration": 0,
    "start_time": "2024-10-10T11:49:48.470Z"
   },
   {
    "duration": 36664,
    "start_time": "2024-10-10T11:56:43.936Z"
   },
   {
    "duration": 359,
    "start_time": "2024-10-10T11:57:20.602Z"
   },
   {
    "duration": 35,
    "start_time": "2024-10-10T11:57:20.963Z"
   },
   {
    "duration": 3,
    "start_time": "2024-10-10T11:57:21.000Z"
   },
   {
    "duration": 10,
    "start_time": "2024-10-10T11:57:21.005Z"
   },
   {
    "duration": 37,
    "start_time": "2024-10-10T11:57:21.016Z"
   },
   {
    "duration": 21,
    "start_time": "2024-10-10T11:57:21.055Z"
   },
   {
    "duration": 7,
    "start_time": "2024-10-10T11:57:21.078Z"
   },
   {
    "duration": 19,
    "start_time": "2024-10-10T11:57:21.087Z"
   },
   {
    "duration": 31,
    "start_time": "2024-10-10T11:57:21.107Z"
   },
   {
    "duration": 19,
    "start_time": "2024-10-10T11:57:21.140Z"
   },
   {
    "duration": 10,
    "start_time": "2024-10-10T11:57:21.161Z"
   },
   {
    "duration": 5,
    "start_time": "2024-10-10T11:57:21.172Z"
   },
   {
    "duration": 5,
    "start_time": "2024-10-10T11:57:21.180Z"
   },
   {
    "duration": 23,
    "start_time": "2024-10-10T11:57:21.186Z"
   },
   {
    "duration": 4,
    "start_time": "2024-10-10T11:57:21.211Z"
   },
   {
    "duration": 1027,
    "start_time": "2024-10-10T11:57:21.216Z"
   },
   {
    "duration": 256,
    "start_time": "2024-10-10T11:57:22.252Z"
   },
   {
    "duration": 209,
    "start_time": "2024-10-10T11:57:22.510Z"
   },
   {
    "duration": 2612,
    "start_time": "2024-10-10T11:57:22.721Z"
   },
   {
    "duration": 590,
    "start_time": "2024-10-10T11:57:25.334Z"
   },
   {
    "duration": 5,
    "start_time": "2024-10-10T11:57:25.926Z"
   },
   {
    "duration": 373,
    "start_time": "2024-10-10T11:57:25.933Z"
   },
   {
    "duration": 619,
    "start_time": "2024-10-10T11:57:26.308Z"
   },
   {
    "duration": 563,
    "start_time": "2024-10-10T11:57:26.930Z"
   },
   {
    "duration": 19,
    "start_time": "2024-10-10T11:57:27.495Z"
   },
   {
    "duration": 12,
    "start_time": "2024-10-10T11:57:27.516Z"
   },
   {
    "duration": 48,
    "start_time": "2024-10-10T11:57:27.552Z"
   },
   {
    "duration": 54,
    "start_time": "2024-10-10T11:57:27.602Z"
   },
   {
    "duration": 1803,
    "start_time": "2024-10-10T11:57:27.658Z"
   },
   {
    "duration": 4,
    "start_time": "2024-10-10T11:57:29.463Z"
   },
   {
    "duration": 19,
    "start_time": "2024-10-10T11:57:29.469Z"
   },
   {
    "duration": 26,
    "start_time": "2024-10-10T11:57:29.490Z"
   },
   {
    "duration": 11,
    "start_time": "2024-10-10T11:57:29.517Z"
   },
   {
    "duration": 18,
    "start_time": "2024-10-10T11:57:29.529Z"
   },
   {
    "duration": 15,
    "start_time": "2024-10-10T11:57:29.549Z"
   },
   {
    "duration": 1898,
    "start_time": "2024-10-10T11:57:29.566Z"
   },
   {
    "duration": 16,
    "start_time": "2024-10-10T11:57:31.465Z"
   },
   {
    "duration": 38,
    "start_time": "2024-10-10T11:57:31.482Z"
   },
   {
    "duration": 7140,
    "start_time": "2024-10-10T11:57:31.522Z"
   },
   {
    "duration": 348,
    "start_time": "2024-10-10T11:57:38.665Z"
   },
   {
    "duration": 288,
    "start_time": "2024-10-10T11:57:39.015Z"
   },
   {
    "duration": 58184,
    "start_time": "2024-10-10T15:22:09.168Z"
   },
   {
    "duration": 22856,
    "start_time": "2024-10-10T15:24:18.743Z"
   },
   {
    "duration": 373,
    "start_time": "2024-10-10T15:24:41.601Z"
   },
   {
    "duration": 31,
    "start_time": "2024-10-10T15:24:41.979Z"
   },
   {
    "duration": 3,
    "start_time": "2024-10-10T15:24:42.012Z"
   },
   {
    "duration": 21,
    "start_time": "2024-10-10T15:24:42.016Z"
   },
   {
    "duration": 14,
    "start_time": "2024-10-10T15:24:42.039Z"
   },
   {
    "duration": 7,
    "start_time": "2024-10-10T15:24:42.054Z"
   },
   {
    "duration": 5,
    "start_time": "2024-10-10T15:24:42.063Z"
   },
   {
    "duration": 6,
    "start_time": "2024-10-10T15:24:42.070Z"
   },
   {
    "duration": 5,
    "start_time": "2024-10-10T15:24:42.077Z"
   },
   {
    "duration": 32,
    "start_time": "2024-10-10T15:24:42.083Z"
   },
   {
    "duration": 9,
    "start_time": "2024-10-10T15:24:42.117Z"
   },
   {
    "duration": 7,
    "start_time": "2024-10-10T15:24:42.130Z"
   },
   {
    "duration": 18,
    "start_time": "2024-10-10T15:24:42.139Z"
   },
   {
    "duration": 31,
    "start_time": "2024-10-10T15:24:42.159Z"
   },
   {
    "duration": 13,
    "start_time": "2024-10-10T15:24:42.192Z"
   },
   {
    "duration": 982,
    "start_time": "2024-10-10T15:24:42.207Z"
   },
   {
    "duration": 252,
    "start_time": "2024-10-10T15:24:43.190Z"
   },
   {
    "duration": 215,
    "start_time": "2024-10-10T15:24:43.444Z"
   },
   {
    "duration": 2458,
    "start_time": "2024-10-10T15:24:43.662Z"
   },
   {
    "duration": 535,
    "start_time": "2024-10-10T15:24:46.122Z"
   },
   {
    "duration": 6,
    "start_time": "2024-10-10T15:24:46.658Z"
   },
   {
    "duration": 380,
    "start_time": "2024-10-10T15:24:46.666Z"
   },
   {
    "duration": 630,
    "start_time": "2024-10-10T15:24:47.048Z"
   },
   {
    "duration": 459,
    "start_time": "2024-10-10T15:24:47.680Z"
   },
   {
    "duration": 17,
    "start_time": "2024-10-10T15:24:48.140Z"
   },
   {
    "duration": 11,
    "start_time": "2024-10-10T15:24:48.160Z"
   },
   {
    "duration": 91,
    "start_time": "2024-10-10T15:24:48.173Z"
   },
   {
    "duration": 48,
    "start_time": "2024-10-10T15:24:48.266Z"
   },
   {
    "duration": 1575,
    "start_time": "2024-10-10T15:24:48.315Z"
   },
   {
    "duration": 4,
    "start_time": "2024-10-10T15:24:49.891Z"
   },
   {
    "duration": 10,
    "start_time": "2024-10-10T15:24:49.896Z"
   },
   {
    "duration": 15,
    "start_time": "2024-10-10T15:24:49.907Z"
   },
   {
    "duration": 6,
    "start_time": "2024-10-10T15:24:49.923Z"
   },
   {
    "duration": 12,
    "start_time": "2024-10-10T15:24:49.930Z"
   },
   {
    "duration": 12,
    "start_time": "2024-10-10T15:24:49.943Z"
   },
   {
    "duration": 1560,
    "start_time": "2024-10-10T15:24:49.956Z"
   },
   {
    "duration": 14,
    "start_time": "2024-10-10T15:24:51.517Z"
   },
   {
    "duration": 39,
    "start_time": "2024-10-10T15:24:51.532Z"
   },
   {
    "duration": 7393,
    "start_time": "2024-10-10T15:24:51.572Z"
   },
   {
    "duration": 331,
    "start_time": "2024-10-10T15:24:58.967Z"
   },
   {
    "duration": 261,
    "start_time": "2024-10-10T15:24:59.299Z"
   },
   {
    "duration": 390,
    "start_time": "2024-10-10T16:27:22.325Z"
   },
   {
    "duration": 374,
    "start_time": "2024-10-10T16:28:05.263Z"
   },
   {
    "duration": 422,
    "start_time": "2024-10-10T16:28:14.616Z"
   },
   {
    "duration": 80,
    "start_time": "2024-10-10T16:28:37.225Z"
   },
   {
    "duration": 207,
    "start_time": "2024-10-10T16:28:43.060Z"
   },
   {
    "duration": 59,
    "start_time": "2024-10-10T16:29:13.775Z"
   },
   {
    "duration": 205,
    "start_time": "2024-10-10T16:29:17.246Z"
   },
   {
    "duration": 380,
    "start_time": "2024-10-10T16:30:34.290Z"
   },
   {
    "duration": 9,
    "start_time": "2024-10-10T16:31:47.265Z"
   },
   {
    "duration": 305,
    "start_time": "2024-10-10T16:32:23.773Z"
   },
   {
    "duration": 269,
    "start_time": "2024-10-10T16:32:54.460Z"
   },
   {
    "duration": 381,
    "start_time": "2024-10-10T16:33:18.982Z"
   },
   {
    "duration": 496,
    "start_time": "2024-10-10T16:34:11.677Z"
   },
   {
    "duration": 21180,
    "start_time": "2024-10-10T16:34:19.582Z"
   },
   {
    "duration": 107,
    "start_time": "2024-10-10T16:34:40.765Z"
   },
   {
    "duration": 30,
    "start_time": "2024-10-10T16:34:40.873Z"
   },
   {
    "duration": 3,
    "start_time": "2024-10-10T16:34:40.904Z"
   },
   {
    "duration": 3,
    "start_time": "2024-10-10T16:34:40.909Z"
   },
   {
    "duration": 7,
    "start_time": "2024-10-10T16:34:40.914Z"
   },
   {
    "duration": 5,
    "start_time": "2024-10-10T16:34:40.922Z"
   },
   {
    "duration": 7,
    "start_time": "2024-10-10T16:34:40.928Z"
   },
   {
    "duration": 6,
    "start_time": "2024-10-10T16:34:40.936Z"
   },
   {
    "duration": 15,
    "start_time": "2024-10-10T16:34:40.943Z"
   },
   {
    "duration": 9,
    "start_time": "2024-10-10T16:34:40.959Z"
   },
   {
    "duration": 9,
    "start_time": "2024-10-10T16:34:40.969Z"
   },
   {
    "duration": 35,
    "start_time": "2024-10-10T16:34:40.980Z"
   },
   {
    "duration": 4,
    "start_time": "2024-10-10T16:34:41.018Z"
   },
   {
    "duration": 8,
    "start_time": "2024-10-10T16:34:41.024Z"
   },
   {
    "duration": 5,
    "start_time": "2024-10-10T16:34:41.038Z"
   },
   {
    "duration": 943,
    "start_time": "2024-10-10T16:34:41.045Z"
   },
   {
    "duration": 258,
    "start_time": "2024-10-10T16:34:41.989Z"
   },
   {
    "duration": 228,
    "start_time": "2024-10-10T16:34:42.248Z"
   },
   {
    "duration": 2281,
    "start_time": "2024-10-10T16:34:42.478Z"
   },
   {
    "duration": 508,
    "start_time": "2024-10-10T16:34:44.761Z"
   },
   {
    "duration": 5,
    "start_time": "2024-10-10T16:34:45.270Z"
   },
   {
    "duration": 301,
    "start_time": "2024-10-10T16:34:45.276Z"
   },
   {
    "duration": 686,
    "start_time": "2024-10-10T16:34:45.579Z"
   },
   {
    "duration": 460,
    "start_time": "2024-10-10T16:34:46.267Z"
   },
   {
    "duration": 16,
    "start_time": "2024-10-10T16:34:46.729Z"
   },
   {
    "duration": 25,
    "start_time": "2024-10-10T16:34:46.746Z"
   },
   {
    "duration": 46,
    "start_time": "2024-10-10T16:34:46.772Z"
   },
   {
    "duration": 28,
    "start_time": "2024-10-10T16:34:46.820Z"
   },
   {
    "duration": 1420,
    "start_time": "2024-10-10T16:34:46.849Z"
   },
   {
    "duration": 3,
    "start_time": "2024-10-10T16:34:48.271Z"
   },
   {
    "duration": 28,
    "start_time": "2024-10-10T16:34:48.275Z"
   },
   {
    "duration": 5,
    "start_time": "2024-10-10T16:34:48.304Z"
   },
   {
    "duration": 19,
    "start_time": "2024-10-10T16:34:48.310Z"
   },
   {
    "duration": 13,
    "start_time": "2024-10-10T16:34:48.330Z"
   },
   {
    "duration": 21,
    "start_time": "2024-10-10T16:34:48.344Z"
   },
   {
    "duration": 1508,
    "start_time": "2024-10-10T16:34:48.366Z"
   },
   {
    "duration": 12,
    "start_time": "2024-10-10T16:34:49.875Z"
   },
   {
    "duration": 46,
    "start_time": "2024-10-10T16:34:49.888Z"
   },
   {
    "duration": 7146,
    "start_time": "2024-10-10T16:34:49.936Z"
   },
   {
    "duration": 312,
    "start_time": "2024-10-10T16:34:57.085Z"
   },
   {
    "duration": 271,
    "start_time": "2024-10-10T16:34:57.398Z"
   },
   {
    "duration": 292,
    "start_time": "2024-10-10T16:36:44.575Z"
   },
   {
    "duration": 496,
    "start_time": "2024-10-10T16:38:02.561Z"
   },
   {
    "duration": 2310,
    "start_time": "2024-10-10T16:41:35.956Z"
   },
   {
    "duration": 4,
    "start_time": "2024-10-10T16:44:42.912Z"
   },
   {
    "duration": 6,
    "start_time": "2024-10-10T16:44:46.073Z"
   },
   {
    "duration": 5,
    "start_time": "2024-10-10T17:09:27.748Z"
   },
   {
    "duration": 7,
    "start_time": "2024-10-10T17:09:29.827Z"
   },
   {
    "duration": 3,
    "start_time": "2024-10-10T17:13:46.944Z"
   },
   {
    "duration": 550,
    "start_time": "2024-10-10T17:13:52.243Z"
   },
   {
    "duration": 8,
    "start_time": "2024-10-10T17:16:05.330Z"
   },
   {
    "duration": 4,
    "start_time": "2024-10-10T17:16:07.635Z"
   },
   {
    "duration": 3,
    "start_time": "2024-10-10T17:16:10.066Z"
   },
   {
    "duration": 2255,
    "start_time": "2024-10-10T17:16:12.852Z"
   },
   {
    "duration": 13,
    "start_time": "2024-10-10T17:16:29.848Z"
   },
   {
    "duration": 9,
    "start_time": "2024-10-10T17:29:17.761Z"
   },
   {
    "duration": 20705,
    "start_time": "2024-10-10T17:29:22.842Z"
   },
   {
    "duration": 107,
    "start_time": "2024-10-10T17:29:43.550Z"
   },
   {
    "duration": 28,
    "start_time": "2024-10-10T17:29:43.658Z"
   },
   {
    "duration": 3,
    "start_time": "2024-10-10T17:29:43.687Z"
   },
   {
    "duration": 3,
    "start_time": "2024-10-10T17:29:43.693Z"
   },
   {
    "duration": 20,
    "start_time": "2024-10-10T17:29:43.697Z"
   },
   {
    "duration": 7,
    "start_time": "2024-10-10T17:29:43.718Z"
   },
   {
    "duration": 5,
    "start_time": "2024-10-10T17:29:43.726Z"
   },
   {
    "duration": 4,
    "start_time": "2024-10-10T17:29:43.733Z"
   },
   {
    "duration": 7,
    "start_time": "2024-10-10T17:29:43.738Z"
   },
   {
    "duration": 9,
    "start_time": "2024-10-10T17:29:43.747Z"
   },
   {
    "duration": 8,
    "start_time": "2024-10-10T17:29:43.758Z"
   },
   {
    "duration": 5,
    "start_time": "2024-10-10T17:29:43.767Z"
   },
   {
    "duration": 4,
    "start_time": "2024-10-10T17:29:43.811Z"
   },
   {
    "duration": 6,
    "start_time": "2024-10-10T17:29:43.817Z"
   },
   {
    "duration": 2,
    "start_time": "2024-10-10T17:29:43.825Z"
   },
   {
    "duration": 942,
    "start_time": "2024-10-10T17:29:43.829Z"
   },
   {
    "duration": 191,
    "start_time": "2024-10-10T17:29:44.773Z"
   },
   {
    "duration": 271,
    "start_time": "2024-10-10T17:29:44.966Z"
   },
   {
    "duration": 2444,
    "start_time": "2024-10-10T17:29:45.238Z"
   },
   {
    "duration": 483,
    "start_time": "2024-10-10T17:29:47.683Z"
   },
   {
    "duration": 5,
    "start_time": "2024-10-10T17:29:48.167Z"
   },
   {
    "duration": 294,
    "start_time": "2024-10-10T17:29:48.173Z"
   },
   {
    "duration": 500,
    "start_time": "2024-10-10T17:29:48.469Z"
   },
   {
    "duration": 475,
    "start_time": "2024-10-10T17:29:48.971Z"
   },
   {
    "duration": 16,
    "start_time": "2024-10-10T17:29:49.447Z"
   },
   {
    "duration": 9,
    "start_time": "2024-10-10T17:29:49.464Z"
   },
   {
    "duration": 68,
    "start_time": "2024-10-10T17:29:49.474Z"
   },
   {
    "duration": 27,
    "start_time": "2024-10-10T17:29:49.543Z"
   },
   {
    "duration": 1476,
    "start_time": "2024-10-10T17:29:49.571Z"
   },
   {
    "duration": 3,
    "start_time": "2024-10-10T17:29:51.048Z"
   },
   {
    "duration": 7,
    "start_time": "2024-10-10T17:29:51.052Z"
   },
   {
    "duration": 7,
    "start_time": "2024-10-10T17:29:51.060Z"
   },
   {
    "duration": 37,
    "start_time": "2024-10-10T17:29:51.068Z"
   },
   {
    "duration": 25,
    "start_time": "2024-10-10T17:29:51.106Z"
   },
   {
    "duration": 62,
    "start_time": "2024-10-10T17:29:51.132Z"
   },
   {
    "duration": 2212,
    "start_time": "2024-10-10T17:29:51.196Z"
   },
   {
    "duration": 13,
    "start_time": "2024-10-10T17:29:53.412Z"
   },
   {
    "duration": 82,
    "start_time": "2024-10-10T17:29:53.426Z"
   },
   {
    "duration": 66,
    "start_time": "2024-10-10T17:29:53.510Z"
   },
   {
    "duration": 6688,
    "start_time": "2024-10-10T17:29:53.579Z"
   },
   {
    "duration": 329,
    "start_time": "2024-10-10T17:30:00.269Z"
   },
   {
    "duration": 267,
    "start_time": "2024-10-10T17:30:00.600Z"
   },
   {
    "duration": 7,
    "start_time": "2024-10-10T17:30:37.881Z"
   },
   {
    "duration": 6230,
    "start_time": "2024-10-10T17:43:24.584Z"
   },
   {
    "duration": 6732,
    "start_time": "2024-10-10T17:44:45.015Z"
   },
   {
    "duration": 6444,
    "start_time": "2024-10-10T17:44:55.611Z"
   },
   {
    "duration": 333,
    "start_time": "2024-10-10T18:08:32.286Z"
   },
   {
    "duration": 273,
    "start_time": "2024-10-10T18:09:13.240Z"
   },
   {
    "duration": 123564,
    "start_time": "2024-10-11T15:56:01.434Z"
   },
   {
    "duration": 443,
    "start_time": "2024-10-11T15:58:05.000Z"
   },
   {
    "duration": 55,
    "start_time": "2024-10-11T15:58:05.445Z"
   },
   {
    "duration": 3,
    "start_time": "2024-10-11T15:58:05.502Z"
   },
   {
    "duration": 39,
    "start_time": "2024-10-11T15:58:05.507Z"
   },
   {
    "duration": 17,
    "start_time": "2024-10-11T15:58:05.548Z"
   },
   {
    "duration": 11,
    "start_time": "2024-10-11T15:58:05.567Z"
   },
   {
    "duration": 7,
    "start_time": "2024-10-11T15:58:05.579Z"
   },
   {
    "duration": 27,
    "start_time": "2024-10-11T15:58:05.587Z"
   },
   {
    "duration": 23,
    "start_time": "2024-10-11T15:58:05.616Z"
   },
   {
    "duration": 45,
    "start_time": "2024-10-11T15:58:05.640Z"
   },
   {
    "duration": 27,
    "start_time": "2024-10-11T15:58:05.686Z"
   },
   {
    "duration": 23,
    "start_time": "2024-10-11T15:58:05.715Z"
   },
   {
    "duration": 43,
    "start_time": "2024-10-11T15:58:05.740Z"
   },
   {
    "duration": 25,
    "start_time": "2024-10-11T15:58:05.785Z"
   },
   {
    "duration": 25,
    "start_time": "2024-10-11T15:58:05.812Z"
   },
   {
    "duration": 1072,
    "start_time": "2024-10-11T15:58:05.839Z"
   },
   {
    "duration": 245,
    "start_time": "2024-10-11T15:58:06.913Z"
   },
   {
    "duration": 278,
    "start_time": "2024-10-11T15:58:07.160Z"
   },
   {
    "duration": 2783,
    "start_time": "2024-10-11T15:58:07.439Z"
   },
   {
    "duration": 546,
    "start_time": "2024-10-11T15:58:10.224Z"
   },
   {
    "duration": 6,
    "start_time": "2024-10-11T15:58:10.772Z"
   },
   {
    "duration": 321,
    "start_time": "2024-10-11T15:58:10.779Z"
   },
   {
    "duration": 631,
    "start_time": "2024-10-11T15:58:11.102Z"
   },
   {
    "duration": 496,
    "start_time": "2024-10-11T15:58:11.734Z"
   },
   {
    "duration": 21,
    "start_time": "2024-10-11T15:58:12.232Z"
   },
   {
    "duration": 39,
    "start_time": "2024-10-11T15:58:12.255Z"
   },
   {
    "duration": 49,
    "start_time": "2024-10-11T15:58:12.298Z"
   },
   {
    "duration": 58,
    "start_time": "2024-10-11T15:58:12.348Z"
   },
   {
    "duration": 1914,
    "start_time": "2024-10-11T15:58:12.408Z"
   },
   {
    "duration": 5,
    "start_time": "2024-10-11T15:58:14.324Z"
   },
   {
    "duration": 10,
    "start_time": "2024-10-11T15:58:14.331Z"
   },
   {
    "duration": 3,
    "start_time": "2024-10-11T15:58:14.343Z"
   },
   {
    "duration": 6,
    "start_time": "2024-10-11T15:58:14.348Z"
   },
   {
    "duration": 92,
    "start_time": "2024-10-11T15:58:14.356Z"
   },
   {
    "duration": 6,
    "start_time": "2024-10-11T15:58:14.450Z"
   },
   {
    "duration": 2817,
    "start_time": "2024-10-11T15:58:14.457Z"
   },
   {
    "duration": 27,
    "start_time": "2024-10-11T15:58:17.275Z"
   },
   {
    "duration": 23,
    "start_time": "2024-10-11T15:58:17.304Z"
   },
   {
    "duration": 47,
    "start_time": "2024-10-11T15:58:17.328Z"
   },
   {
    "duration": 7528,
    "start_time": "2024-10-11T15:58:17.376Z"
   },
   {
    "duration": 340,
    "start_time": "2024-10-11T15:58:24.906Z"
   },
   {
    "duration": 352,
    "start_time": "2024-10-11T15:58:25.247Z"
   },
   {
    "duration": 55115,
    "start_time": "2024-10-12T17:28:14.931Z"
   },
   {
    "duration": 435,
    "start_time": "2024-10-12T17:29:10.049Z"
   },
   {
    "duration": 42,
    "start_time": "2024-10-12T17:29:10.486Z"
   },
   {
    "duration": 3,
    "start_time": "2024-10-12T17:29:10.531Z"
   },
   {
    "duration": 6,
    "start_time": "2024-10-12T17:29:10.536Z"
   },
   {
    "duration": 13,
    "start_time": "2024-10-12T17:29:10.544Z"
   },
   {
    "duration": 9,
    "start_time": "2024-10-12T17:29:10.559Z"
   },
   {
    "duration": 9,
    "start_time": "2024-10-12T17:29:10.570Z"
   },
   {
    "duration": 47,
    "start_time": "2024-10-12T17:29:10.581Z"
   },
   {
    "duration": 5,
    "start_time": "2024-10-12T17:29:10.632Z"
   },
   {
    "duration": 14,
    "start_time": "2024-10-12T17:29:10.638Z"
   },
   {
    "duration": 13,
    "start_time": "2024-10-12T17:29:10.655Z"
   },
   {
    "duration": 7,
    "start_time": "2024-10-12T17:29:10.670Z"
   },
   {
    "duration": 42,
    "start_time": "2024-10-12T17:29:10.679Z"
   },
   {
    "duration": 13,
    "start_time": "2024-10-12T17:29:10.723Z"
   },
   {
    "duration": 6,
    "start_time": "2024-10-12T17:29:10.739Z"
   },
   {
    "duration": 1167,
    "start_time": "2024-10-12T17:29:10.747Z"
   },
   {
    "duration": 277,
    "start_time": "2024-10-12T17:29:11.915Z"
   },
   {
    "duration": 295,
    "start_time": "2024-10-12T17:29:12.193Z"
   },
   {
    "duration": 2972,
    "start_time": "2024-10-12T17:29:12.490Z"
   },
   {
    "duration": 633,
    "start_time": "2024-10-12T17:29:15.464Z"
   },
   {
    "duration": 6,
    "start_time": "2024-10-12T17:29:16.099Z"
   },
   {
    "duration": 329,
    "start_time": "2024-10-12T17:29:16.106Z"
   },
   {
    "duration": 670,
    "start_time": "2024-10-12T17:29:16.437Z"
   },
   {
    "duration": 572,
    "start_time": "2024-10-12T17:29:17.109Z"
   },
   {
    "duration": 18,
    "start_time": "2024-10-12T17:29:17.682Z"
   },
   {
    "duration": 26,
    "start_time": "2024-10-12T17:29:17.702Z"
   },
   {
    "duration": 60,
    "start_time": "2024-10-12T17:29:17.738Z"
   },
   {
    "duration": 65,
    "start_time": "2024-10-12T17:29:17.800Z"
   },
   {
    "duration": 2138,
    "start_time": "2024-10-12T17:29:17.867Z"
   },
   {
    "duration": 4,
    "start_time": "2024-10-12T17:29:20.007Z"
   },
   {
    "duration": 26,
    "start_time": "2024-10-12T17:29:20.012Z"
   },
   {
    "duration": 8,
    "start_time": "2024-10-12T17:29:20.039Z"
   },
   {
    "duration": 14,
    "start_time": "2024-10-12T17:29:20.049Z"
   },
   {
    "duration": 53,
    "start_time": "2024-10-12T17:29:20.064Z"
   },
   {
    "duration": 118,
    "start_time": "2024-10-12T17:29:20.119Z"
   },
   {
    "duration": 4474,
    "start_time": "2024-10-12T17:29:20.240Z"
   },
   {
    "duration": 25,
    "start_time": "2024-10-12T17:29:24.715Z"
   },
   {
    "duration": 15,
    "start_time": "2024-10-12T17:29:24.742Z"
   },
   {
    "duration": 42,
    "start_time": "2024-10-12T17:29:24.759Z"
   },
   {
    "duration": 8750,
    "start_time": "2024-10-12T17:29:24.822Z"
   },
   {
    "duration": 394,
    "start_time": "2024-10-12T17:29:33.573Z"
   },
   {
    "duration": 344,
    "start_time": "2024-10-12T17:29:33.969Z"
   },
   {
    "duration": 51352,
    "start_time": "2024-10-14T11:42:40.876Z"
   },
   {
    "duration": 451,
    "start_time": "2024-10-14T11:43:32.231Z"
   },
   {
    "duration": 75,
    "start_time": "2024-10-14T11:43:32.685Z"
   },
   {
    "duration": 3,
    "start_time": "2024-10-14T11:43:32.762Z"
   },
   {
    "duration": 10,
    "start_time": "2024-10-14T11:43:32.767Z"
   },
   {
    "duration": 12,
    "start_time": "2024-10-14T11:43:32.779Z"
   },
   {
    "duration": 38,
    "start_time": "2024-10-14T11:43:32.792Z"
   },
   {
    "duration": 78,
    "start_time": "2024-10-14T11:43:32.832Z"
   },
   {
    "duration": 47,
    "start_time": "2024-10-14T11:43:32.912Z"
   },
   {
    "duration": 5,
    "start_time": "2024-10-14T11:43:32.962Z"
   },
   {
    "duration": 12,
    "start_time": "2024-10-14T11:43:32.968Z"
   },
   {
    "duration": 11,
    "start_time": "2024-10-14T11:43:32.981Z"
   },
   {
    "duration": 20,
    "start_time": "2024-10-14T11:43:32.994Z"
   },
   {
    "duration": 7,
    "start_time": "2024-10-14T11:43:33.015Z"
   },
   {
    "duration": 28,
    "start_time": "2024-10-14T11:43:33.024Z"
   },
   {
    "duration": 4,
    "start_time": "2024-10-14T11:43:33.054Z"
   },
   {
    "duration": 1010,
    "start_time": "2024-10-14T11:43:33.060Z"
   },
   {
    "duration": 241,
    "start_time": "2024-10-14T11:43:34.071Z"
   },
   {
    "duration": 206,
    "start_time": "2024-10-14T11:43:34.313Z"
   },
   {
    "duration": 2769,
    "start_time": "2024-10-14T11:43:34.521Z"
   },
   {
    "duration": 527,
    "start_time": "2024-10-14T11:43:37.291Z"
   },
   {
    "duration": 5,
    "start_time": "2024-10-14T11:43:37.820Z"
   },
   {
    "duration": 312,
    "start_time": "2024-10-14T11:43:37.827Z"
   },
   {
    "duration": 41135,
    "start_time": "2024-10-14T11:46:16.217Z"
   },
   {
    "duration": 584,
    "start_time": "2024-10-14T11:46:59.178Z"
   },
   {
    "duration": 55,
    "start_time": "2024-10-14T16:51:56.136Z"
   },
   {
    "duration": 51830,
    "start_time": "2024-10-14T17:30:08.473Z"
   },
   {
    "duration": 385,
    "start_time": "2024-10-14T17:31:00.306Z"
   },
   {
    "duration": 44,
    "start_time": "2024-10-14T17:31:00.693Z"
   },
   {
    "duration": 32,
    "start_time": "2024-10-14T17:31:00.740Z"
   },
   {
    "duration": 14,
    "start_time": "2024-10-14T17:31:00.782Z"
   },
   {
    "duration": 16,
    "start_time": "2024-10-14T17:31:00.798Z"
   },
   {
    "duration": 39,
    "start_time": "2024-10-14T17:31:00.816Z"
   },
   {
    "duration": 25,
    "start_time": "2024-10-14T17:31:00.857Z"
   },
   {
    "duration": 7,
    "start_time": "2024-10-14T17:31:00.884Z"
   },
   {
    "duration": 5,
    "start_time": "2024-10-14T17:31:00.895Z"
   },
   {
    "duration": 27,
    "start_time": "2024-10-14T17:31:00.901Z"
   },
   {
    "duration": 10,
    "start_time": "2024-10-14T17:31:00.929Z"
   },
   {
    "duration": 5,
    "start_time": "2024-10-14T17:31:00.941Z"
   },
   {
    "duration": 41,
    "start_time": "2024-10-14T17:31:00.948Z"
   },
   {
    "duration": 12,
    "start_time": "2024-10-14T17:31:00.990Z"
   },
   {
    "duration": 95,
    "start_time": "2024-10-14T17:31:01.003Z"
   },
   {
    "duration": 985,
    "start_time": "2024-10-14T17:31:01.100Z"
   },
   {
    "duration": 246,
    "start_time": "2024-10-14T17:31:02.087Z"
   },
   {
    "duration": 270,
    "start_time": "2024-10-14T17:31:02.335Z"
   },
   {
    "duration": 2793,
    "start_time": "2024-10-14T17:31:02.606Z"
   },
   {
    "duration": 1903,
    "start_time": "2024-10-14T17:31:05.400Z"
   },
   {
    "duration": 6,
    "start_time": "2024-10-14T17:31:07.305Z"
   },
   {
    "duration": 67,
    "start_time": "2024-10-14T17:31:07.312Z"
   },
   {
    "duration": 0,
    "start_time": "2024-10-14T17:31:07.382Z"
   },
   {
    "duration": 0,
    "start_time": "2024-10-14T17:31:07.384Z"
   },
   {
    "duration": 0,
    "start_time": "2024-10-14T17:31:07.387Z"
   },
   {
    "duration": 0,
    "start_time": "2024-10-14T17:31:07.388Z"
   },
   {
    "duration": 0,
    "start_time": "2024-10-14T17:31:07.389Z"
   },
   {
    "duration": 0,
    "start_time": "2024-10-14T17:31:07.390Z"
   },
   {
    "duration": 0,
    "start_time": "2024-10-14T17:31:07.391Z"
   },
   {
    "duration": 0,
    "start_time": "2024-10-14T17:31:07.392Z"
   },
   {
    "duration": 0,
    "start_time": "2024-10-14T17:31:07.393Z"
   },
   {
    "duration": 0,
    "start_time": "2024-10-14T17:31:07.394Z"
   },
   {
    "duration": 0,
    "start_time": "2024-10-14T17:31:07.395Z"
   },
   {
    "duration": 0,
    "start_time": "2024-10-14T17:31:07.396Z"
   },
   {
    "duration": 0,
    "start_time": "2024-10-14T17:31:07.398Z"
   },
   {
    "duration": 0,
    "start_time": "2024-10-14T17:31:07.399Z"
   },
   {
    "duration": 0,
    "start_time": "2024-10-14T17:31:07.400Z"
   },
   {
    "duration": 0,
    "start_time": "2024-10-14T17:31:07.401Z"
   },
   {
    "duration": 0,
    "start_time": "2024-10-14T17:31:07.402Z"
   },
   {
    "duration": 0,
    "start_time": "2024-10-14T17:31:07.403Z"
   },
   {
    "duration": 0,
    "start_time": "2024-10-14T17:31:07.404Z"
   },
   {
    "duration": 0,
    "start_time": "2024-10-14T17:31:07.405Z"
   },
   {
    "duration": 67,
    "start_time": "2024-10-14T17:32:11.376Z"
   },
   {
    "duration": 877,
    "start_time": "2024-10-14T17:32:14.948Z"
   },
   {
    "duration": 594,
    "start_time": "2024-10-14T17:32:36.333Z"
   },
   {
    "duration": 23540,
    "start_time": "2024-10-14T17:32:44.055Z"
   },
   {
    "duration": 121,
    "start_time": "2024-10-14T17:33:07.597Z"
   },
   {
    "duration": 49,
    "start_time": "2024-10-14T17:33:07.719Z"
   },
   {
    "duration": 10,
    "start_time": "2024-10-14T17:33:07.772Z"
   },
   {
    "duration": 5,
    "start_time": "2024-10-14T17:33:07.784Z"
   },
   {
    "duration": 9,
    "start_time": "2024-10-14T17:33:07.790Z"
   },
   {
    "duration": 21,
    "start_time": "2024-10-14T17:33:07.801Z"
   },
   {
    "duration": 8,
    "start_time": "2024-10-14T17:33:07.824Z"
   },
   {
    "duration": 7,
    "start_time": "2024-10-14T17:33:07.834Z"
   },
   {
    "duration": 33,
    "start_time": "2024-10-14T17:33:07.844Z"
   },
   {
    "duration": 12,
    "start_time": "2024-10-14T17:33:07.880Z"
   },
   {
    "duration": 10,
    "start_time": "2024-10-14T17:33:07.894Z"
   },
   {
    "duration": 7,
    "start_time": "2024-10-14T17:33:07.905Z"
   },
   {
    "duration": 8,
    "start_time": "2024-10-14T17:33:07.913Z"
   },
   {
    "duration": 8,
    "start_time": "2024-10-14T17:33:07.923Z"
   },
   {
    "duration": 43,
    "start_time": "2024-10-14T17:33:07.933Z"
   },
   {
    "duration": 996,
    "start_time": "2024-10-14T17:33:07.979Z"
   },
   {
    "duration": 246,
    "start_time": "2024-10-14T17:33:08.978Z"
   },
   {
    "duration": 207,
    "start_time": "2024-10-14T17:33:09.226Z"
   },
   {
    "duration": 2866,
    "start_time": "2024-10-14T17:33:09.435Z"
   },
   {
    "duration": 4998,
    "start_time": "2024-10-14T17:33:12.302Z"
   },
   {
    "duration": 5,
    "start_time": "2024-10-14T17:33:17.302Z"
   },
   {
    "duration": 798,
    "start_time": "2024-10-14T17:33:17.309Z"
   },
   {
    "duration": 613,
    "start_time": "2024-10-14T17:33:18.109Z"
   },
   {
    "duration": 554,
    "start_time": "2024-10-14T17:33:18.724Z"
   },
   {
    "duration": 20,
    "start_time": "2024-10-14T17:33:19.280Z"
   },
   {
    "duration": 12,
    "start_time": "2024-10-14T17:33:19.301Z"
   },
   {
    "duration": 72,
    "start_time": "2024-10-14T17:33:19.316Z"
   },
   {
    "duration": 35,
    "start_time": "2024-10-14T17:33:19.389Z"
   },
   {
    "duration": 1927,
    "start_time": "2024-10-14T17:33:19.425Z"
   },
   {
    "duration": 4,
    "start_time": "2024-10-14T17:33:21.353Z"
   },
   {
    "duration": 19,
    "start_time": "2024-10-14T17:33:21.359Z"
   },
   {
    "duration": 5,
    "start_time": "2024-10-14T17:33:21.382Z"
   },
   {
    "duration": 6,
    "start_time": "2024-10-14T17:33:21.388Z"
   },
   {
    "duration": 13,
    "start_time": "2024-10-14T17:33:21.395Z"
   },
   {
    "duration": 15,
    "start_time": "2024-10-14T17:33:21.409Z"
   },
   {
    "duration": 2885,
    "start_time": "2024-10-14T17:33:21.425Z"
   },
   {
    "duration": 14,
    "start_time": "2024-10-14T17:33:24.312Z"
   },
   {
    "duration": 8,
    "start_time": "2024-10-14T17:33:24.327Z"
   },
   {
    "duration": 66,
    "start_time": "2024-10-14T17:33:24.337Z"
   },
   {
    "duration": 6611,
    "start_time": "2024-10-14T17:33:24.405Z"
   },
   {
    "duration": 378,
    "start_time": "2024-10-14T17:33:31.017Z"
   },
   {
    "duration": 185,
    "start_time": "2024-10-14T17:33:31.397Z"
   },
   {
    "duration": 332,
    "start_time": "2024-10-14T17:39:25.611Z"
   },
   {
    "duration": 356,
    "start_time": "2024-10-14T17:41:11.222Z"
   },
   {
    "duration": 7594,
    "start_time": "2024-10-14T17:44:48.520Z"
   },
   {
    "duration": 54,
    "start_time": "2024-10-14T18:10:01.743Z"
   },
   {
    "duration": 22,
    "start_time": "2024-10-14T18:10:15.491Z"
   },
   {
    "duration": 809,
    "start_time": "2024-10-14T18:10:26.719Z"
   },
   {
    "duration": 25522,
    "start_time": "2024-10-14T18:13:49.516Z"
   },
   {
    "duration": 164,
    "start_time": "2024-10-14T18:14:15.040Z"
   },
   {
    "duration": 40,
    "start_time": "2024-10-14T18:14:15.205Z"
   },
   {
    "duration": 35,
    "start_time": "2024-10-14T18:14:15.246Z"
   },
   {
    "duration": 7,
    "start_time": "2024-10-14T18:14:15.290Z"
   },
   {
    "duration": 17,
    "start_time": "2024-10-14T18:14:15.300Z"
   },
   {
    "duration": 9,
    "start_time": "2024-10-14T18:14:15.319Z"
   },
   {
    "duration": 13,
    "start_time": "2024-10-14T18:14:15.330Z"
   },
   {
    "duration": 16,
    "start_time": "2024-10-14T18:14:15.345Z"
   },
   {
    "duration": 9,
    "start_time": "2024-10-14T18:14:15.363Z"
   },
   {
    "duration": 14,
    "start_time": "2024-10-14T18:14:15.379Z"
   },
   {
    "duration": 14,
    "start_time": "2024-10-14T18:14:15.397Z"
   },
   {
    "duration": 6,
    "start_time": "2024-10-14T18:14:15.412Z"
   },
   {
    "duration": 7,
    "start_time": "2024-10-14T18:14:15.420Z"
   },
   {
    "duration": 41,
    "start_time": "2024-10-14T18:14:15.428Z"
   },
   {
    "duration": 12,
    "start_time": "2024-10-14T18:14:15.470Z"
   },
   {
    "duration": 1056,
    "start_time": "2024-10-14T18:14:15.490Z"
   },
   {
    "duration": 294,
    "start_time": "2024-10-14T18:14:16.548Z"
   },
   {
    "duration": 286,
    "start_time": "2024-10-14T18:14:16.844Z"
   },
   {
    "duration": 2888,
    "start_time": "2024-10-14T18:14:17.131Z"
   },
   {
    "duration": 5664,
    "start_time": "2024-10-14T18:14:20.021Z"
   },
   {
    "duration": 6,
    "start_time": "2024-10-14T18:14:25.691Z"
   },
   {
    "duration": 835,
    "start_time": "2024-10-14T18:14:25.699Z"
   },
   {
    "duration": 706,
    "start_time": "2024-10-14T18:14:26.536Z"
   },
   {
    "duration": 2230,
    "start_time": "2024-10-14T18:14:27.243Z"
   },
   {
    "duration": 27,
    "start_time": "2024-10-14T18:14:29.476Z"
   },
   {
    "duration": 418,
    "start_time": "2024-10-14T18:14:29.505Z"
   },
   {
    "duration": 700,
    "start_time": "2024-10-14T18:14:29.924Z"
   },
   {
    "duration": 296,
    "start_time": "2024-10-14T18:14:30.626Z"
   },
   {
    "duration": 2464,
    "start_time": "2024-10-14T18:14:30.924Z"
   },
   {
    "duration": 6,
    "start_time": "2024-10-14T18:14:33.390Z"
   },
   {
    "duration": 3889,
    "start_time": "2024-10-14T18:14:33.397Z"
   },
   {
    "duration": 550,
    "start_time": "2024-10-14T18:14:37.289Z"
   },
   {
    "duration": 84,
    "start_time": "2024-10-14T18:14:37.841Z"
   },
   {
    "duration": 18,
    "start_time": "2024-10-14T18:14:37.927Z"
   },
   {
    "duration": 29,
    "start_time": "2024-10-14T18:14:37.947Z"
   },
   {
    "duration": 3360,
    "start_time": "2024-10-14T18:14:37.980Z"
   },
   {
    "duration": 32,
    "start_time": "2024-10-14T18:14:41.341Z"
   },
   {
    "duration": 24,
    "start_time": "2024-10-14T18:14:41.377Z"
   },
   {
    "duration": 59,
    "start_time": "2024-10-14T18:14:41.403Z"
   },
   {
    "duration": 8707,
    "start_time": "2024-10-14T18:14:41.466Z"
   },
   {
    "duration": 352,
    "start_time": "2024-10-14T18:14:50.175Z"
   },
   {
    "duration": 360,
    "start_time": "2024-10-14T18:14:50.529Z"
   },
   {
    "duration": 48,
    "start_time": "2024-11-17T16:32:40.551Z"
   },
   {
    "duration": 22477,
    "start_time": "2024-11-17T16:35:59.029Z"
   },
   {
    "duration": 516,
    "start_time": "2024-11-17T16:36:21.507Z"
   },
   {
    "duration": 36,
    "start_time": "2024-11-17T16:36:22.024Z"
   },
   {
    "duration": 4,
    "start_time": "2024-11-17T16:36:22.061Z"
   },
   {
    "duration": 6,
    "start_time": "2024-11-17T16:36:22.066Z"
   },
   {
    "duration": 9,
    "start_time": "2024-11-17T16:36:22.073Z"
   },
   {
    "duration": 40,
    "start_time": "2024-11-17T16:36:22.083Z"
   },
   {
    "duration": 5,
    "start_time": "2024-11-17T16:36:22.125Z"
   },
   {
    "duration": 5,
    "start_time": "2024-11-17T16:36:22.131Z"
   },
   {
    "duration": 4,
    "start_time": "2024-11-17T16:36:22.139Z"
   },
   {
    "duration": 9,
    "start_time": "2024-11-17T16:36:22.144Z"
   },
   {
    "duration": 8,
    "start_time": "2024-11-17T16:36:22.154Z"
   },
   {
    "duration": 5,
    "start_time": "2024-11-17T16:36:22.163Z"
   },
   {
    "duration": 7,
    "start_time": "2024-11-17T16:36:22.169Z"
   },
   {
    "duration": 46,
    "start_time": "2024-11-17T16:36:22.177Z"
   },
   {
    "duration": 4,
    "start_time": "2024-11-17T16:36:22.224Z"
   },
   {
    "duration": 967,
    "start_time": "2024-11-17T16:36:22.229Z"
   },
   {
    "duration": 258,
    "start_time": "2024-11-17T16:36:23.198Z"
   },
   {
    "duration": 223,
    "start_time": "2024-11-17T16:36:23.457Z"
   },
   {
    "duration": 2571,
    "start_time": "2024-11-17T16:36:23.682Z"
   },
   {
    "duration": 4604,
    "start_time": "2024-11-17T16:36:26.255Z"
   },
   {
    "duration": 6,
    "start_time": "2024-11-17T16:36:30.861Z"
   },
   {
    "duration": 750,
    "start_time": "2024-11-17T16:36:30.868Z"
   },
   {
    "duration": 616,
    "start_time": "2024-11-17T16:36:31.621Z"
   },
   {
    "duration": 517,
    "start_time": "2024-11-17T16:36:32.238Z"
   },
   {
    "duration": 19,
    "start_time": "2024-11-17T16:36:32.756Z"
   },
   {
    "duration": 48,
    "start_time": "2024-11-17T16:36:32.776Z"
   },
   {
    "duration": 52,
    "start_time": "2024-11-17T16:36:32.827Z"
   },
   {
    "duration": 57,
    "start_time": "2024-11-17T16:36:32.880Z"
   },
   {
    "duration": 1667,
    "start_time": "2024-11-17T16:36:32.939Z"
   },
   {
    "duration": 4,
    "start_time": "2024-11-17T16:36:34.607Z"
   },
   {
    "duration": 21,
    "start_time": "2024-11-17T16:36:34.613Z"
   },
   {
    "duration": 17,
    "start_time": "2024-11-17T16:36:34.636Z"
   },
   {
    "duration": 14,
    "start_time": "2024-11-17T16:36:34.655Z"
   },
   {
    "duration": 23,
    "start_time": "2024-11-17T16:36:34.671Z"
   },
   {
    "duration": 34,
    "start_time": "2024-11-17T16:36:34.696Z"
   },
   {
    "duration": 2616,
    "start_time": "2024-11-17T16:36:34.732Z"
   },
   {
    "duration": 15,
    "start_time": "2024-11-17T16:36:37.350Z"
   },
   {
    "duration": 56,
    "start_time": "2024-11-17T16:36:37.367Z"
   },
   {
    "duration": 37,
    "start_time": "2024-11-17T16:36:37.425Z"
   },
   {
    "duration": 7908,
    "start_time": "2024-11-17T16:36:37.464Z"
   },
   {
    "duration": 355,
    "start_time": "2024-11-17T16:36:45.373Z"
   },
   {
    "duration": 306,
    "start_time": "2024-11-17T16:36:45.729Z"
   },
   {
    "duration": 28426,
    "start_time": "2024-12-02T17:19:30.560Z"
   }
  ],
  "colab": {
   "provenance": []
  },
  "kernelspec": {
   "display_name": "base",
   "language": "python",
   "name": "python3"
  },
  "language_info": {
   "codemirror_mode": {
    "name": "ipython",
    "version": 3
   },
   "file_extension": ".py",
   "mimetype": "text/x-python",
   "name": "python",
   "nbconvert_exporter": "python",
   "pygments_lexer": "ipython3",
   "version": "3.8.8"
  },
  "toc": {
   "base_numbering": 1,
   "nav_menu": {},
   "number_sections": true,
   "sideBar": true,
   "skip_h1_title": true,
   "title_cell": "Table of Contents",
   "title_sidebar": "Contents",
   "toc_cell": false,
   "toc_position": {},
   "toc_section_display": true,
   "toc_window_display": false
  }
 },
 "nbformat": 4,
 "nbformat_minor": 1
}
